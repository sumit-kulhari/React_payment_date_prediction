{
  "cells": [
    {
      "cell_type": "markdown",
      "id": "wcq6dWzy1ZR0",
      "metadata": {
        "id": "wcq6dWzy1ZR0"
      },
      "source": [
        "# Payment Date Prediction "
      ]
    },
    {
      "cell_type": "markdown",
      "id": "2778654e",
      "metadata": {
        "id": "2778654e"
      },
      "source": [
        "\n",
        "### Importing related Libraries "
      ]
    },
    {
      "cell_type": "code",
      "execution_count": 7,
      "id": "304c9e38",
      "metadata": {
        "id": "304c9e38"
      },
      "outputs": [],
      "source": [
        "# Importing Libraries\n",
        "import pandas as pd\n",
        "import numpy as np\n",
        "import  matplotlib.pyplot as plt\n",
        "import seaborn as sns\n",
        "import sklearn\n",
        "import statistics\n",
        "import pickle\n",
        "import xgboost as xgb\n",
        "\n",
        "import warnings\n",
        "warnings.filterwarnings('ignore')\n",
        "%matplotlib inline"
      ]
    },
    {
      "cell_type": "markdown",
      "id": "8724f5ee",
      "metadata": {
        "id": "8724f5ee"
      },
      "source": [
        "### Store the dataset into the Dataframe\n"
      ]
    },
    {
      "cell_type": "code",
      "execution_count": 8,
      "id": "415db50a",
      "metadata": {
        "colab": {
          "base_uri": "https://localhost:8080/",
          "height": 357
        },
        "id": "415db50a",
        "outputId": "92e73732-0e0f-4f4e-fc18-4e53190b7670"
      },
      "outputs": [
        {
          "data": {
            "text/html": [
              "<div>\n",
              "<style scoped>\n",
              "    .dataframe tbody tr th:only-of-type {\n",
              "        vertical-align: middle;\n",
              "    }\n",
              "\n",
              "    .dataframe tbody tr th {\n",
              "        vertical-align: top;\n",
              "    }\n",
              "\n",
              "    .dataframe thead th {\n",
              "        text-align: right;\n",
              "    }\n",
              "</style>\n",
              "<table border=\"1\" class=\"dataframe\">\n",
              "  <thead>\n",
              "    <tr style=\"text-align: right;\">\n",
              "      <th></th>\n",
              "      <th>business_code</th>\n",
              "      <th>cust_number</th>\n",
              "      <th>name_customer</th>\n",
              "      <th>clear_date</th>\n",
              "      <th>buisness_year</th>\n",
              "      <th>doc_id</th>\n",
              "      <th>posting_date</th>\n",
              "      <th>document_create_date</th>\n",
              "      <th>document_create_date.1</th>\n",
              "      <th>due_in_date</th>\n",
              "      <th>invoice_currency</th>\n",
              "      <th>document type</th>\n",
              "      <th>posting_id</th>\n",
              "      <th>area_business</th>\n",
              "      <th>total_open_amount</th>\n",
              "      <th>baseline_create_date</th>\n",
              "      <th>cust_payment_terms</th>\n",
              "      <th>invoice_id</th>\n",
              "      <th>isOpen</th>\n",
              "    </tr>\n",
              "  </thead>\n",
              "  <tbody>\n",
              "    <tr>\n",
              "      <th>0</th>\n",
              "      <td>U001</td>\n",
              "      <td>200769623</td>\n",
              "      <td>WAL-MAR corp</td>\n",
              "      <td>11-02-2020 00:00</td>\n",
              "      <td>2020</td>\n",
              "      <td>1930438491</td>\n",
              "      <td>26-01-2020</td>\n",
              "      <td>20200125</td>\n",
              "      <td>20200126</td>\n",
              "      <td>20200210</td>\n",
              "      <td>USD</td>\n",
              "      <td>RV</td>\n",
              "      <td>1</td>\n",
              "      <td>NaN</td>\n",
              "      <td>54273.28</td>\n",
              "      <td>20200126</td>\n",
              "      <td>NAH4</td>\n",
              "      <td>1.930438e+09</td>\n",
              "      <td>0</td>\n",
              "    </tr>\n",
              "    <tr>\n",
              "      <th>1</th>\n",
              "      <td>U001</td>\n",
              "      <td>200980828</td>\n",
              "      <td>BEN E</td>\n",
              "      <td>08-08-2019 00:00</td>\n",
              "      <td>2019</td>\n",
              "      <td>1929646410</td>\n",
              "      <td>22-07-2019</td>\n",
              "      <td>20190722</td>\n",
              "      <td>20190722</td>\n",
              "      <td>20190811</td>\n",
              "      <td>USD</td>\n",
              "      <td>RV</td>\n",
              "      <td>1</td>\n",
              "      <td>NaN</td>\n",
              "      <td>79656.60</td>\n",
              "      <td>20190722</td>\n",
              "      <td>NAD1</td>\n",
              "      <td>1.929646e+09</td>\n",
              "      <td>0</td>\n",
              "    </tr>\n",
              "    <tr>\n",
              "      <th>2</th>\n",
              "      <td>U001</td>\n",
              "      <td>200792734</td>\n",
              "      <td>MDV/ trust</td>\n",
              "      <td>30-12-2019 00:00</td>\n",
              "      <td>2019</td>\n",
              "      <td>1929873765</td>\n",
              "      <td>14-09-2019</td>\n",
              "      <td>20190914</td>\n",
              "      <td>20190914</td>\n",
              "      <td>20190929</td>\n",
              "      <td>USD</td>\n",
              "      <td>RV</td>\n",
              "      <td>1</td>\n",
              "      <td>NaN</td>\n",
              "      <td>2253.86</td>\n",
              "      <td>20190914</td>\n",
              "      <td>NAA8</td>\n",
              "      <td>1.929874e+09</td>\n",
              "      <td>0</td>\n",
              "    </tr>\n",
              "    <tr>\n",
              "      <th>3</th>\n",
              "      <td>CA02</td>\n",
              "      <td>140105686</td>\n",
              "      <td>SYSC llc</td>\n",
              "      <td>NaN</td>\n",
              "      <td>2020</td>\n",
              "      <td>2960623488</td>\n",
              "      <td>30-03-2020</td>\n",
              "      <td>20200330</td>\n",
              "      <td>20200330</td>\n",
              "      <td>20200410</td>\n",
              "      <td>CAD</td>\n",
              "      <td>RV</td>\n",
              "      <td>1</td>\n",
              "      <td>NaN</td>\n",
              "      <td>3299.70</td>\n",
              "      <td>20200331</td>\n",
              "      <td>CA10</td>\n",
              "      <td>2.960623e+09</td>\n",
              "      <td>1</td>\n",
              "    </tr>\n",
              "    <tr>\n",
              "      <th>4</th>\n",
              "      <td>U001</td>\n",
              "      <td>200769623</td>\n",
              "      <td>WAL-MAR foundation</td>\n",
              "      <td>25-11-2019 00:00</td>\n",
              "      <td>2019</td>\n",
              "      <td>1930147974</td>\n",
              "      <td>13-11-2019</td>\n",
              "      <td>20191113</td>\n",
              "      <td>20191113</td>\n",
              "      <td>20191128</td>\n",
              "      <td>USD</td>\n",
              "      <td>RV</td>\n",
              "      <td>1</td>\n",
              "      <td>NaN</td>\n",
              "      <td>33133.29</td>\n",
              "      <td>20191113</td>\n",
              "      <td>NAH4</td>\n",
              "      <td>1.930148e+09</td>\n",
              "      <td>0</td>\n",
              "    </tr>\n",
              "  </tbody>\n",
              "</table>\n",
              "</div>"
            ],
            "text/plain": [
              "  business_code cust_number       name_customer        clear_date  \\\n",
              "0          U001   200769623        WAL-MAR corp  11-02-2020 00:00   \n",
              "1          U001   200980828              BEN E   08-08-2019 00:00   \n",
              "2          U001   200792734          MDV/ trust  30-12-2019 00:00   \n",
              "3          CA02   140105686            SYSC llc               NaN   \n",
              "4          U001   200769623  WAL-MAR foundation  25-11-2019 00:00   \n",
              "\n",
              "   buisness_year      doc_id posting_date  document_create_date  \\\n",
              "0           2020  1930438491   26-01-2020              20200125   \n",
              "1           2019  1929646410   22-07-2019              20190722   \n",
              "2           2019  1929873765   14-09-2019              20190914   \n",
              "3           2020  2960623488   30-03-2020              20200330   \n",
              "4           2019  1930147974   13-11-2019              20191113   \n",
              "\n",
              "   document_create_date.1  due_in_date invoice_currency document type  \\\n",
              "0                20200126     20200210              USD            RV   \n",
              "1                20190722     20190811              USD            RV   \n",
              "2                20190914     20190929              USD            RV   \n",
              "3                20200330     20200410              CAD            RV   \n",
              "4                20191113     20191128              USD            RV   \n",
              "\n",
              "   posting_id  area_business  total_open_amount  baseline_create_date  \\\n",
              "0           1            NaN           54273.28              20200126   \n",
              "1           1            NaN           79656.60              20190722   \n",
              "2           1            NaN            2253.86              20190914   \n",
              "3           1            NaN            3299.70              20200331   \n",
              "4           1            NaN           33133.29              20191113   \n",
              "\n",
              "  cust_payment_terms    invoice_id  isOpen  \n",
              "0               NAH4  1.930438e+09       0  \n",
              "1               NAD1  1.929646e+09       0  \n",
              "2               NAA8  1.929874e+09       0  \n",
              "3               CA10  2.960623e+09       1  \n",
              "4               NAH4  1.930148e+09       0  "
            ]
          },
          "execution_count": 8,
          "metadata": {},
          "output_type": "execute_result"
        }
      ],
      "source": [
        "df = pd.read_csv(r'C:\\Users\\sumit\\Documents\\Project\\dataset.csv')\n",
        "df.head()"
      ]
    },
    {
      "cell_type": "markdown",
      "id": "42e37f05",
      "metadata": {
        "id": "42e37f05"
      },
      "source": [
        "### Check the shape of the dataframe\n"
      ]
    },
    {
      "cell_type": "code",
      "execution_count": 9,
      "id": "27cc0907",
      "metadata": {
        "colab": {
          "base_uri": "https://localhost:8080/"
        },
        "id": "27cc0907",
        "outputId": "69dbe4fc-5973-4f0f-bcd6-952718f414bc"
      },
      "outputs": [
        {
          "data": {
            "text/plain": [
              "(50099, 19)"
            ]
          },
          "execution_count": 9,
          "metadata": {},
          "output_type": "execute_result"
        }
      ],
      "source": [
        "df.shape"
      ]
    },
    {
      "cell_type": "markdown",
      "id": "b68c955d",
      "metadata": {
        "id": "b68c955d"
      },
      "source": [
        "### Check the Detail information of the dataframe"
      ]
    },
    {
      "cell_type": "code",
      "execution_count": 10,
      "id": "e092ec9e",
      "metadata": {
        "colab": {
          "base_uri": "https://localhost:8080/"
        },
        "id": "e092ec9e",
        "outputId": "66df750a-3a59-4a46-aa6f-1d47f1362fc0"
      },
      "outputs": [
        {
          "name": "stdout",
          "output_type": "stream",
          "text": [
            "<class 'pandas.core.frame.DataFrame'>\n",
            "RangeIndex: 50099 entries, 0 to 50098\n",
            "Data columns (total 19 columns):\n",
            " #   Column                  Non-Null Count  Dtype  \n",
            "---  ------                  --------------  -----  \n",
            " 0   business_code           50099 non-null  object \n",
            " 1   cust_number             50099 non-null  object \n",
            " 2   name_customer           50099 non-null  object \n",
            " 3   clear_date              40000 non-null  object \n",
            " 4   buisness_year           50099 non-null  int64  \n",
            " 5   doc_id                  50099 non-null  int64  \n",
            " 6   posting_date            50099 non-null  object \n",
            " 7   document_create_date    50099 non-null  int64  \n",
            " 8   document_create_date.1  50099 non-null  int64  \n",
            " 9   due_in_date             50099 non-null  int64  \n",
            " 10  invoice_currency        50099 non-null  object \n",
            " 11  document type           50099 non-null  object \n",
            " 12  posting_id              50099 non-null  int64  \n",
            " 13  area_business           0 non-null      float64\n",
            " 14  total_open_amount       50099 non-null  float64\n",
            " 15  baseline_create_date    50099 non-null  int64  \n",
            " 16  cust_payment_terms      50099 non-null  object \n",
            " 17  invoice_id              50093 non-null  float64\n",
            " 18  isOpen                  50099 non-null  int64  \n",
            "dtypes: float64(3), int64(8), object(8)\n",
            "memory usage: 7.3+ MB\n"
          ]
        }
      ],
      "source": [
        "df.info()"
      ]
    },
    {
      "cell_type": "markdown",
      "id": "112f2d0e",
      "metadata": {
        "id": "112f2d0e"
      },
      "source": [
        "### Display All the column names"
      ]
    },
    {
      "cell_type": "code",
      "execution_count": 11,
      "id": "1416e2fd",
      "metadata": {
        "colab": {
          "base_uri": "https://localhost:8080/"
        },
        "id": "1416e2fd",
        "outputId": "0ed6eef0-3d71-47b1-97af-dce116bd6a8c"
      },
      "outputs": [
        {
          "data": {
            "text/plain": [
              "Index(['business_code', 'cust_number', 'name_customer', 'clear_date',\n",
              "       'buisness_year', 'doc_id', 'posting_date', 'document_create_date',\n",
              "       'document_create_date.1', 'due_in_date', 'invoice_currency',\n",
              "       'document type', 'posting_id', 'area_business', 'total_open_amount',\n",
              "       'baseline_create_date', 'cust_payment_terms', 'invoice_id', 'isOpen'],\n",
              "      dtype='object')"
            ]
          },
          "execution_count": 11,
          "metadata": {},
          "output_type": "execute_result"
        }
      ],
      "source": [
        "df.columns"
      ]
    },
    {
      "cell_type": "markdown",
      "id": "d465ed7a",
      "metadata": {
        "id": "d465ed7a"
      },
      "source": [
        "### Describe the entire dataset"
      ]
    },
    {
      "cell_type": "code",
      "execution_count": 12,
      "id": "25f65e1b",
      "metadata": {
        "colab": {
          "base_uri": "https://localhost:8080/",
          "height": 364
        },
        "id": "25f65e1b",
        "outputId": "8b9de3ff-321f-4660-8ea1-84aa0d745663"
      },
      "outputs": [
        {
          "data": {
            "text/html": [
              "<div>\n",
              "<style scoped>\n",
              "    .dataframe tbody tr th:only-of-type {\n",
              "        vertical-align: middle;\n",
              "    }\n",
              "\n",
              "    .dataframe tbody tr th {\n",
              "        vertical-align: top;\n",
              "    }\n",
              "\n",
              "    .dataframe thead th {\n",
              "        text-align: right;\n",
              "    }\n",
              "</style>\n",
              "<table border=\"1\" class=\"dataframe\">\n",
              "  <thead>\n",
              "    <tr style=\"text-align: right;\">\n",
              "      <th></th>\n",
              "      <th>buisness_year</th>\n",
              "      <th>doc_id</th>\n",
              "      <th>document_create_date</th>\n",
              "      <th>document_create_date.1</th>\n",
              "      <th>due_in_date</th>\n",
              "      <th>posting_id</th>\n",
              "      <th>area_business</th>\n",
              "      <th>total_open_amount</th>\n",
              "      <th>baseline_create_date</th>\n",
              "      <th>invoice_id</th>\n",
              "      <th>isOpen</th>\n",
              "    </tr>\n",
              "  </thead>\n",
              "  <tbody>\n",
              "    <tr>\n",
              "      <th>count</th>\n",
              "      <td>50099.000000</td>\n",
              "      <td>5.009900e+04</td>\n",
              "      <td>5.009900e+04</td>\n",
              "      <td>5.009900e+04</td>\n",
              "      <td>5.009900e+04</td>\n",
              "      <td>50099.0</td>\n",
              "      <td>0.0</td>\n",
              "      <td>50099.000000</td>\n",
              "      <td>5.009900e+04</td>\n",
              "      <td>5.009300e+04</td>\n",
              "      <td>50099.000000</td>\n",
              "    </tr>\n",
              "    <tr>\n",
              "      <th>mean</th>\n",
              "      <td>2019.307072</td>\n",
              "      <td>2.014112e+09</td>\n",
              "      <td>2.019353e+07</td>\n",
              "      <td>2.019355e+07</td>\n",
              "      <td>2.019369e+07</td>\n",
              "      <td>1.0</td>\n",
              "      <td>NaN</td>\n",
              "      <td>32456.565546</td>\n",
              "      <td>2.019355e+07</td>\n",
              "      <td>2.013216e+09</td>\n",
              "      <td>0.201581</td>\n",
              "    </tr>\n",
              "    <tr>\n",
              "      <th>std</th>\n",
              "      <td>0.461284</td>\n",
              "      <td>2.912992e+08</td>\n",
              "      <td>4.501712e+03</td>\n",
              "      <td>4.487779e+03</td>\n",
              "      <td>4.475909e+03</td>\n",
              "      <td>0.0</td>\n",
              "      <td>NaN</td>\n",
              "      <td>39259.249400</td>\n",
              "      <td>4.488339e+03</td>\n",
              "      <td>2.795573e+08</td>\n",
              "      <td>0.401185</td>\n",
              "    </tr>\n",
              "    <tr>\n",
              "      <th>min</th>\n",
              "      <td>2019.000000</td>\n",
              "      <td>1.928502e+09</td>\n",
              "      <td>2.018123e+07</td>\n",
              "      <td>2.018123e+07</td>\n",
              "      <td>2.018122e+07</td>\n",
              "      <td>1.0</td>\n",
              "      <td>NaN</td>\n",
              "      <td>0.720000</td>\n",
              "      <td>2.018121e+07</td>\n",
              "      <td>1.928502e+09</td>\n",
              "      <td>0.000000</td>\n",
              "    </tr>\n",
              "    <tr>\n",
              "      <th>25%</th>\n",
              "      <td>2019.000000</td>\n",
              "      <td>1.929343e+09</td>\n",
              "      <td>2.019051e+07</td>\n",
              "      <td>2.019051e+07</td>\n",
              "      <td>2.019052e+07</td>\n",
              "      <td>1.0</td>\n",
              "      <td>NaN</td>\n",
              "      <td>4943.480000</td>\n",
              "      <td>2.019051e+07</td>\n",
              "      <td>1.929343e+09</td>\n",
              "      <td>0.000000</td>\n",
              "    </tr>\n",
              "    <tr>\n",
              "      <th>50%</th>\n",
              "      <td>2019.000000</td>\n",
              "      <td>1.929968e+09</td>\n",
              "      <td>2.019091e+07</td>\n",
              "      <td>2.019091e+07</td>\n",
              "      <td>2.019093e+07</td>\n",
              "      <td>1.0</td>\n",
              "      <td>NaN</td>\n",
              "      <td>17700.000000</td>\n",
              "      <td>2.019091e+07</td>\n",
              "      <td>1.929968e+09</td>\n",
              "      <td>0.000000</td>\n",
              "    </tr>\n",
              "    <tr>\n",
              "      <th>75%</th>\n",
              "      <td>2020.000000</td>\n",
              "      <td>1.930621e+09</td>\n",
              "      <td>2.020013e+07</td>\n",
              "      <td>2.020013e+07</td>\n",
              "      <td>2.020022e+07</td>\n",
              "      <td>1.0</td>\n",
              "      <td>NaN</td>\n",
              "      <td>47385.590000</td>\n",
              "      <td>2.020013e+07</td>\n",
              "      <td>1.930621e+09</td>\n",
              "      <td>0.000000</td>\n",
              "    </tr>\n",
              "    <tr>\n",
              "      <th>max</th>\n",
              "      <td>2020.000000</td>\n",
              "      <td>9.500000e+09</td>\n",
              "      <td>2.020052e+07</td>\n",
              "      <td>2.020052e+07</td>\n",
              "      <td>2.020071e+07</td>\n",
              "      <td>1.0</td>\n",
              "      <td>NaN</td>\n",
              "      <td>668593.360000</td>\n",
              "      <td>2.020052e+07</td>\n",
              "      <td>2.960636e+09</td>\n",
              "      <td>1.000000</td>\n",
              "    </tr>\n",
              "  </tbody>\n",
              "</table>\n",
              "</div>"
            ],
            "text/plain": [
              "       buisness_year        doc_id  document_create_date  \\\n",
              "count   50099.000000  5.009900e+04          5.009900e+04   \n",
              "mean     2019.307072  2.014112e+09          2.019353e+07   \n",
              "std         0.461284  2.912992e+08          4.501712e+03   \n",
              "min      2019.000000  1.928502e+09          2.018123e+07   \n",
              "25%      2019.000000  1.929343e+09          2.019051e+07   \n",
              "50%      2019.000000  1.929968e+09          2.019091e+07   \n",
              "75%      2020.000000  1.930621e+09          2.020013e+07   \n",
              "max      2020.000000  9.500000e+09          2.020052e+07   \n",
              "\n",
              "       document_create_date.1   due_in_date  posting_id  area_business  \\\n",
              "count            5.009900e+04  5.009900e+04     50099.0            0.0   \n",
              "mean             2.019355e+07  2.019369e+07         1.0            NaN   \n",
              "std              4.487779e+03  4.475909e+03         0.0            NaN   \n",
              "min              2.018123e+07  2.018122e+07         1.0            NaN   \n",
              "25%              2.019051e+07  2.019052e+07         1.0            NaN   \n",
              "50%              2.019091e+07  2.019093e+07         1.0            NaN   \n",
              "75%              2.020013e+07  2.020022e+07         1.0            NaN   \n",
              "max              2.020052e+07  2.020071e+07         1.0            NaN   \n",
              "\n",
              "       total_open_amount  baseline_create_date    invoice_id        isOpen  \n",
              "count       50099.000000          5.009900e+04  5.009300e+04  50099.000000  \n",
              "mean        32456.565546          2.019355e+07  2.013216e+09      0.201581  \n",
              "std         39259.249400          4.488339e+03  2.795573e+08      0.401185  \n",
              "min             0.720000          2.018121e+07  1.928502e+09      0.000000  \n",
              "25%          4943.480000          2.019051e+07  1.929343e+09      0.000000  \n",
              "50%         17700.000000          2.019091e+07  1.929968e+09      0.000000  \n",
              "75%         47385.590000          2.020013e+07  1.930621e+09      0.000000  \n",
              "max        668593.360000          2.020052e+07  2.960636e+09      1.000000  "
            ]
          },
          "execution_count": 12,
          "metadata": {},
          "output_type": "execute_result"
        }
      ],
      "source": [
        "df.describe()"
      ]
    },
    {
      "cell_type": "markdown",
      "id": "0f2c8d02",
      "metadata": {
        "id": "0f2c8d02"
      },
      "source": [
        "# Data Cleaning\n",
        "\n",
        "- Show top 5 records from the dataset"
      ]
    },
    {
      "cell_type": "code",
      "execution_count": 13,
      "id": "8f876212",
      "metadata": {
        "colab": {
          "base_uri": "https://localhost:8080/",
          "height": 357
        },
        "id": "8f876212",
        "outputId": "cabf6ba6-275b-4064-da33-9b34c738edf5"
      },
      "outputs": [
        {
          "data": {
            "text/html": [
              "<div>\n",
              "<style scoped>\n",
              "    .dataframe tbody tr th:only-of-type {\n",
              "        vertical-align: middle;\n",
              "    }\n",
              "\n",
              "    .dataframe tbody tr th {\n",
              "        vertical-align: top;\n",
              "    }\n",
              "\n",
              "    .dataframe thead th {\n",
              "        text-align: right;\n",
              "    }\n",
              "</style>\n",
              "<table border=\"1\" class=\"dataframe\">\n",
              "  <thead>\n",
              "    <tr style=\"text-align: right;\">\n",
              "      <th></th>\n",
              "      <th>business_code</th>\n",
              "      <th>cust_number</th>\n",
              "      <th>name_customer</th>\n",
              "      <th>clear_date</th>\n",
              "      <th>buisness_year</th>\n",
              "      <th>doc_id</th>\n",
              "      <th>posting_date</th>\n",
              "      <th>document_create_date</th>\n",
              "      <th>document_create_date.1</th>\n",
              "      <th>due_in_date</th>\n",
              "      <th>invoice_currency</th>\n",
              "      <th>document type</th>\n",
              "      <th>posting_id</th>\n",
              "      <th>area_business</th>\n",
              "      <th>total_open_amount</th>\n",
              "      <th>baseline_create_date</th>\n",
              "      <th>cust_payment_terms</th>\n",
              "      <th>invoice_id</th>\n",
              "      <th>isOpen</th>\n",
              "    </tr>\n",
              "  </thead>\n",
              "  <tbody>\n",
              "    <tr>\n",
              "      <th>0</th>\n",
              "      <td>U001</td>\n",
              "      <td>200769623</td>\n",
              "      <td>WAL-MAR corp</td>\n",
              "      <td>11-02-2020 00:00</td>\n",
              "      <td>2020</td>\n",
              "      <td>1930438491</td>\n",
              "      <td>26-01-2020</td>\n",
              "      <td>20200125</td>\n",
              "      <td>20200126</td>\n",
              "      <td>20200210</td>\n",
              "      <td>USD</td>\n",
              "      <td>RV</td>\n",
              "      <td>1</td>\n",
              "      <td>NaN</td>\n",
              "      <td>54273.28</td>\n",
              "      <td>20200126</td>\n",
              "      <td>NAH4</td>\n",
              "      <td>1.930438e+09</td>\n",
              "      <td>0</td>\n",
              "    </tr>\n",
              "    <tr>\n",
              "      <th>1</th>\n",
              "      <td>U001</td>\n",
              "      <td>200980828</td>\n",
              "      <td>BEN E</td>\n",
              "      <td>08-08-2019 00:00</td>\n",
              "      <td>2019</td>\n",
              "      <td>1929646410</td>\n",
              "      <td>22-07-2019</td>\n",
              "      <td>20190722</td>\n",
              "      <td>20190722</td>\n",
              "      <td>20190811</td>\n",
              "      <td>USD</td>\n",
              "      <td>RV</td>\n",
              "      <td>1</td>\n",
              "      <td>NaN</td>\n",
              "      <td>79656.60</td>\n",
              "      <td>20190722</td>\n",
              "      <td>NAD1</td>\n",
              "      <td>1.929646e+09</td>\n",
              "      <td>0</td>\n",
              "    </tr>\n",
              "    <tr>\n",
              "      <th>2</th>\n",
              "      <td>U001</td>\n",
              "      <td>200792734</td>\n",
              "      <td>MDV/ trust</td>\n",
              "      <td>30-12-2019 00:00</td>\n",
              "      <td>2019</td>\n",
              "      <td>1929873765</td>\n",
              "      <td>14-09-2019</td>\n",
              "      <td>20190914</td>\n",
              "      <td>20190914</td>\n",
              "      <td>20190929</td>\n",
              "      <td>USD</td>\n",
              "      <td>RV</td>\n",
              "      <td>1</td>\n",
              "      <td>NaN</td>\n",
              "      <td>2253.86</td>\n",
              "      <td>20190914</td>\n",
              "      <td>NAA8</td>\n",
              "      <td>1.929874e+09</td>\n",
              "      <td>0</td>\n",
              "    </tr>\n",
              "    <tr>\n",
              "      <th>3</th>\n",
              "      <td>CA02</td>\n",
              "      <td>140105686</td>\n",
              "      <td>SYSC llc</td>\n",
              "      <td>NaN</td>\n",
              "      <td>2020</td>\n",
              "      <td>2960623488</td>\n",
              "      <td>30-03-2020</td>\n",
              "      <td>20200330</td>\n",
              "      <td>20200330</td>\n",
              "      <td>20200410</td>\n",
              "      <td>CAD</td>\n",
              "      <td>RV</td>\n",
              "      <td>1</td>\n",
              "      <td>NaN</td>\n",
              "      <td>3299.70</td>\n",
              "      <td>20200331</td>\n",
              "      <td>CA10</td>\n",
              "      <td>2.960623e+09</td>\n",
              "      <td>1</td>\n",
              "    </tr>\n",
              "    <tr>\n",
              "      <th>4</th>\n",
              "      <td>U001</td>\n",
              "      <td>200769623</td>\n",
              "      <td>WAL-MAR foundation</td>\n",
              "      <td>25-11-2019 00:00</td>\n",
              "      <td>2019</td>\n",
              "      <td>1930147974</td>\n",
              "      <td>13-11-2019</td>\n",
              "      <td>20191113</td>\n",
              "      <td>20191113</td>\n",
              "      <td>20191128</td>\n",
              "      <td>USD</td>\n",
              "      <td>RV</td>\n",
              "      <td>1</td>\n",
              "      <td>NaN</td>\n",
              "      <td>33133.29</td>\n",
              "      <td>20191113</td>\n",
              "      <td>NAH4</td>\n",
              "      <td>1.930148e+09</td>\n",
              "      <td>0</td>\n",
              "    </tr>\n",
              "  </tbody>\n",
              "</table>\n",
              "</div>"
            ],
            "text/plain": [
              "  business_code cust_number       name_customer        clear_date  \\\n",
              "0          U001   200769623        WAL-MAR corp  11-02-2020 00:00   \n",
              "1          U001   200980828              BEN E   08-08-2019 00:00   \n",
              "2          U001   200792734          MDV/ trust  30-12-2019 00:00   \n",
              "3          CA02   140105686            SYSC llc               NaN   \n",
              "4          U001   200769623  WAL-MAR foundation  25-11-2019 00:00   \n",
              "\n",
              "   buisness_year      doc_id posting_date  document_create_date  \\\n",
              "0           2020  1930438491   26-01-2020              20200125   \n",
              "1           2019  1929646410   22-07-2019              20190722   \n",
              "2           2019  1929873765   14-09-2019              20190914   \n",
              "3           2020  2960623488   30-03-2020              20200330   \n",
              "4           2019  1930147974   13-11-2019              20191113   \n",
              "\n",
              "   document_create_date.1  due_in_date invoice_currency document type  \\\n",
              "0                20200126     20200210              USD            RV   \n",
              "1                20190722     20190811              USD            RV   \n",
              "2                20190914     20190929              USD            RV   \n",
              "3                20200330     20200410              CAD            RV   \n",
              "4                20191113     20191128              USD            RV   \n",
              "\n",
              "   posting_id  area_business  total_open_amount  baseline_create_date  \\\n",
              "0           1            NaN           54273.28              20200126   \n",
              "1           1            NaN           79656.60              20190722   \n",
              "2           1            NaN            2253.86              20190914   \n",
              "3           1            NaN            3299.70              20200331   \n",
              "4           1            NaN           33133.29              20191113   \n",
              "\n",
              "  cust_payment_terms    invoice_id  isOpen  \n",
              "0               NAH4  1.930438e+09       0  \n",
              "1               NAD1  1.929646e+09       0  \n",
              "2               NAA8  1.929874e+09       0  \n",
              "3               CA10  2.960623e+09       1  \n",
              "4               NAH4  1.930148e+09       0  "
            ]
          },
          "execution_count": 13,
          "metadata": {},
          "output_type": "execute_result"
        }
      ],
      "source": [
        "df.head()"
      ]
    },
    {
      "cell_type": "markdown",
      "id": "92b044e4",
      "metadata": {
        "id": "92b044e4"
      },
      "source": [
        "### Display the Null values percentage against every columns (compare to the total number of records)\n",
        "\n",
        "- Output expected : area_business - 100% null, clear_data = 20% null, invoice_id = 0.12% null"
      ]
    },
    {
      "cell_type": "code",
      "execution_count": 14,
      "id": "24c7b13d",
      "metadata": {
        "colab": {
          "base_uri": "https://localhost:8080/"
        },
        "id": "24c7b13d",
        "outputId": "e3d0b443-d3c3-4758-aa84-0ce545a9f330"
      },
      "outputs": [
        {
          "data": {
            "text/plain": [
              "business_code               0.000000\n",
              "cust_number                 0.000000\n",
              "name_customer               0.000000\n",
              "clear_date                 20.158087\n",
              "buisness_year               0.000000\n",
              "doc_id                      0.000000\n",
              "posting_date                0.000000\n",
              "document_create_date        0.000000\n",
              "document_create_date.1      0.000000\n",
              "due_in_date                 0.000000\n",
              "invoice_currency            0.000000\n",
              "document type               0.000000\n",
              "posting_id                  0.000000\n",
              "area_business             100.000000\n",
              "total_open_amount           0.000000\n",
              "baseline_create_date        0.000000\n",
              "cust_payment_terms          0.000000\n",
              "invoice_id                  0.011976\n",
              "isOpen                      0.000000\n",
              "dtype: float64"
            ]
          },
          "execution_count": 14,
          "metadata": {},
          "output_type": "execute_result"
        }
      ],
      "source": [
        "df.isna().mean()*100"
      ]
    },
    {
      "cell_type": "markdown",
      "id": "2c46a98b",
      "metadata": {
        "id": "2c46a98b"
      },
      "source": [
        "### Display Invoice_id and Doc_Id\n",
        "\n",
        "- Note - Many of the would have same invoice_id and doc_id\n"
      ]
    },
    {
      "cell_type": "code",
      "execution_count": 15,
      "id": "038f24bb",
      "metadata": {
        "colab": {
          "base_uri": "https://localhost:8080/",
          "height": 423
        },
        "id": "038f24bb",
        "outputId": "f684113e-4df7-4d4d-c0a0-c15b3e2450d7"
      },
      "outputs": [
        {
          "data": {
            "text/html": [
              "<div>\n",
              "<style scoped>\n",
              "    .dataframe tbody tr th:only-of-type {\n",
              "        vertical-align: middle;\n",
              "    }\n",
              "\n",
              "    .dataframe tbody tr th {\n",
              "        vertical-align: top;\n",
              "    }\n",
              "\n",
              "    .dataframe thead th {\n",
              "        text-align: right;\n",
              "    }\n",
              "</style>\n",
              "<table border=\"1\" class=\"dataframe\">\n",
              "  <thead>\n",
              "    <tr style=\"text-align: right;\">\n",
              "      <th></th>\n",
              "      <th>invoice_id</th>\n",
              "      <th>doc_id</th>\n",
              "    </tr>\n",
              "  </thead>\n",
              "  <tbody>\n",
              "    <tr>\n",
              "      <th>0</th>\n",
              "      <td>1.930438e+09</td>\n",
              "      <td>1930438491</td>\n",
              "    </tr>\n",
              "    <tr>\n",
              "      <th>1</th>\n",
              "      <td>1.929646e+09</td>\n",
              "      <td>1929646410</td>\n",
              "    </tr>\n",
              "    <tr>\n",
              "      <th>2</th>\n",
              "      <td>1.929874e+09</td>\n",
              "      <td>1929873765</td>\n",
              "    </tr>\n",
              "    <tr>\n",
              "      <th>3</th>\n",
              "      <td>2.960623e+09</td>\n",
              "      <td>2960623488</td>\n",
              "    </tr>\n",
              "    <tr>\n",
              "      <th>4</th>\n",
              "      <td>1.930148e+09</td>\n",
              "      <td>1930147974</td>\n",
              "    </tr>\n",
              "    <tr>\n",
              "      <th>...</th>\n",
              "      <td>...</td>\n",
              "      <td>...</td>\n",
              "    </tr>\n",
              "    <tr>\n",
              "      <th>50094</th>\n",
              "      <td>2.960619e+09</td>\n",
              "      <td>2960618884</td>\n",
              "    </tr>\n",
              "    <tr>\n",
              "      <th>50095</th>\n",
              "      <td>2.960619e+09</td>\n",
              "      <td>2960618885</td>\n",
              "    </tr>\n",
              "    <tr>\n",
              "      <th>50096</th>\n",
              "      <td>2.960619e+09</td>\n",
              "      <td>2960618886</td>\n",
              "    </tr>\n",
              "    <tr>\n",
              "      <th>50097</th>\n",
              "      <td>2.960619e+09</td>\n",
              "      <td>2960618887</td>\n",
              "    </tr>\n",
              "    <tr>\n",
              "      <th>50098</th>\n",
              "      <td>2.960619e+09</td>\n",
              "      <td>2960618888</td>\n",
              "    </tr>\n",
              "  </tbody>\n",
              "</table>\n",
              "<p>50099 rows × 2 columns</p>\n",
              "</div>"
            ],
            "text/plain": [
              "         invoice_id      doc_id\n",
              "0      1.930438e+09  1930438491\n",
              "1      1.929646e+09  1929646410\n",
              "2      1.929874e+09  1929873765\n",
              "3      2.960623e+09  2960623488\n",
              "4      1.930148e+09  1930147974\n",
              "...             ...         ...\n",
              "50094  2.960619e+09  2960618884\n",
              "50095  2.960619e+09  2960618885\n",
              "50096  2.960619e+09  2960618886\n",
              "50097  2.960619e+09  2960618887\n",
              "50098  2.960619e+09  2960618888\n",
              "\n",
              "[50099 rows x 2 columns]"
            ]
          },
          "execution_count": 15,
          "metadata": {},
          "output_type": "execute_result"
        }
      ],
      "source": [
        "df[['invoice_id','doc_id']]"
      ]
    },
    {
      "cell_type": "markdown",
      "id": "18cfe10a",
      "metadata": {
        "id": "18cfe10a"
      },
      "source": [
        "#### Write a code to check - 'baseline_create_date',\"document_create_date\",'document_create_date.1' - these columns are almost same.\n",
        "\n",
        "- Please note, if they are same, we need to drop them later\n",
        "\n"
      ]
    },
    {
      "cell_type": "code",
      "execution_count": 16,
      "id": "cf5b40ff",
      "metadata": {
        "colab": {
          "base_uri": "https://localhost:8080/"
        },
        "id": "cf5b40ff",
        "outputId": "b5afbadb-dc1f-4112-8a0f-d7dbfd096828"
      },
      "outputs": [
        {
          "data": {
            "text/plain": [
              "True     44247\n",
              "False     5852\n",
              "dtype: int64"
            ]
          },
          "execution_count": 16,
          "metadata": {},
          "output_type": "execute_result"
        }
      ],
      "source": [
        "df[['baseline_create_date','document_create_date','document_create_date.1']].duplicated().value_counts()"
      ]
    },
    {
      "cell_type": "markdown",
      "id": "33110576",
      "metadata": {
        "id": "33110576"
      },
      "source": [
        "#### Please check, Column 'posting_id' is constant columns or not\n"
      ]
    },
    {
      "cell_type": "code",
      "execution_count": 17,
      "id": "ecce2664",
      "metadata": {
        "colab": {
          "base_uri": "https://localhost:8080/"
        },
        "id": "ecce2664",
        "outputId": "5373be51-b9ed-4312-81bd-e47c56ac000c"
      },
      "outputs": [
        {
          "data": {
            "text/plain": [
              "1"
            ]
          },
          "execution_count": 17,
          "metadata": {},
          "output_type": "execute_result"
        }
      ],
      "source": [
        "df['posting_id'].nunique()"
      ]
    },
    {
      "cell_type": "markdown",
      "id": "e5fb8daf",
      "metadata": {
        "id": "e5fb8daf"
      },
      "source": [
        "#### Please check 'isOpen' is a constant column and relevant column for this project or not"
      ]
    },
    {
      "cell_type": "code",
      "execution_count": 18,
      "id": "8db9956b",
      "metadata": {
        "colab": {
          "base_uri": "https://localhost:8080/"
        },
        "id": "8db9956b",
        "outputId": "bdc8614e-d5c9-42e1-df69-5ff82404de16"
      },
      "outputs": [
        {
          "data": {
            "text/plain": [
              "0    40000\n",
              "1    10099\n",
              "Name: isOpen, dtype: int64"
            ]
          },
          "execution_count": 18,
          "metadata": {},
          "output_type": "execute_result"
        }
      ],
      "source": [
        "df['isOpen'].value_counts()"
      ]
    },
    {
      "cell_type": "markdown",
      "id": "45a11a62",
      "metadata": {
        "id": "45a11a62"
      },
      "source": [
        "### Write the code to drop all the following columns from the dataframe\n",
        "\n",
        "- 'area_business'\n",
        "- \"posting_id\"\n",
        "- \"invoice_id\"\n",
        "- \"document_create_date\"\n",
        "- \"isOpen\"\n",
        "- 'document type' \n",
        "- 'document_create_date.1"
      ]
    },
    {
      "cell_type": "code",
      "execution_count": 19,
      "id": "270d85d1",
      "metadata": {
        "id": "270d85d1"
      },
      "outputs": [],
      "source": [
        "df.drop(['area_business','posting_id','invoice_id','document_create_date','isOpen','document type','document_create_date.1'],axis=1,inplace=True)"
      ]
    },
    {
      "cell_type": "markdown",
      "id": "K5LHAM2XVGnk",
      "metadata": {
        "id": "K5LHAM2XVGnk"
      },
      "source": [
        "### Please check from the dataframe whether all the columns are removed or not "
      ]
    },
    {
      "cell_type": "code",
      "execution_count": 20,
      "id": "ef3f7d2b",
      "metadata": {
        "colab": {
          "base_uri": "https://localhost:8080/"
        },
        "id": "ef3f7d2b",
        "outputId": "86e6910f-487e-4e74-fdf5-f24c6606f3c3"
      },
      "outputs": [
        {
          "data": {
            "text/plain": [
              "Index(['business_code', 'cust_number', 'name_customer', 'clear_date',\n",
              "       'buisness_year', 'doc_id', 'posting_date', 'due_in_date',\n",
              "       'invoice_currency', 'total_open_amount', 'baseline_create_date',\n",
              "       'cust_payment_terms'],\n",
              "      dtype='object')"
            ]
          },
          "execution_count": 20,
          "metadata": {},
          "output_type": "execute_result"
        }
      ],
      "source": [
        "df.columns"
      ]
    },
    {
      "cell_type": "markdown",
      "id": "6bc052c7",
      "metadata": {
        "id": "6bc052c7"
      },
      "source": [
        "### Show all the Duplicate rows from the dataframe"
      ]
    },
    {
      "cell_type": "code",
      "execution_count": 21,
      "id": "1ae3c7e4",
      "metadata": {
        "colab": {
          "base_uri": "https://localhost:8080/",
          "height": 644
        },
        "id": "1ae3c7e4",
        "outputId": "3f15a97e-7762-4abc-bf2b-a8687a8bf743"
      },
      "outputs": [
        {
          "data": {
            "text/html": [
              "<div>\n",
              "<style scoped>\n",
              "    .dataframe tbody tr th:only-of-type {\n",
              "        vertical-align: middle;\n",
              "    }\n",
              "\n",
              "    .dataframe tbody tr th {\n",
              "        vertical-align: top;\n",
              "    }\n",
              "\n",
              "    .dataframe thead th {\n",
              "        text-align: right;\n",
              "    }\n",
              "</style>\n",
              "<table border=\"1\" class=\"dataframe\">\n",
              "  <thead>\n",
              "    <tr style=\"text-align: right;\">\n",
              "      <th></th>\n",
              "      <th>business_code</th>\n",
              "      <th>cust_number</th>\n",
              "      <th>name_customer</th>\n",
              "      <th>clear_date</th>\n",
              "      <th>buisness_year</th>\n",
              "      <th>doc_id</th>\n",
              "      <th>posting_date</th>\n",
              "      <th>due_in_date</th>\n",
              "      <th>invoice_currency</th>\n",
              "      <th>total_open_amount</th>\n",
              "      <th>baseline_create_date</th>\n",
              "      <th>cust_payment_terms</th>\n",
              "    </tr>\n",
              "  </thead>\n",
              "  <tbody>\n",
              "    <tr>\n",
              "      <th>1041</th>\n",
              "      <td>U001</td>\n",
              "      <td>200769623</td>\n",
              "      <td>WAL-MAR in</td>\n",
              "      <td>12-03-2019 00:00</td>\n",
              "      <td>2019</td>\n",
              "      <td>1928870382</td>\n",
              "      <td>28-02-2019</td>\n",
              "      <td>20190315</td>\n",
              "      <td>USD</td>\n",
              "      <td>19557.41</td>\n",
              "      <td>20190228</td>\n",
              "      <td>NAH4</td>\n",
              "    </tr>\n",
              "    <tr>\n",
              "      <th>2400</th>\n",
              "      <td>U001</td>\n",
              "      <td>200769623</td>\n",
              "      <td>WAL-MAR trust</td>\n",
              "      <td>28-08-2019 00:00</td>\n",
              "      <td>2019</td>\n",
              "      <td>1929758460</td>\n",
              "      <td>18-08-2019</td>\n",
              "      <td>20190902</td>\n",
              "      <td>USD</td>\n",
              "      <td>5600.41</td>\n",
              "      <td>20190818</td>\n",
              "      <td>NAH4</td>\n",
              "    </tr>\n",
              "    <tr>\n",
              "      <th>2584</th>\n",
              "      <td>U001</td>\n",
              "      <td>200769623</td>\n",
              "      <td>WAL-MAR corporation</td>\n",
              "      <td>16-12-2019 00:00</td>\n",
              "      <td>2019</td>\n",
              "      <td>1930216806</td>\n",
              "      <td>04-12-2019</td>\n",
              "      <td>20191219</td>\n",
              "      <td>USD</td>\n",
              "      <td>35352.17</td>\n",
              "      <td>20191204</td>\n",
              "      <td>NAH4</td>\n",
              "    </tr>\n",
              "    <tr>\n",
              "      <th>3755</th>\n",
              "      <td>U001</td>\n",
              "      <td>200769623</td>\n",
              "      <td>WAL-MAR</td>\n",
              "      <td>22-11-2019 00:00</td>\n",
              "      <td>2019</td>\n",
              "      <td>1930137035</td>\n",
              "      <td>12-11-2019</td>\n",
              "      <td>20191127</td>\n",
              "      <td>USD</td>\n",
              "      <td>2982.64</td>\n",
              "      <td>20191112</td>\n",
              "      <td>NAH4</td>\n",
              "    </tr>\n",
              "    <tr>\n",
              "      <th>3873</th>\n",
              "      <td>CA02</td>\n",
              "      <td>140104409</td>\n",
              "      <td>LOB associates</td>\n",
              "      <td>NaN</td>\n",
              "      <td>2020</td>\n",
              "      <td>2960628616</td>\n",
              "      <td>14-04-2020</td>\n",
              "      <td>20200425</td>\n",
              "      <td>CAD</td>\n",
              "      <td>82975.82</td>\n",
              "      <td>20200415</td>\n",
              "      <td>CA10</td>\n",
              "    </tr>\n",
              "    <tr>\n",
              "      <th>...</th>\n",
              "      <td>...</td>\n",
              "      <td>...</td>\n",
              "      <td>...</td>\n",
              "      <td>...</td>\n",
              "      <td>...</td>\n",
              "      <td>...</td>\n",
              "      <td>...</td>\n",
              "      <td>...</td>\n",
              "      <td>...</td>\n",
              "      <td>...</td>\n",
              "      <td>...</td>\n",
              "      <td>...</td>\n",
              "    </tr>\n",
              "    <tr>\n",
              "      <th>49963</th>\n",
              "      <td>U001</td>\n",
              "      <td>200759878</td>\n",
              "      <td>SA us</td>\n",
              "      <td>29-01-2019 00:00</td>\n",
              "      <td>2019</td>\n",
              "      <td>1928613993</td>\n",
              "      <td>13-01-2019</td>\n",
              "      <td>20190128</td>\n",
              "      <td>USD</td>\n",
              "      <td>10968.24</td>\n",
              "      <td>20190113</td>\n",
              "      <td>NAH4</td>\n",
              "    </tr>\n",
              "    <tr>\n",
              "      <th>49986</th>\n",
              "      <td>U001</td>\n",
              "      <td>200772670</td>\n",
              "      <td>ASSOCIAT foundation</td>\n",
              "      <td>12-06-2019 00:00</td>\n",
              "      <td>2019</td>\n",
              "      <td>1929403090</td>\n",
              "      <td>29-05-2019</td>\n",
              "      <td>20190613</td>\n",
              "      <td>USD</td>\n",
              "      <td>155837.53</td>\n",
              "      <td>20190529</td>\n",
              "      <td>NAU5</td>\n",
              "    </tr>\n",
              "    <tr>\n",
              "      <th>49990</th>\n",
              "      <td>U001</td>\n",
              "      <td>200765011</td>\n",
              "      <td>MAINES llc</td>\n",
              "      <td>06-06-2019 00:00</td>\n",
              "      <td>2019</td>\n",
              "      <td>1929365364</td>\n",
              "      <td>22-05-2019</td>\n",
              "      <td>20190606</td>\n",
              "      <td>USD</td>\n",
              "      <td>4008.05</td>\n",
              "      <td>20190522</td>\n",
              "      <td>NAA8</td>\n",
              "    </tr>\n",
              "    <tr>\n",
              "      <th>49991</th>\n",
              "      <td>U001</td>\n",
              "      <td>200704045</td>\n",
              "      <td>RA trust</td>\n",
              "      <td>25-10-2019 00:00</td>\n",
              "      <td>2019</td>\n",
              "      <td>1930001131</td>\n",
              "      <td>10-10-2019</td>\n",
              "      <td>20191025</td>\n",
              "      <td>USD</td>\n",
              "      <td>73002.24</td>\n",
              "      <td>20191010</td>\n",
              "      <td>NAA8</td>\n",
              "    </tr>\n",
              "    <tr>\n",
              "      <th>50000</th>\n",
              "      <td>CA02</td>\n",
              "      <td>140106408</td>\n",
              "      <td>WAL-M corp</td>\n",
              "      <td>NaN</td>\n",
              "      <td>2020</td>\n",
              "      <td>2960618790</td>\n",
              "      <td>06-03-2020</td>\n",
              "      <td>20200316</td>\n",
              "      <td>CAD</td>\n",
              "      <td>92832.27</td>\n",
              "      <td>20200306</td>\n",
              "      <td>CA10</td>\n",
              "    </tr>\n",
              "  </tbody>\n",
              "</table>\n",
              "<p>1162 rows × 12 columns</p>\n",
              "</div>"
            ],
            "text/plain": [
              "      business_code cust_number        name_customer        clear_date  \\\n",
              "1041           U001   200769623           WAL-MAR in  12-03-2019 00:00   \n",
              "2400           U001   200769623        WAL-MAR trust  28-08-2019 00:00   \n",
              "2584           U001   200769623  WAL-MAR corporation  16-12-2019 00:00   \n",
              "3755           U001   200769623             WAL-MAR   22-11-2019 00:00   \n",
              "3873           CA02   140104409       LOB associates               NaN   \n",
              "...             ...         ...                  ...               ...   \n",
              "49963          U001   200759878                SA us  29-01-2019 00:00   \n",
              "49986          U001   200772670  ASSOCIAT foundation  12-06-2019 00:00   \n",
              "49990          U001   200765011           MAINES llc  06-06-2019 00:00   \n",
              "49991          U001   200704045             RA trust  25-10-2019 00:00   \n",
              "50000          CA02   140106408           WAL-M corp               NaN   \n",
              "\n",
              "       buisness_year      doc_id posting_date  due_in_date invoice_currency  \\\n",
              "1041            2019  1928870382   28-02-2019     20190315              USD   \n",
              "2400            2019  1929758460   18-08-2019     20190902              USD   \n",
              "2584            2019  1930216806   04-12-2019     20191219              USD   \n",
              "3755            2019  1930137035   12-11-2019     20191127              USD   \n",
              "3873            2020  2960628616   14-04-2020     20200425              CAD   \n",
              "...              ...         ...          ...          ...              ...   \n",
              "49963           2019  1928613993   13-01-2019     20190128              USD   \n",
              "49986           2019  1929403090   29-05-2019     20190613              USD   \n",
              "49990           2019  1929365364   22-05-2019     20190606              USD   \n",
              "49991           2019  1930001131   10-10-2019     20191025              USD   \n",
              "50000           2020  2960618790   06-03-2020     20200316              CAD   \n",
              "\n",
              "       total_open_amount  baseline_create_date cust_payment_terms  \n",
              "1041            19557.41              20190228               NAH4  \n",
              "2400             5600.41              20190818               NAH4  \n",
              "2584            35352.17              20191204               NAH4  \n",
              "3755             2982.64              20191112               NAH4  \n",
              "3873            82975.82              20200415               CA10  \n",
              "...                  ...                   ...                ...  \n",
              "49963           10968.24              20190113               NAH4  \n",
              "49986          155837.53              20190529               NAU5  \n",
              "49990            4008.05              20190522               NAA8  \n",
              "49991           73002.24              20191010               NAA8  \n",
              "50000           92832.27              20200306               CA10  \n",
              "\n",
              "[1162 rows x 12 columns]"
            ]
          },
          "execution_count": 21,
          "metadata": {},
          "output_type": "execute_result"
        }
      ],
      "source": [
        "df.loc[df.duplicated(), :]"
      ]
    },
    {
      "cell_type": "markdown",
      "id": "464fab09",
      "metadata": {
        "id": "464fab09"
      },
      "source": [
        "### Display the Number of Duplicate Rows"
      ]
    },
    {
      "cell_type": "code",
      "execution_count": 22,
      "id": "b1ea2397",
      "metadata": {
        "colab": {
          "base_uri": "https://localhost:8080/"
        },
        "id": "b1ea2397",
        "outputId": "67dd1cb9-a5ad-43e9-ff98-335cef616d53"
      },
      "outputs": [
        {
          "data": {
            "text/plain": [
              "842"
            ]
          },
          "execution_count": 22,
          "metadata": {},
          "output_type": "execute_result"
        }
      ],
      "source": [
        "df.loc[df.duplicated(), :].value_counts().sum()"
      ]
    },
    {
      "cell_type": "markdown",
      "id": "827a6718",
      "metadata": {
        "id": "827a6718"
      },
      "source": [
        "### Drop all the Duplicate Rows"
      ]
    },
    {
      "cell_type": "code",
      "execution_count": 23,
      "id": "5d10151c",
      "metadata": {
        "id": "5d10151c"
      },
      "outputs": [],
      "source": [
        "df.drop_duplicates(inplace= True)"
      ]
    },
    {
      "cell_type": "markdown",
      "id": "7e5d1f9b",
      "metadata": {
        "id": "7e5d1f9b"
      },
      "source": [
        "#### Now check for all duplicate rows now\n",
        "\n",
        "- Note - It must be 0 by now"
      ]
    },
    {
      "cell_type": "code",
      "execution_count": 24,
      "id": "9accc9fc",
      "metadata": {
        "colab": {
          "base_uri": "https://localhost:8080/"
        },
        "id": "9accc9fc",
        "outputId": "81288bc1-b342-4cbd-b884-fbb073c1b30e"
      },
      "outputs": [
        {
          "data": {
            "text/plain": [
              "0"
            ]
          },
          "execution_count": 24,
          "metadata": {},
          "output_type": "execute_result"
        }
      ],
      "source": [
        "df.loc[df.duplicated(), :].value_counts().sum()"
      ]
    },
    {
      "cell_type": "markdown",
      "id": "d0704898",
      "metadata": {
        "id": "d0704898"
      },
      "source": [
        "### Check for the number of Rows and Columns in your dataset"
      ]
    },
    {
      "cell_type": "code",
      "execution_count": 25,
      "id": "582748a8",
      "metadata": {
        "colab": {
          "base_uri": "https://localhost:8080/"
        },
        "id": "582748a8",
        "outputId": "64dad3fc-bab6-44a7-945b-e9d4512182b8"
      },
      "outputs": [
        {
          "data": {
            "text/plain": [
              "(48937, 12)"
            ]
          },
          "execution_count": 25,
          "metadata": {},
          "output_type": "execute_result"
        }
      ],
      "source": [
        "df.shape"
      ]
    },
    {
      "cell_type": "markdown",
      "id": "4o9c5UodWRtl",
      "metadata": {
        "id": "4o9c5UodWRtl"
      },
      "source": [
        "### Find out the total count of null values in each columns"
      ]
    },
    {
      "cell_type": "code",
      "execution_count": 26,
      "id": "b0612cb5",
      "metadata": {
        "colab": {
          "base_uri": "https://localhost:8080/"
        },
        "id": "b0612cb5",
        "outputId": "251877f0-f46d-44cf-fa8a-dadf34ba4d34"
      },
      "outputs": [
        {
          "data": {
            "text/plain": [
              "business_code              0\n",
              "cust_number                0\n",
              "name_customer              0\n",
              "clear_date              9779\n",
              "buisness_year              0\n",
              "doc_id                     0\n",
              "posting_date               0\n",
              "due_in_date                0\n",
              "invoice_currency           0\n",
              "total_open_amount          0\n",
              "baseline_create_date       0\n",
              "cust_payment_terms         0\n",
              "dtype: int64"
            ]
          },
          "execution_count": 26,
          "metadata": {},
          "output_type": "execute_result"
        }
      ],
      "source": [
        "df.isna().sum()"
      ]
    },
    {
      "cell_type": "markdown",
      "id": "7abdb98b",
      "metadata": {
        "id": "7abdb98b"
      },
      "source": [
        "#Data type Conversion "
      ]
    },
    {
      "cell_type": "markdown",
      "id": "LPfSUSp-WpPj",
      "metadata": {
        "id": "LPfSUSp-WpPj"
      },
      "source": [
        "### Please check the data type of each column of the dataframe"
      ]
    },
    {
      "cell_type": "code",
      "execution_count": 27,
      "id": "689c8592",
      "metadata": {
        "colab": {
          "base_uri": "https://localhost:8080/"
        },
        "id": "689c8592",
        "outputId": "97fabd71-7490-4839-8f20-c9ceac84ba53"
      },
      "outputs": [
        {
          "data": {
            "text/plain": [
              "business_code            object\n",
              "cust_number              object\n",
              "name_customer            object\n",
              "clear_date               object\n",
              "buisness_year             int64\n",
              "doc_id                    int64\n",
              "posting_date             object\n",
              "due_in_date               int64\n",
              "invoice_currency         object\n",
              "total_open_amount       float64\n",
              "baseline_create_date      int64\n",
              "cust_payment_terms       object\n",
              "dtype: object"
            ]
          },
          "execution_count": 27,
          "metadata": {},
          "output_type": "execute_result"
        }
      ],
      "source": [
        "df.dtypes"
      ]
    },
    {
      "cell_type": "markdown",
      "id": "0nsem0_3XzOt",
      "metadata": {
        "id": "0nsem0_3XzOt"
      },
      "source": [
        "### Check the datatype format of below columns\n",
        "\n",
        "- clear_date  \n",
        "- posting_date\n",
        "- due_in_date \n",
        "- baseline_create_date"
      ]
    },
    {
      "cell_type": "code",
      "execution_count": 28,
      "id": "-yyODyW3X6pL",
      "metadata": {
        "colab": {
          "base_uri": "https://localhost:8080/"
        },
        "id": "-yyODyW3X6pL",
        "outputId": "413d98e6-88ca-4276-94d8-20bf1f2baffc"
      },
      "outputs": [
        {
          "data": {
            "text/plain": [
              "clear_date              object\n",
              "posting_date            object\n",
              "due_in_date              int64\n",
              "baseline_create_date     int64\n",
              "dtype: object"
            ]
          },
          "execution_count": 28,
          "metadata": {},
          "output_type": "execute_result"
        }
      ],
      "source": [
        "df[['clear_date','posting_date','due_in_date','baseline_create_date']].dtypes"
      ]
    },
    {
      "cell_type": "markdown",
      "id": "11cf9478",
      "metadata": {
        "id": "11cf9478"
      },
      "source": [
        "### converting date columns into date time formats\n",
        "\n",
        "- clear_date  \n",
        "- posting_date\n",
        "- due_in_date \n",
        "- baseline_create_date\n",
        "\n",
        "\n",
        "- **Note - You have to convert all these above columns into \"%Y%m%d\" format**"
      ]
    },
    {
      "cell_type": "code",
      "execution_count": 29,
      "id": "9a8c6c71",
      "metadata": {
        "id": "9a8c6c71"
      },
      "outputs": [],
      "source": [
        "df['due_in_date'] = pd.to_datetime(df.due_in_date, format='%Y%m%d')\n",
        "df['clear_date'] = pd.to_datetime(df['clear_date'])\n",
        "df['posting_date'] = pd.to_datetime(df['posting_date'])\n",
        "df['baseline_create_date'] = pd.to_datetime(df['baseline_create_date'], format='%Y%m%d')"
      ]
    },
    {
      "cell_type": "markdown",
      "id": "7adq0wSIYSCS",
      "metadata": {
        "id": "7adq0wSIYSCS"
      },
      "source": [
        "### Please check the datatype of all the columns after conversion of the above 4 columns"
      ]
    },
    {
      "cell_type": "code",
      "execution_count": 30,
      "id": "fd028c61",
      "metadata": {
        "colab": {
          "base_uri": "https://localhost:8080/"
        },
        "id": "fd028c61",
        "outputId": "be9509b5-6df7-497c-84bd-f09e00c99b28"
      },
      "outputs": [
        {
          "data": {
            "text/plain": [
              "business_code                   object\n",
              "cust_number                     object\n",
              "name_customer                   object\n",
              "clear_date              datetime64[ns]\n",
              "buisness_year                    int64\n",
              "doc_id                           int64\n",
              "posting_date            datetime64[ns]\n",
              "due_in_date             datetime64[ns]\n",
              "invoice_currency                object\n",
              "total_open_amount              float64\n",
              "baseline_create_date    datetime64[ns]\n",
              "cust_payment_terms              object\n",
              "dtype: object"
            ]
          },
          "execution_count": 30,
          "metadata": {},
          "output_type": "execute_result"
        }
      ],
      "source": [
        "df.dtypes"
      ]
    },
    {
      "cell_type": "markdown",
      "id": "8c9882fa",
      "metadata": {
        "id": "8c9882fa"
      },
      "source": [
        "#### the invoice_currency column contains two different categories, USD and CAD\n",
        "\n",
        "- Please do a count of each currency "
      ]
    },
    {
      "cell_type": "code",
      "execution_count": 31,
      "id": "72085397",
      "metadata": {
        "colab": {
          "base_uri": "https://localhost:8080/"
        },
        "id": "72085397",
        "outputId": "69768ac2-b95f-40ee-c1d0-3de2dbcb6d93"
      },
      "outputs": [
        {
          "data": {
            "text/plain": [
              "USD    45011\n",
              "CAD     3926\n",
              "Name: invoice_currency, dtype: int64"
            ]
          },
          "execution_count": 31,
          "metadata": {},
          "output_type": "execute_result"
        }
      ],
      "source": [
        "df['invoice_currency'].value_counts()"
      ]
    },
    {
      "cell_type": "markdown",
      "id": "6cbe26ee",
      "metadata": {
        "id": "6cbe26ee"
      },
      "source": [
        "#### display the \"total_open_amount\" column value"
      ]
    },
    {
      "cell_type": "code",
      "execution_count": 32,
      "id": "6c49f2ab",
      "metadata": {
        "colab": {
          "base_uri": "https://localhost:8080/"
        },
        "id": "6c49f2ab",
        "outputId": "838288f9-0389-4e09-e743-0d41700def44"
      },
      "outputs": [
        {
          "data": {
            "text/plain": [
              "0        54273.28\n",
              "1        79656.60\n",
              "2         2253.86\n",
              "3         3299.70\n",
              "4        33133.29\n",
              "           ...   \n",
              "50094    92832.27\n",
              "50095    92832.27\n",
              "50096    92832.27\n",
              "50097    92832.27\n",
              "50098    92832.27\n",
              "Name: total_open_amount, Length: 48937, dtype: float64"
            ]
          },
          "execution_count": 32,
          "metadata": {},
          "output_type": "execute_result"
        }
      ],
      "source": [
        "df['total_open_amount']"
      ]
    },
    {
      "cell_type": "markdown",
      "id": "df899966",
      "metadata": {
        "id": "df899966"
      },
      "source": [
        "### Convert all CAD into USD currency of \"total_open_amount\" column\n",
        "\n",
        "- 1 CAD = 0.7 USD\n",
        "- Create a new column i.e \"converted_usd\" and store USD and convered CAD to USD"
      ]
    },
    {
      "cell_type": "code",
      "execution_count": 33,
      "id": "8eb2f1c5",
      "metadata": {
        "id": "8eb2f1c5"
      },
      "outputs": [],
      "source": [
        "filt_cad = df['invoice_currency']=='CAD'\n",
        "df['total_open_amount'].loc[filt_cad] = df['total_open_amount']*0.7\n",
        "df['converted_usd'] = df['total_open_amount']"
      ]
    },
    {
      "cell_type": "markdown",
      "id": "f9f6ef1d",
      "metadata": {
        "id": "f9f6ef1d"
      },
      "source": [
        "### Display the new \"converted_usd\" column values"
      ]
    },
    {
      "cell_type": "code",
      "execution_count": 34,
      "id": "1fc1a178",
      "metadata": {
        "colab": {
          "base_uri": "https://localhost:8080/"
        },
        "id": "1fc1a178",
        "outputId": "b5af1d7b-a9f2-4848-fe6b-5639166ab3ae"
      },
      "outputs": [
        {
          "data": {
            "text/plain": [
              "0        54273.280\n",
              "1        79656.600\n",
              "2         2253.860\n",
              "3         2309.790\n",
              "4        33133.290\n",
              "           ...    \n",
              "50094    64982.589\n",
              "50095    64982.589\n",
              "50096    64982.589\n",
              "50097    64982.589\n",
              "50098    64982.589\n",
              "Name: converted_usd, Length: 48937, dtype: float64"
            ]
          },
          "execution_count": 34,
          "metadata": {},
          "output_type": "execute_result"
        }
      ],
      "source": [
        "df['converted_usd']"
      ]
    },
    {
      "cell_type": "markdown",
      "id": "6XLXX17kayuy",
      "metadata": {
        "id": "6XLXX17kayuy"
      },
      "source": [
        "### Display year wise total number of record \n",
        "\n",
        "- Note -  use \"buisness_year\" column for this "
      ]
    },
    {
      "cell_type": "code",
      "execution_count": 35,
      "id": "00c9f6ee",
      "metadata": {
        "colab": {
          "base_uri": "https://localhost:8080/"
        },
        "id": "00c9f6ee",
        "outputId": "f7dfeb35-0f63-4274-bf67-6a38a87cff6b"
      },
      "outputs": [
        {
          "data": {
            "text/plain": [
              "2019    33975\n",
              "2020    14962\n",
              "Name: buisness_year, dtype: int64"
            ]
          },
          "execution_count": 35,
          "metadata": {},
          "output_type": "execute_result"
        }
      ],
      "source": [
        "df['buisness_year'].value_counts()"
      ]
    },
    {
      "cell_type": "markdown",
      "id": "05c35904",
      "metadata": {
        "id": "05c35904"
      },
      "source": [
        "### Write the code to delete the following columns \n",
        "\n",
        "- 'invoice_currency'\n",
        "- 'total_open_amount', "
      ]
    },
    {
      "cell_type": "code",
      "execution_count": 36,
      "id": "4ac28aa5",
      "metadata": {
        "id": "4ac28aa5"
      },
      "outputs": [],
      "source": [
        "df.drop(['invoice_currency','total_open_amount'],axis=1,inplace=True)"
      ]
    },
    {
      "cell_type": "markdown",
      "id": "bDBJ_Kvwc086",
      "metadata": {
        "id": "bDBJ_Kvwc086"
      },
      "source": [
        "### Write a code to check the number of columns in dataframe"
      ]
    },
    {
      "cell_type": "code",
      "execution_count": 37,
      "id": "ea360a8c",
      "metadata": {
        "colab": {
          "base_uri": "https://localhost:8080/"
        },
        "id": "ea360a8c",
        "outputId": "76512624-be91-4eb9-8606-818ac43fb2e7"
      },
      "outputs": [
        {
          "data": {
            "text/plain": [
              "11"
            ]
          },
          "execution_count": 37,
          "metadata": {},
          "output_type": "execute_result"
        }
      ],
      "source": [
        "df.shape[1]"
      ]
    },
    {
      "cell_type": "markdown",
      "id": "b8f63655",
      "metadata": {
        "id": "b8f63655"
      },
      "source": [
        "# Splitting the Dataset "
      ]
    },
    {
      "cell_type": "markdown",
      "id": "a00f749d",
      "metadata": {
        "id": "a00f749d"
      },
      "source": [
        "### Look for all columns containing null value\n",
        "\n",
        "- Note - Output expected is only one column "
      ]
    },
    {
      "cell_type": "code",
      "execution_count": 38,
      "id": "148c801e",
      "metadata": {
        "colab": {
          "base_uri": "https://localhost:8080/"
        },
        "id": "148c801e",
        "outputId": "42b2ad74-cfaa-4f01-f0ef-b3da21c3bc10"
      },
      "outputs": [
        {
          "data": {
            "text/plain": [
              "business_code              0\n",
              "cust_number                0\n",
              "name_customer              0\n",
              "clear_date              9779\n",
              "buisness_year              0\n",
              "doc_id                     0\n",
              "posting_date               0\n",
              "due_in_date                0\n",
              "baseline_create_date       0\n",
              "cust_payment_terms         0\n",
              "converted_usd              0\n",
              "dtype: int64"
            ]
          },
          "execution_count": 38,
          "metadata": {},
          "output_type": "execute_result"
        }
      ],
      "source": [
        "df.isna().sum()"
      ]
    },
    {
      "cell_type": "markdown",
      "id": "a094a290",
      "metadata": {
        "id": "a094a290"
      },
      "source": [
        "#### Find out the number of null values from the column that you got from the above code"
      ]
    },
    {
      "cell_type": "code",
      "execution_count": 39,
      "id": "30bfb113",
      "metadata": {
        "colab": {
          "base_uri": "https://localhost:8080/"
        },
        "id": "30bfb113",
        "outputId": "02cfa41e-6ca4-471a-8c22-837b5d3726bf"
      },
      "outputs": [
        {
          "data": {
            "text/plain": [
              "False    39158\n",
              "True      9779\n",
              "Name: clear_date, dtype: int64"
            ]
          },
          "execution_count": 39,
          "metadata": {},
          "output_type": "execute_result"
        }
      ],
      "source": [
        "df['clear_date'].isna().value_counts()"
      ]
    },
    {
      "cell_type": "markdown",
      "id": "7f6d939b",
      "metadata": {
        "id": "7f6d939b"
      },
      "source": [
        "### On basis of the above column we are spliting data into dataset\n",
        "\n",
        "- First dataframe (refer that as maindata) only containing the rows, that have NO NULL data in that column ( This is going to be our train dataset ) \n",
        "- Second dataframe (refer that as nulldata) that contains the columns, that have Null data in that column ( This is going to be our test dataset ) "
      ]
    },
    {
      "cell_type": "code",
      "execution_count": 40,
      "id": "c8764c33",
      "metadata": {
        "id": "c8764c33"
      },
      "outputs": [],
      "source": [
        "maindata = df[df.clear_date.isnull()==False]\n",
        "nulldata = df[df.clear_date.isnull()]"
      ]
    },
    {
      "cell_type": "markdown",
      "id": "3P8riRBHd_r6",
      "metadata": {
        "id": "3P8riRBHd_r6"
      },
      "source": [
        "### Check the number of Rows and Columns for both the dataframes "
      ]
    },
    {
      "cell_type": "code",
      "execution_count": 41,
      "id": "0693a464",
      "metadata": {
        "colab": {
          "base_uri": "https://localhost:8080/"
        },
        "id": "0693a464",
        "outputId": "bd46d75d-f8df-4bb5-b2f1-9933fa893fea"
      },
      "outputs": [
        {
          "data": {
            "text/plain": [
              "(39158, 11)"
            ]
          },
          "execution_count": 41,
          "metadata": {},
          "output_type": "execute_result"
        }
      ],
      "source": [
        "maindata.shape\n"
      ]
    },
    {
      "cell_type": "code",
      "execution_count": 42,
      "id": "7f86bc74",
      "metadata": {
        "colab": {
          "base_uri": "https://localhost:8080/"
        },
        "id": "7f86bc74",
        "outputId": "c60cde4f-4dae-4491-8ad3-7265d0c89e29"
      },
      "outputs": [
        {
          "data": {
            "text/plain": [
              "(9779, 11)"
            ]
          },
          "execution_count": 42,
          "metadata": {},
          "output_type": "execute_result"
        }
      ],
      "source": [
        "nulldata.shape"
      ]
    },
    {
      "cell_type": "markdown",
      "id": "0747165d",
      "metadata": {
        "id": "0747165d"
      },
      "source": [
        "### Display the 5 records from maindata and nulldata dataframes"
      ]
    },
    {
      "cell_type": "code",
      "execution_count": 43,
      "id": "dec2ec36",
      "metadata": {
        "colab": {
          "base_uri": "https://localhost:8080/",
          "height": 305
        },
        "id": "dec2ec36",
        "outputId": "b9028812-1ebf-4960-c29f-aac15587d902"
      },
      "outputs": [
        {
          "data": {
            "text/html": [
              "<div>\n",
              "<style scoped>\n",
              "    .dataframe tbody tr th:only-of-type {\n",
              "        vertical-align: middle;\n",
              "    }\n",
              "\n",
              "    .dataframe tbody tr th {\n",
              "        vertical-align: top;\n",
              "    }\n",
              "\n",
              "    .dataframe thead th {\n",
              "        text-align: right;\n",
              "    }\n",
              "</style>\n",
              "<table border=\"1\" class=\"dataframe\">\n",
              "  <thead>\n",
              "    <tr style=\"text-align: right;\">\n",
              "      <th></th>\n",
              "      <th>business_code</th>\n",
              "      <th>cust_number</th>\n",
              "      <th>name_customer</th>\n",
              "      <th>clear_date</th>\n",
              "      <th>buisness_year</th>\n",
              "      <th>doc_id</th>\n",
              "      <th>posting_date</th>\n",
              "      <th>due_in_date</th>\n",
              "      <th>baseline_create_date</th>\n",
              "      <th>cust_payment_terms</th>\n",
              "      <th>converted_usd</th>\n",
              "    </tr>\n",
              "  </thead>\n",
              "  <tbody>\n",
              "    <tr>\n",
              "      <th>0</th>\n",
              "      <td>U001</td>\n",
              "      <td>200769623</td>\n",
              "      <td>WAL-MAR corp</td>\n",
              "      <td>2020-11-02</td>\n",
              "      <td>2020</td>\n",
              "      <td>1930438491</td>\n",
              "      <td>2020-01-26</td>\n",
              "      <td>2020-02-10</td>\n",
              "      <td>2020-01-26</td>\n",
              "      <td>NAH4</td>\n",
              "      <td>54273.280</td>\n",
              "    </tr>\n",
              "    <tr>\n",
              "      <th>1</th>\n",
              "      <td>U001</td>\n",
              "      <td>200980828</td>\n",
              "      <td>BEN E</td>\n",
              "      <td>2019-08-08</td>\n",
              "      <td>2019</td>\n",
              "      <td>1929646410</td>\n",
              "      <td>2019-07-22</td>\n",
              "      <td>2019-08-11</td>\n",
              "      <td>2019-07-22</td>\n",
              "      <td>NAD1</td>\n",
              "      <td>79656.600</td>\n",
              "    </tr>\n",
              "    <tr>\n",
              "      <th>2</th>\n",
              "      <td>U001</td>\n",
              "      <td>200792734</td>\n",
              "      <td>MDV/ trust</td>\n",
              "      <td>2019-12-30</td>\n",
              "      <td>2019</td>\n",
              "      <td>1929873765</td>\n",
              "      <td>2019-09-14</td>\n",
              "      <td>2019-09-29</td>\n",
              "      <td>2019-09-14</td>\n",
              "      <td>NAA8</td>\n",
              "      <td>2253.860</td>\n",
              "    </tr>\n",
              "    <tr>\n",
              "      <th>4</th>\n",
              "      <td>U001</td>\n",
              "      <td>200769623</td>\n",
              "      <td>WAL-MAR foundation</td>\n",
              "      <td>2019-11-25</td>\n",
              "      <td>2019</td>\n",
              "      <td>1930147974</td>\n",
              "      <td>2019-11-13</td>\n",
              "      <td>2019-11-28</td>\n",
              "      <td>2019-11-13</td>\n",
              "      <td>NAH4</td>\n",
              "      <td>33133.290</td>\n",
              "    </tr>\n",
              "    <tr>\n",
              "      <th>5</th>\n",
              "      <td>CA02</td>\n",
              "      <td>140106181</td>\n",
              "      <td>THE  corporation</td>\n",
              "      <td>2019-04-12</td>\n",
              "      <td>2019</td>\n",
              "      <td>2960581231</td>\n",
              "      <td>2019-09-20</td>\n",
              "      <td>2019-10-04</td>\n",
              "      <td>2019-09-24</td>\n",
              "      <td>CA10</td>\n",
              "      <td>15558.088</td>\n",
              "    </tr>\n",
              "  </tbody>\n",
              "</table>\n",
              "</div>"
            ],
            "text/plain": [
              "  business_code cust_number       name_customer clear_date  buisness_year  \\\n",
              "0          U001   200769623        WAL-MAR corp 2020-11-02           2020   \n",
              "1          U001   200980828              BEN E  2019-08-08           2019   \n",
              "2          U001   200792734          MDV/ trust 2019-12-30           2019   \n",
              "4          U001   200769623  WAL-MAR foundation 2019-11-25           2019   \n",
              "5          CA02   140106181    THE  corporation 2019-04-12           2019   \n",
              "\n",
              "       doc_id posting_date due_in_date baseline_create_date  \\\n",
              "0  1930438491   2020-01-26  2020-02-10           2020-01-26   \n",
              "1  1929646410   2019-07-22  2019-08-11           2019-07-22   \n",
              "2  1929873765   2019-09-14  2019-09-29           2019-09-14   \n",
              "4  1930147974   2019-11-13  2019-11-28           2019-11-13   \n",
              "5  2960581231   2019-09-20  2019-10-04           2019-09-24   \n",
              "\n",
              "  cust_payment_terms  converted_usd  \n",
              "0               NAH4      54273.280  \n",
              "1               NAD1      79656.600  \n",
              "2               NAA8       2253.860  \n",
              "4               NAH4      33133.290  \n",
              "5               CA10      15558.088  "
            ]
          },
          "execution_count": 43,
          "metadata": {},
          "output_type": "execute_result"
        }
      ],
      "source": [
        "maindata.head()"
      ]
    },
    {
      "cell_type": "code",
      "execution_count": 44,
      "id": "eee2d68a",
      "metadata": {
        "colab": {
          "base_uri": "https://localhost:8080/",
          "height": 288
        },
        "id": "eee2d68a",
        "outputId": "d92bd689-626e-4bfb-9deb-85cad580c835"
      },
      "outputs": [
        {
          "data": {
            "text/html": [
              "<div>\n",
              "<style scoped>\n",
              "    .dataframe tbody tr th:only-of-type {\n",
              "        vertical-align: middle;\n",
              "    }\n",
              "\n",
              "    .dataframe tbody tr th {\n",
              "        vertical-align: top;\n",
              "    }\n",
              "\n",
              "    .dataframe thead th {\n",
              "        text-align: right;\n",
              "    }\n",
              "</style>\n",
              "<table border=\"1\" class=\"dataframe\">\n",
              "  <thead>\n",
              "    <tr style=\"text-align: right;\">\n",
              "      <th></th>\n",
              "      <th>business_code</th>\n",
              "      <th>cust_number</th>\n",
              "      <th>name_customer</th>\n",
              "      <th>clear_date</th>\n",
              "      <th>buisness_year</th>\n",
              "      <th>doc_id</th>\n",
              "      <th>posting_date</th>\n",
              "      <th>due_in_date</th>\n",
              "      <th>baseline_create_date</th>\n",
              "      <th>cust_payment_terms</th>\n",
              "      <th>converted_usd</th>\n",
              "    </tr>\n",
              "  </thead>\n",
              "  <tbody>\n",
              "    <tr>\n",
              "      <th>3</th>\n",
              "      <td>CA02</td>\n",
              "      <td>140105686</td>\n",
              "      <td>SYSC llc</td>\n",
              "      <td>NaT</td>\n",
              "      <td>2020</td>\n",
              "      <td>2960623488</td>\n",
              "      <td>2020-03-30</td>\n",
              "      <td>2020-04-10</td>\n",
              "      <td>2020-03-31</td>\n",
              "      <td>CA10</td>\n",
              "      <td>2309.79</td>\n",
              "    </tr>\n",
              "    <tr>\n",
              "      <th>7</th>\n",
              "      <td>U001</td>\n",
              "      <td>200744019</td>\n",
              "      <td>TARG us</td>\n",
              "      <td>NaT</td>\n",
              "      <td>2020</td>\n",
              "      <td>1930659387</td>\n",
              "      <td>2020-03-19</td>\n",
              "      <td>2020-04-03</td>\n",
              "      <td>2020-03-19</td>\n",
              "      <td>NAA8</td>\n",
              "      <td>11173.02</td>\n",
              "    </tr>\n",
              "    <tr>\n",
              "      <th>10</th>\n",
              "      <td>U001</td>\n",
              "      <td>200418007</td>\n",
              "      <td>AM</td>\n",
              "      <td>NaT</td>\n",
              "      <td>2020</td>\n",
              "      <td>1930610806</td>\n",
              "      <td>2020-11-03</td>\n",
              "      <td>2020-03-26</td>\n",
              "      <td>2020-03-11</td>\n",
              "      <td>NAA8</td>\n",
              "      <td>3525.59</td>\n",
              "    </tr>\n",
              "    <tr>\n",
              "      <th>14</th>\n",
              "      <td>U001</td>\n",
              "      <td>200739534</td>\n",
              "      <td>OK systems</td>\n",
              "      <td>NaT</td>\n",
              "      <td>2020</td>\n",
              "      <td>1930788296</td>\n",
              "      <td>2020-04-15</td>\n",
              "      <td>2020-04-30</td>\n",
              "      <td>2020-04-15</td>\n",
              "      <td>NAA8</td>\n",
              "      <td>121105.65</td>\n",
              "    </tr>\n",
              "    <tr>\n",
              "      <th>15</th>\n",
              "      <td>U001</td>\n",
              "      <td>200353024</td>\n",
              "      <td>DECA corporation</td>\n",
              "      <td>NaT</td>\n",
              "      <td>2020</td>\n",
              "      <td>1930817482</td>\n",
              "      <td>2020-04-23</td>\n",
              "      <td>2020-04-26</td>\n",
              "      <td>2020-04-16</td>\n",
              "      <td>NAM2</td>\n",
              "      <td>3726.06</td>\n",
              "    </tr>\n",
              "  </tbody>\n",
              "</table>\n",
              "</div>"
            ],
            "text/plain": [
              "   business_code cust_number     name_customer clear_date  buisness_year  \\\n",
              "3           CA02   140105686          SYSC llc        NaT           2020   \n",
              "7           U001   200744019           TARG us        NaT           2020   \n",
              "10          U001   200418007               AM         NaT           2020   \n",
              "14          U001   200739534        OK systems        NaT           2020   \n",
              "15          U001   200353024  DECA corporation        NaT           2020   \n",
              "\n",
              "        doc_id posting_date due_in_date baseline_create_date  \\\n",
              "3   2960623488   2020-03-30  2020-04-10           2020-03-31   \n",
              "7   1930659387   2020-03-19  2020-04-03           2020-03-19   \n",
              "10  1930610806   2020-11-03  2020-03-26           2020-03-11   \n",
              "14  1930788296   2020-04-15  2020-04-30           2020-04-15   \n",
              "15  1930817482   2020-04-23  2020-04-26           2020-04-16   \n",
              "\n",
              "   cust_payment_terms  converted_usd  \n",
              "3                CA10        2309.79  \n",
              "7                NAA8       11173.02  \n",
              "10               NAA8        3525.59  \n",
              "14               NAA8      121105.65  \n",
              "15               NAM2        3726.06  "
            ]
          },
          "execution_count": 44,
          "metadata": {},
          "output_type": "execute_result"
        }
      ],
      "source": [
        "nulldata.head()"
      ]
    },
    {
      "cell_type": "markdown",
      "id": "24aa6746",
      "metadata": {
        "id": "24aa6746"
      },
      "source": [
        "## Considering the **maindata**"
      ]
    },
    {
      "cell_type": "markdown",
      "id": "f92c4aa7",
      "metadata": {
        "id": "f92c4aa7"
      },
      "source": [
        "#### Generate a new column \"Delay\" from the existing columns\n",
        "\n",
        "- Note - You are expected to create a new column 'Delay' from two existing columns, \"clear_date\" and \"due_in_date\" \n",
        "- Formula - Delay = clear_date - due_in_date"
      ]
    },
    {
      "cell_type": "code",
      "execution_count": 45,
      "id": "8eeceb9c",
      "metadata": {
        "id": "8eeceb9c"
      },
      "outputs": [],
      "source": [
        "maindata['Delay'] = (maindata['clear_date']-maindata['due_in_date'])"
      ]
    },
    {
      "cell_type": "markdown",
      "id": "f482144e",
      "metadata": {
        "id": "f482144e"
      },
      "source": [
        "### Generate a new column \"avgdelay\" from the existing columns\n",
        "\n",
        "- Note - You are expected to make a new column \"avgdelay\" by grouping \"name_customer\" column with respect to mean of the \"Delay\" column.\n",
        "- This new column \"avg_delay\" is meant to store \"customer_name\" wise delay\n",
        "- groupby('name_customer')['Delay'].mean(numeric_only=False)\n",
        "- Display the new \"avg_delay\" column"
      ]
    },
    {
      "cell_type": "code",
      "execution_count": 46,
      "id": "d18d2f8d",
      "metadata": {
        "colab": {
          "base_uri": "https://localhost:8080/"
        },
        "id": "d18d2f8d",
        "outputId": "9a66a39b-bdbe-476b-b4f2-45c65b28da02"
      },
      "outputs": [
        {
          "data": {
            "text/plain": [
              "name_customer\n",
              "11078 us               -69 days +00:00:00\n",
              "17135 associates       -10 days +00:00:00\n",
              "17135 llc               -3 days +00:00:00\n",
              "236008 associates       -3 days +00:00:00\n",
              "99 CE                    16 days 00:00:00\n",
              "                              ...        \n",
              "YEN BROS corp             0 days 00:00:00\n",
              "YEN BROS corporation    -1 days +12:00:00\n",
              "YEN BROS llc            -2 days +00:00:00\n",
              "ZARCO co                -1 days +00:00:00\n",
              "ZIYAD  us              -83 days +00:00:00\n",
              "Name: Delay, Length: 3889, dtype: timedelta64[ns]"
            ]
          },
          "execution_count": 46,
          "metadata": {},
          "output_type": "execute_result"
        }
      ],
      "source": [
        "avg_delay =  maindata.groupby('name_customer')['Delay'].mean(numeric_only=False)\n",
        "avg_delay"
      ]
    },
    {
      "cell_type": "markdown",
      "id": "64b995e8",
      "metadata": {
        "id": "64b995e8"
      },
      "source": [
        "You need to add the \"avg_delay\" column with the maindata, mapped with \"name_customer\" column\n",
        "\n",
        " - Note - You need to use map function to map the avgdelay with respect to \"name_customer\" column"
      ]
    },
    {
      "cell_type": "code",
      "execution_count": 47,
      "id": "e1e1f3d9",
      "metadata": {
        "id": "e1e1f3d9"
      },
      "outputs": [],
      "source": [
        "maindata['avg_delay']= maindata['name_customer'].map(avg_delay)"
      ]
    },
    {
      "cell_type": "markdown",
      "id": "1d332525",
      "metadata": {
        "id": "1d332525"
      },
      "source": [
        "### Observe that the \"avg_delay\" column is in days format. You need to change the format into seconds\n",
        "\n",
        "- Days_format :  17 days 00:00:00\n",
        "- Format in seconds : 1641600.0"
      ]
    },
    {
      "cell_type": "code",
      "execution_count": 48,
      "id": "d5f1041e",
      "metadata": {
        "id": "d5f1041e"
      },
      "outputs": [],
      "source": [
        "maindata['avg_delay'] = maindata['avg_delay'].dt.seconds"
      ]
    },
    {
      "cell_type": "markdown",
      "id": "OvgtHSsx_O-n",
      "metadata": {
        "id": "OvgtHSsx_O-n"
      },
      "source": [
        "### Display the maindata dataframe "
      ]
    },
    {
      "cell_type": "code",
      "execution_count": 49,
      "id": "97ca9c45",
      "metadata": {
        "colab": {
          "base_uri": "https://localhost:8080/",
          "height": 661
        },
        "id": "97ca9c45",
        "outputId": "40a37867-000b-4c5b-ea57-36360a56c948"
      },
      "outputs": [
        {
          "data": {
            "text/html": [
              "<div>\n",
              "<style scoped>\n",
              "    .dataframe tbody tr th:only-of-type {\n",
              "        vertical-align: middle;\n",
              "    }\n",
              "\n",
              "    .dataframe tbody tr th {\n",
              "        vertical-align: top;\n",
              "    }\n",
              "\n",
              "    .dataframe thead th {\n",
              "        text-align: right;\n",
              "    }\n",
              "</style>\n",
              "<table border=\"1\" class=\"dataframe\">\n",
              "  <thead>\n",
              "    <tr style=\"text-align: right;\">\n",
              "      <th></th>\n",
              "      <th>business_code</th>\n",
              "      <th>cust_number</th>\n",
              "      <th>name_customer</th>\n",
              "      <th>clear_date</th>\n",
              "      <th>buisness_year</th>\n",
              "      <th>doc_id</th>\n",
              "      <th>posting_date</th>\n",
              "      <th>due_in_date</th>\n",
              "      <th>baseline_create_date</th>\n",
              "      <th>cust_payment_terms</th>\n",
              "      <th>converted_usd</th>\n",
              "      <th>Delay</th>\n",
              "      <th>avg_delay</th>\n",
              "    </tr>\n",
              "  </thead>\n",
              "  <tbody>\n",
              "    <tr>\n",
              "      <th>0</th>\n",
              "      <td>U001</td>\n",
              "      <td>200769623</td>\n",
              "      <td>WAL-MAR corp</td>\n",
              "      <td>2020-11-02</td>\n",
              "      <td>2020</td>\n",
              "      <td>1930438491</td>\n",
              "      <td>2020-01-26</td>\n",
              "      <td>2020-02-10</td>\n",
              "      <td>2020-01-26</td>\n",
              "      <td>NAH4</td>\n",
              "      <td>54273.280</td>\n",
              "      <td>266 days</td>\n",
              "      <td>2302</td>\n",
              "    </tr>\n",
              "    <tr>\n",
              "      <th>1</th>\n",
              "      <td>U001</td>\n",
              "      <td>200980828</td>\n",
              "      <td>BEN E</td>\n",
              "      <td>2019-08-08</td>\n",
              "      <td>2019</td>\n",
              "      <td>1929646410</td>\n",
              "      <td>2019-07-22</td>\n",
              "      <td>2019-08-11</td>\n",
              "      <td>2019-07-22</td>\n",
              "      <td>NAD1</td>\n",
              "      <td>79656.600</td>\n",
              "      <td>-3 days</td>\n",
              "      <td>0</td>\n",
              "    </tr>\n",
              "    <tr>\n",
              "      <th>2</th>\n",
              "      <td>U001</td>\n",
              "      <td>200792734</td>\n",
              "      <td>MDV/ trust</td>\n",
              "      <td>2019-12-30</td>\n",
              "      <td>2019</td>\n",
              "      <td>1929873765</td>\n",
              "      <td>2019-09-14</td>\n",
              "      <td>2019-09-29</td>\n",
              "      <td>2019-09-14</td>\n",
              "      <td>NAA8</td>\n",
              "      <td>2253.860</td>\n",
              "      <td>92 days</td>\n",
              "      <td>78545</td>\n",
              "    </tr>\n",
              "    <tr>\n",
              "      <th>4</th>\n",
              "      <td>U001</td>\n",
              "      <td>200769623</td>\n",
              "      <td>WAL-MAR foundation</td>\n",
              "      <td>2019-11-25</td>\n",
              "      <td>2019</td>\n",
              "      <td>1930147974</td>\n",
              "      <td>2019-11-13</td>\n",
              "      <td>2019-11-28</td>\n",
              "      <td>2019-11-13</td>\n",
              "      <td>NAH4</td>\n",
              "      <td>33133.290</td>\n",
              "      <td>-3 days</td>\n",
              "      <td>70407</td>\n",
              "    </tr>\n",
              "    <tr>\n",
              "      <th>5</th>\n",
              "      <td>CA02</td>\n",
              "      <td>140106181</td>\n",
              "      <td>THE  corporation</td>\n",
              "      <td>2019-04-12</td>\n",
              "      <td>2019</td>\n",
              "      <td>2960581231</td>\n",
              "      <td>2019-09-20</td>\n",
              "      <td>2019-10-04</td>\n",
              "      <td>2019-09-24</td>\n",
              "      <td>CA10</td>\n",
              "      <td>15558.088</td>\n",
              "      <td>-175 days</td>\n",
              "      <td>67200</td>\n",
              "    </tr>\n",
              "    <tr>\n",
              "      <th>...</th>\n",
              "      <td>...</td>\n",
              "      <td>...</td>\n",
              "      <td>...</td>\n",
              "      <td>...</td>\n",
              "      <td>...</td>\n",
              "      <td>...</td>\n",
              "      <td>...</td>\n",
              "      <td>...</td>\n",
              "      <td>...</td>\n",
              "      <td>...</td>\n",
              "      <td>...</td>\n",
              "      <td>...</td>\n",
              "      <td>...</td>\n",
              "    </tr>\n",
              "    <tr>\n",
              "      <th>49994</th>\n",
              "      <td>U001</td>\n",
              "      <td>200762301</td>\n",
              "      <td>C&amp;S WH trust</td>\n",
              "      <td>2019-07-25</td>\n",
              "      <td>2019</td>\n",
              "      <td>1929600989</td>\n",
              "      <td>2019-10-07</td>\n",
              "      <td>2019-07-25</td>\n",
              "      <td>2019-07-10</td>\n",
              "      <td>NAC6</td>\n",
              "      <td>84780.400</td>\n",
              "      <td>0 days</td>\n",
              "      <td>15300</td>\n",
              "    </tr>\n",
              "    <tr>\n",
              "      <th>49996</th>\n",
              "      <td>U001</td>\n",
              "      <td>200769623</td>\n",
              "      <td>WAL-MAR co</td>\n",
              "      <td>2019-03-09</td>\n",
              "      <td>2019</td>\n",
              "      <td>1929744070</td>\n",
              "      <td>2019-08-15</td>\n",
              "      <td>2019-08-30</td>\n",
              "      <td>2019-08-15</td>\n",
              "      <td>NAH4</td>\n",
              "      <td>6766.540</td>\n",
              "      <td>-174 days</td>\n",
              "      <td>48580</td>\n",
              "    </tr>\n",
              "    <tr>\n",
              "      <th>49997</th>\n",
              "      <td>U001</td>\n",
              "      <td>200772595</td>\n",
              "      <td>SAFEW associates</td>\n",
              "      <td>2020-05-03</td>\n",
              "      <td>2020</td>\n",
              "      <td>1930536775</td>\n",
              "      <td>2020-02-19</td>\n",
              "      <td>2020-03-05</td>\n",
              "      <td>2020-02-19</td>\n",
              "      <td>NAA8</td>\n",
              "      <td>6120.860</td>\n",
              "      <td>59 days</td>\n",
              "      <td>41142</td>\n",
              "    </tr>\n",
              "    <tr>\n",
              "      <th>49998</th>\n",
              "      <td>U001</td>\n",
              "      <td>200726979</td>\n",
              "      <td>BJ'S  llc</td>\n",
              "      <td>2019-12-12</td>\n",
              "      <td>2019</td>\n",
              "      <td>1930198546</td>\n",
              "      <td>2019-11-27</td>\n",
              "      <td>2019-12-12</td>\n",
              "      <td>2019-11-27</td>\n",
              "      <td>NAA8</td>\n",
              "      <td>63.480</td>\n",
              "      <td>0 days</td>\n",
              "      <td>61253</td>\n",
              "    </tr>\n",
              "    <tr>\n",
              "      <th>49999</th>\n",
              "      <td>U001</td>\n",
              "      <td>200020431</td>\n",
              "      <td>DEC corp</td>\n",
              "      <td>2019-01-15</td>\n",
              "      <td>2019</td>\n",
              "      <td>1928576325</td>\n",
              "      <td>2019-05-01</td>\n",
              "      <td>2019-01-24</td>\n",
              "      <td>2019-01-01</td>\n",
              "      <td>NAM4</td>\n",
              "      <td>1790.300</td>\n",
              "      <td>-9 days</td>\n",
              "      <td>1878</td>\n",
              "    </tr>\n",
              "  </tbody>\n",
              "</table>\n",
              "<p>39158 rows × 13 columns</p>\n",
              "</div>"
            ],
            "text/plain": [
              "      business_code cust_number       name_customer clear_date  buisness_year  \\\n",
              "0              U001   200769623        WAL-MAR corp 2020-11-02           2020   \n",
              "1              U001   200980828              BEN E  2019-08-08           2019   \n",
              "2              U001   200792734          MDV/ trust 2019-12-30           2019   \n",
              "4              U001   200769623  WAL-MAR foundation 2019-11-25           2019   \n",
              "5              CA02   140106181    THE  corporation 2019-04-12           2019   \n",
              "...             ...         ...                 ...        ...            ...   \n",
              "49994          U001   200762301        C&S WH trust 2019-07-25           2019   \n",
              "49996          U001   200769623          WAL-MAR co 2019-03-09           2019   \n",
              "49997          U001   200772595    SAFEW associates 2020-05-03           2020   \n",
              "49998          U001   200726979           BJ'S  llc 2019-12-12           2019   \n",
              "49999          U001   200020431            DEC corp 2019-01-15           2019   \n",
              "\n",
              "           doc_id posting_date due_in_date baseline_create_date  \\\n",
              "0      1930438491   2020-01-26  2020-02-10           2020-01-26   \n",
              "1      1929646410   2019-07-22  2019-08-11           2019-07-22   \n",
              "2      1929873765   2019-09-14  2019-09-29           2019-09-14   \n",
              "4      1930147974   2019-11-13  2019-11-28           2019-11-13   \n",
              "5      2960581231   2019-09-20  2019-10-04           2019-09-24   \n",
              "...           ...          ...         ...                  ...   \n",
              "49994  1929600989   2019-10-07  2019-07-25           2019-07-10   \n",
              "49996  1929744070   2019-08-15  2019-08-30           2019-08-15   \n",
              "49997  1930536775   2020-02-19  2020-03-05           2020-02-19   \n",
              "49998  1930198546   2019-11-27  2019-12-12           2019-11-27   \n",
              "49999  1928576325   2019-05-01  2019-01-24           2019-01-01   \n",
              "\n",
              "      cust_payment_terms  converted_usd     Delay  avg_delay  \n",
              "0                   NAH4      54273.280  266 days       2302  \n",
              "1                   NAD1      79656.600   -3 days          0  \n",
              "2                   NAA8       2253.860   92 days      78545  \n",
              "4                   NAH4      33133.290   -3 days      70407  \n",
              "5                   CA10      15558.088 -175 days      67200  \n",
              "...                  ...            ...       ...        ...  \n",
              "49994               NAC6      84780.400    0 days      15300  \n",
              "49996               NAH4       6766.540 -174 days      48580  \n",
              "49997               NAA8       6120.860   59 days      41142  \n",
              "49998               NAA8         63.480    0 days      61253  \n",
              "49999               NAM4       1790.300   -9 days       1878  \n",
              "\n",
              "[39158 rows x 13 columns]"
            ]
          },
          "execution_count": 49,
          "metadata": {},
          "output_type": "execute_result"
        }
      ],
      "source": [
        "maindata"
      ]
    },
    {
      "cell_type": "markdown",
      "id": "ae24c7bb",
      "metadata": {
        "id": "ae24c7bb"
      },
      "source": [
        "### Since you have created the \"avg_delay\" column from \"Delay\" and \"clear_date\" column, there is no need of these two columns anymore \n",
        "\n",
        "- You are expected to drop \"Delay\" and \"clear_date\" columns from maindata dataframe "
      ]
    },
    {
      "cell_type": "code",
      "execution_count": 50,
      "id": "78a61ab9",
      "metadata": {
        "id": "78a61ab9"
      },
      "outputs": [],
      "source": [
        "maindata.drop(['Delay','clear_date'],axis=1,inplace=True)"
      ]
    },
    {
      "cell_type": "markdown",
      "id": "ae724bfc",
      "metadata": {
        "id": "ae724bfc"
      },
      "source": [
        "# Splitting of Train and the Test Data"
      ]
    },
    {
      "cell_type": "markdown",
      "id": "cb6f0264",
      "metadata": {
        "id": "cb6f0264"
      },
      "source": [
        "### You need to split the \"maindata\" columns into X and y dataframe\n",
        "\n",
        "- Note - y should have the target column i.e. \"avg_delay\" and the other column should be in X\n",
        "\n",
        "- X is going to hold the source fields and y will be going to hold the target fields"
      ]
    },
    {
      "cell_type": "code",
      "execution_count": 51,
      "id": "75ab29ab",
      "metadata": {
        "id": "75ab29ab"
      },
      "outputs": [],
      "source": [
        "X = maindata.drop('avg_delay',axis=1)"
      ]
    },
    {
      "cell_type": "code",
      "execution_count": 52,
      "id": "6412c62b",
      "metadata": {
        "id": "6412c62b"
      },
      "outputs": [],
      "source": [
        "y = maindata['avg_delay']"
      ]
    },
    {
      "cell_type": "markdown",
      "id": "1c2942bf",
      "metadata": {
        "id": "1c2942bf"
      },
      "source": [
        "#### You are expected to split both the dataframes into train and test format in 60:40 ratio \n",
        "\n",
        "- Note - The expected output should be in \"X_train\", \"X_loc_test\", \"y_train\", \"y_loc_test\" format "
      ]
    },
    {
      "cell_type": "code",
      "execution_count": 53,
      "id": "d92160a5",
      "metadata": {
        "id": "d92160a5"
      },
      "outputs": [],
      "source": [
        "from sklearn.model_selection import train_test_split\n",
        "\n",
        "X_train,X_loc_test,y_train,y_loc_test = train_test_split(X,y,test_size=0.4,random_state=0 , shuffle = False)"
      ]
    },
    {
      "cell_type": "markdown",
      "id": "p4OME62pDufR",
      "metadata": {
        "id": "p4OME62pDufR"
      },
      "source": [
        "### Please check for the number of rows and columns of all the new dataframes (all 4)"
      ]
    },
    {
      "cell_type": "code",
      "execution_count": 54,
      "id": "48328d0a",
      "metadata": {
        "colab": {
          "base_uri": "https://localhost:8080/"
        },
        "id": "48328d0a",
        "outputId": "3e48ee26-08c3-4f12-e144-73dfcf20162c"
      },
      "outputs": [
        {
          "name": "stdout",
          "output_type": "stream",
          "text": [
            "(23494, 10) (15664, 10) (23494,) (15664,)\n"
          ]
        }
      ],
      "source": [
        "print(X_train.shape,X_loc_test.shape,y_train.shape,y_loc_test.shape)"
      ]
    },
    {
      "cell_type": "markdown",
      "id": "4a68ed71",
      "metadata": {
        "id": "4a68ed71"
      },
      "source": [
        "### Now you are expected to split the \"X_loc_test\" and \"y_loc_test\" dataset into \"Test\" and \"Validation\" (as the names given below) dataframe with 50:50 format \n",
        "\n",
        "- Note - The expected output should be in \"X_val\", \"X_test\", \"y_val\", \"y_test\" format"
      ]
    },
    {
      "cell_type": "code",
      "execution_count": 55,
      "id": "b56c62f2",
      "metadata": {
        "id": "b56c62f2"
      },
      "outputs": [],
      "source": [
        "X_val,X_test,y_val,y_test = train_test_split(X_loc_test,y_loc_test,test_size=0.5,random_state=0 , shuffle = False)"
      ]
    },
    {
      "cell_type": "markdown",
      "id": "bJTSAskvERH1",
      "metadata": {
        "id": "bJTSAskvERH1"
      },
      "source": [
        "### Please check for the number of rows and columns of all the 4 dataframes "
      ]
    },
    {
      "cell_type": "code",
      "execution_count": 56,
      "id": "845d7564",
      "metadata": {
        "colab": {
          "base_uri": "https://localhost:8080/"
        },
        "id": "845d7564",
        "outputId": "21dc3b3f-c9d0-4ec8-d790-c0b3cd9e2ed1"
      },
      "outputs": [
        {
          "name": "stdout",
          "output_type": "stream",
          "text": [
            "(7832, 10) (7832, 10) (7832,) (7832,)\n"
          ]
        }
      ],
      "source": [
        "print(X_val.shape,X_test.shape,y_val.shape,y_test.shape)"
      ]
    },
    {
      "cell_type": "markdown",
      "id": "110fa872",
      "metadata": {
        "id": "110fa872"
      },
      "source": [
        "# Exploratory Data Analysis (EDA) "
      ]
    },
    {
      "cell_type": "markdown",
      "id": "ffc8fe0f",
      "metadata": {
        "id": "ffc8fe0f"
      },
      "source": [
        "### Distribution Plot of the target variable (use the dataframe which contains the target field)\n",
        "\n",
        "- Note - You are expected to make a distribution plot for the target variable "
      ]
    },
    {
      "cell_type": "code",
      "execution_count": 57,
      "id": "ba2bf8ed",
      "metadata": {
        "colab": {
          "base_uri": "https://localhost:8080/",
          "height": 308
        },
        "id": "ba2bf8ed",
        "outputId": "ea3649d1-30ce-40a6-e4d9-648cf4159a67"
      },
      "outputs": [
        {
          "data": {
            "text/plain": [
              "<AxesSubplot:xlabel='avg_delay', ylabel='Density'>"
            ]
          },
          "execution_count": 57,
          "metadata": {},
          "output_type": "execute_result"
        },
        {
          "data": {
            "image/png": "[encoded data removed]",
            "text/plain": [
              "<Figure size 432x288 with 1 Axes>"
            ]
          },
          "metadata": {
            "needs_background": "light"
          },
          "output_type": "display_data"
        }
      ],
      "source": [
        "sns.distplot(y)"
      ]
    },
    {
      "cell_type": "markdown",
      "id": "d0e323a3",
      "metadata": {
        "id": "d0e323a3"
      },
      "source": [
        "### You are expected to group the X_train dataset on 'name_customer' column with 'doc_id' in the x_train set\n",
        "\n",
        "### Need to store the outcome into a new dataframe \n",
        "\n",
        "- Note code given for groupby statement- X_train.groupby(by=['name_customer'], as_index=False)['doc_id'].count()"
      ]
    },
    {
      "cell_type": "code",
      "execution_count": 58,
      "id": "f7acf0ee",
      "metadata": {
        "id": "f7acf0ee"
      },
      "outputs": [],
      "source": [
        "name_doc_grp = X_train.groupby(by=['name_customer'], as_index=False)['doc_id'].count()"
      ]
    },
    {
      "cell_type": "markdown",
      "id": "cA43bFffFt6i",
      "metadata": {
        "id": "cA43bFffFt6i"
      },
      "source": [
        "### You can make another distribution plot of the \"doc_id\" column from x_train"
      ]
    },
    {
      "cell_type": "code",
      "execution_count": 59,
      "id": "9576bf33",
      "metadata": {
        "colab": {
          "base_uri": "https://localhost:8080/",
          "height": 308
        },
        "id": "9576bf33",
        "outputId": "d8bc6903-933b-44cd-c9d4-10fad0467ac9"
      },
      "outputs": [
        {
          "data": {
            "text/plain": [
              "<AxesSubplot:xlabel='doc_id', ylabel='Density'>"
            ]
          },
          "execution_count": 59,
          "metadata": {},
          "output_type": "execute_result"
        },
        {
          "data": {
            "image/png": "[encoded data removed]",
            "text/plain": [
              "<Figure size 432x288 with 1 Axes>"
            ]
          },
          "metadata": {
            "needs_background": "light"
          },
          "output_type": "display_data"
        }
      ],
      "source": [
        "sns.distplot(X_train['doc_id'])"
      ]
    },
    {
      "cell_type": "markdown",
      "id": "fba2c44f",
      "metadata": {
        "id": "fba2c44f"
      },
      "source": [
        "#### Create a Distribution plot only for business_year and a seperate distribution plot of \"business_year\" column along with the doc_id\" column\n"
      ]
    },
    {
      "cell_type": "code",
      "execution_count": 60,
      "id": "4fecec77",
      "metadata": {
        "colab": {
          "base_uri": "https://localhost:8080/",
          "height": 297
        },
        "id": "4fecec77",
        "outputId": "d86052d8-e5f6-4843-e3f0-faefdb34d12a"
      },
      "outputs": [
        {
          "data": {
            "text/plain": [
              "<AxesSubplot:xlabel='buisness_year', ylabel='Density'>"
            ]
          },
          "execution_count": 60,
          "metadata": {},
          "output_type": "execute_result"
        },
        {
          "data": {
            "image/png": "[encoded data removed]",
            "text/plain": [
              "<Figure size 432x288 with 1 Axes>"
            ]
          },
          "metadata": {
            "needs_background": "light"
          },
          "output_type": "display_data"
        }
      ],
      "source": [
        "sns.distplot(X_train['buisness_year'])"
      ]
    },
    {
      "cell_type": "code",
      "execution_count": 61,
      "id": "qr1jGhfOKjnw",
      "metadata": {
        "colab": {
          "base_uri": "https://localhost:8080/",
          "height": 386
        },
        "id": "qr1jGhfOKjnw",
        "outputId": "ecd44d6c-8611-4f5e-b68b-c0238f2c5cbe"
      },
      "outputs": [
        {
          "data": {
            "text/plain": [
              "<seaborn.axisgrid.FacetGrid at 0x277d2582250>"
            ]
          },
          "execution_count": 61,
          "metadata": {},
          "output_type": "execute_result"
        },
        {
          "data": {
            "image/png": "[encoded data removed]",
            "text/plain": [
              "<Figure size 432x360 with 1 Axes>"
            ]
          },
          "metadata": {
            "needs_background": "light"
          },
          "output_type": "display_data"
        }
      ],
      "source": [
        "sns.displot(\n",
        "  data=X_train,\n",
        "  x=\"doc_id\",\n",
        "  y=\"buisness_year\",\n",
        "  height=5,\n",
        "  aspect=1.2,\n",
        "  log_scale=(10,0),\n",
        "  bins=20\n",
        ")"
      ]
    },
    {
      "cell_type": "markdown",
      "id": "968fbcc9",
      "metadata": {
        "id": "968fbcc9"
      },
      "source": [
        "# Feature Engineering "
      ]
    },
    {
      "cell_type": "markdown",
      "id": "jbh6CyGqH3XE",
      "metadata": {
        "id": "jbh6CyGqH3XE"
      },
      "source": [
        "### Display and describe the X_train dataframe "
      ]
    },
    {
      "cell_type": "code",
      "execution_count": 62,
      "id": "e6bcf307",
      "metadata": {
        "colab": {
          "base_uri": "https://localhost:8080/",
          "height": 485
        },
        "id": "e6bcf307",
        "outputId": "b4e7b822-1926-433a-ebee-f3970dd2bc43"
      },
      "outputs": [
        {
          "data": {
            "text/html": [
              "<div>\n",
              "<style scoped>\n",
              "    .dataframe tbody tr th:only-of-type {\n",
              "        vertical-align: middle;\n",
              "    }\n",
              "\n",
              "    .dataframe tbody tr th {\n",
              "        vertical-align: top;\n",
              "    }\n",
              "\n",
              "    .dataframe thead th {\n",
              "        text-align: right;\n",
              "    }\n",
              "</style>\n",
              "<table border=\"1\" class=\"dataframe\">\n",
              "  <thead>\n",
              "    <tr style=\"text-align: right;\">\n",
              "      <th></th>\n",
              "      <th>business_code</th>\n",
              "      <th>cust_number</th>\n",
              "      <th>name_customer</th>\n",
              "      <th>buisness_year</th>\n",
              "      <th>doc_id</th>\n",
              "      <th>posting_date</th>\n",
              "      <th>due_in_date</th>\n",
              "      <th>baseline_create_date</th>\n",
              "      <th>cust_payment_terms</th>\n",
              "      <th>converted_usd</th>\n",
              "    </tr>\n",
              "  </thead>\n",
              "  <tbody>\n",
              "    <tr>\n",
              "      <th>0</th>\n",
              "      <td>U001</td>\n",
              "      <td>200769623</td>\n",
              "      <td>WAL-MAR corp</td>\n",
              "      <td>2020</td>\n",
              "      <td>1930438491</td>\n",
              "      <td>2020-01-26</td>\n",
              "      <td>2020-02-10</td>\n",
              "      <td>2020-01-26</td>\n",
              "      <td>NAH4</td>\n",
              "      <td>54273.280</td>\n",
              "    </tr>\n",
              "    <tr>\n",
              "      <th>1</th>\n",
              "      <td>U001</td>\n",
              "      <td>200980828</td>\n",
              "      <td>BEN E</td>\n",
              "      <td>2019</td>\n",
              "      <td>1929646410</td>\n",
              "      <td>2019-07-22</td>\n",
              "      <td>2019-08-11</td>\n",
              "      <td>2019-07-22</td>\n",
              "      <td>NAD1</td>\n",
              "      <td>79656.600</td>\n",
              "    </tr>\n",
              "    <tr>\n",
              "      <th>2</th>\n",
              "      <td>U001</td>\n",
              "      <td>200792734</td>\n",
              "      <td>MDV/ trust</td>\n",
              "      <td>2019</td>\n",
              "      <td>1929873765</td>\n",
              "      <td>2019-09-14</td>\n",
              "      <td>2019-09-29</td>\n",
              "      <td>2019-09-14</td>\n",
              "      <td>NAA8</td>\n",
              "      <td>2253.860</td>\n",
              "    </tr>\n",
              "    <tr>\n",
              "      <th>4</th>\n",
              "      <td>U001</td>\n",
              "      <td>200769623</td>\n",
              "      <td>WAL-MAR foundation</td>\n",
              "      <td>2019</td>\n",
              "      <td>1930147974</td>\n",
              "      <td>2019-11-13</td>\n",
              "      <td>2019-11-28</td>\n",
              "      <td>2019-11-13</td>\n",
              "      <td>NAH4</td>\n",
              "      <td>33133.290</td>\n",
              "    </tr>\n",
              "    <tr>\n",
              "      <th>5</th>\n",
              "      <td>CA02</td>\n",
              "      <td>140106181</td>\n",
              "      <td>THE  corporation</td>\n",
              "      <td>2019</td>\n",
              "      <td>2960581231</td>\n",
              "      <td>2019-09-20</td>\n",
              "      <td>2019-10-04</td>\n",
              "      <td>2019-09-24</td>\n",
              "      <td>CA10</td>\n",
              "      <td>15558.088</td>\n",
              "    </tr>\n",
              "    <tr>\n",
              "      <th>...</th>\n",
              "      <td>...</td>\n",
              "      <td>...</td>\n",
              "      <td>...</td>\n",
              "      <td>...</td>\n",
              "      <td>...</td>\n",
              "      <td>...</td>\n",
              "      <td>...</td>\n",
              "      <td>...</td>\n",
              "      <td>...</td>\n",
              "      <td>...</td>\n",
              "    </tr>\n",
              "    <tr>\n",
              "      <th>29659</th>\n",
              "      <td>U001</td>\n",
              "      <td>200772670</td>\n",
              "      <td>ASSOCIAT associates</td>\n",
              "      <td>2019</td>\n",
              "      <td>1929725188</td>\n",
              "      <td>2019-08-08</td>\n",
              "      <td>2019-08-23</td>\n",
              "      <td>2019-08-08</td>\n",
              "      <td>NAU5</td>\n",
              "      <td>17737.190</td>\n",
              "    </tr>\n",
              "    <tr>\n",
              "      <th>29662</th>\n",
              "      <td>U001</td>\n",
              "      <td>200794332</td>\n",
              "      <td>COST corporation</td>\n",
              "      <td>2020</td>\n",
              "      <td>1930468866</td>\n",
              "      <td>2020-06-02</td>\n",
              "      <td>2020-02-21</td>\n",
              "      <td>2020-02-06</td>\n",
              "      <td>NAAX</td>\n",
              "      <td>62408.160</td>\n",
              "    </tr>\n",
              "    <tr>\n",
              "      <th>29663</th>\n",
              "      <td>U001</td>\n",
              "      <td>200769623</td>\n",
              "      <td>WAL-MAR associates</td>\n",
              "      <td>2019</td>\n",
              "      <td>1929143067</td>\n",
              "      <td>2019-04-14</td>\n",
              "      <td>2019-04-29</td>\n",
              "      <td>2019-04-14</td>\n",
              "      <td>NAH4</td>\n",
              "      <td>20265.150</td>\n",
              "    </tr>\n",
              "    <tr>\n",
              "      <th>29664</th>\n",
              "      <td>U001</td>\n",
              "      <td>200696090</td>\n",
              "      <td>UNITE</td>\n",
              "      <td>2019</td>\n",
              "      <td>1928949641</td>\n",
              "      <td>2019-03-18</td>\n",
              "      <td>2019-04-02</td>\n",
              "      <td>2019-03-18</td>\n",
              "      <td>NAA8</td>\n",
              "      <td>4962.340</td>\n",
              "    </tr>\n",
              "    <tr>\n",
              "      <th>29665</th>\n",
              "      <td>U001</td>\n",
              "      <td>200794332</td>\n",
              "      <td>COST in</td>\n",
              "      <td>2019</td>\n",
              "      <td>1929086556</td>\n",
              "      <td>2019-08-04</td>\n",
              "      <td>2019-04-23</td>\n",
              "      <td>2019-04-08</td>\n",
              "      <td>NAAX</td>\n",
              "      <td>8041.590</td>\n",
              "    </tr>\n",
              "  </tbody>\n",
              "</table>\n",
              "<p>23494 rows × 10 columns</p>\n",
              "</div>"
            ],
            "text/plain": [
              "      business_code cust_number        name_customer  buisness_year  \\\n",
              "0              U001   200769623         WAL-MAR corp           2020   \n",
              "1              U001   200980828               BEN E            2019   \n",
              "2              U001   200792734           MDV/ trust           2019   \n",
              "4              U001   200769623   WAL-MAR foundation           2019   \n",
              "5              CA02   140106181     THE  corporation           2019   \n",
              "...             ...         ...                  ...            ...   \n",
              "29659          U001   200772670  ASSOCIAT associates           2019   \n",
              "29662          U001   200794332     COST corporation           2020   \n",
              "29663          U001   200769623   WAL-MAR associates           2019   \n",
              "29664          U001   200696090               UNITE            2019   \n",
              "29665          U001   200794332              COST in           2019   \n",
              "\n",
              "           doc_id posting_date due_in_date baseline_create_date  \\\n",
              "0      1930438491   2020-01-26  2020-02-10           2020-01-26   \n",
              "1      1929646410   2019-07-22  2019-08-11           2019-07-22   \n",
              "2      1929873765   2019-09-14  2019-09-29           2019-09-14   \n",
              "4      1930147974   2019-11-13  2019-11-28           2019-11-13   \n",
              "5      2960581231   2019-09-20  2019-10-04           2019-09-24   \n",
              "...           ...          ...         ...                  ...   \n",
              "29659  1929725188   2019-08-08  2019-08-23           2019-08-08   \n",
              "29662  1930468866   2020-06-02  2020-02-21           2020-02-06   \n",
              "29663  1929143067   2019-04-14  2019-04-29           2019-04-14   \n",
              "29664  1928949641   2019-03-18  2019-04-02           2019-03-18   \n",
              "29665  1929086556   2019-08-04  2019-04-23           2019-04-08   \n",
              "\n",
              "      cust_payment_terms  converted_usd  \n",
              "0                   NAH4      54273.280  \n",
              "1                   NAD1      79656.600  \n",
              "2                   NAA8       2253.860  \n",
              "4                   NAH4      33133.290  \n",
              "5                   CA10      15558.088  \n",
              "...                  ...            ...  \n",
              "29659               NAU5      17737.190  \n",
              "29662               NAAX      62408.160  \n",
              "29663               NAH4      20265.150  \n",
              "29664               NAA8       4962.340  \n",
              "29665               NAAX       8041.590  \n",
              "\n",
              "[23494 rows x 10 columns]"
            ]
          },
          "execution_count": 62,
          "metadata": {},
          "output_type": "execute_result"
        }
      ],
      "source": [
        "X_train"
      ]
    },
    {
      "cell_type": "code",
      "execution_count": 63,
      "id": "08ccc819",
      "metadata": {
        "colab": {
          "base_uri": "https://localhost:8080/",
          "height": 300
        },
        "id": "08ccc819",
        "outputId": "d1b3eeca-a65f-49a0-9cca-7c7a2016d502"
      },
      "outputs": [
        {
          "data": {
            "text/html": [
              "<div>\n",
              "<style scoped>\n",
              "    .dataframe tbody tr th:only-of-type {\n",
              "        vertical-align: middle;\n",
              "    }\n",
              "\n",
              "    .dataframe tbody tr th {\n",
              "        vertical-align: top;\n",
              "    }\n",
              "\n",
              "    .dataframe thead th {\n",
              "        text-align: right;\n",
              "    }\n",
              "</style>\n",
              "<table border=\"1\" class=\"dataframe\">\n",
              "  <thead>\n",
              "    <tr style=\"text-align: right;\">\n",
              "      <th></th>\n",
              "      <th>buisness_year</th>\n",
              "      <th>doc_id</th>\n",
              "      <th>converted_usd</th>\n",
              "    </tr>\n",
              "  </thead>\n",
              "  <tbody>\n",
              "    <tr>\n",
              "      <th>count</th>\n",
              "      <td>23494.000000</td>\n",
              "      <td>2.349400e+04</td>\n",
              "      <td>23494.000000</td>\n",
              "    </tr>\n",
              "    <tr>\n",
              "      <th>mean</th>\n",
              "      <td>2019.132842</td>\n",
              "      <td>2.012017e+09</td>\n",
              "      <td>30762.476822</td>\n",
              "    </tr>\n",
              "    <tr>\n",
              "      <th>std</th>\n",
              "      <td>0.339412</td>\n",
              "      <td>2.853757e+08</td>\n",
              "      <td>36595.303329</td>\n",
              "    </tr>\n",
              "    <tr>\n",
              "      <th>min</th>\n",
              "      <td>2019.000000</td>\n",
              "      <td>1.928502e+09</td>\n",
              "      <td>2.400000</td>\n",
              "    </tr>\n",
              "    <tr>\n",
              "      <th>25%</th>\n",
              "      <td>2019.000000</td>\n",
              "      <td>1.929181e+09</td>\n",
              "      <td>4620.800000</td>\n",
              "    </tr>\n",
              "    <tr>\n",
              "      <th>50%</th>\n",
              "      <td>2019.000000</td>\n",
              "      <td>1.929733e+09</td>\n",
              "      <td>17027.670000</td>\n",
              "    </tr>\n",
              "    <tr>\n",
              "      <th>75%</th>\n",
              "      <td>2019.000000</td>\n",
              "      <td>1.930209e+09</td>\n",
              "      <td>45545.810000</td>\n",
              "    </tr>\n",
              "    <tr>\n",
              "      <th>max</th>\n",
              "      <td>2020.000000</td>\n",
              "      <td>9.500000e+09</td>\n",
              "      <td>668593.360000</td>\n",
              "    </tr>\n",
              "  </tbody>\n",
              "</table>\n",
              "</div>"
            ],
            "text/plain": [
              "       buisness_year        doc_id  converted_usd\n",
              "count   23494.000000  2.349400e+04   23494.000000\n",
              "mean     2019.132842  2.012017e+09   30762.476822\n",
              "std         0.339412  2.853757e+08   36595.303329\n",
              "min      2019.000000  1.928502e+09       2.400000\n",
              "25%      2019.000000  1.929181e+09    4620.800000\n",
              "50%      2019.000000  1.929733e+09   17027.670000\n",
              "75%      2019.000000  1.930209e+09   45545.810000\n",
              "max      2020.000000  9.500000e+09  668593.360000"
            ]
          },
          "execution_count": 63,
          "metadata": {},
          "output_type": "execute_result"
        }
      ],
      "source": [
        "X_train.describe()"
      ]
    },
    {
      "cell_type": "markdown",
      "id": "abd7ac8b",
      "metadata": {
        "id": "abd7ac8b"
      },
      "source": [
        "#### The \"business_code\" column inside X_train, is a categorical column, so you need to perform Labelencoder on that particular column\n",
        "\n",
        "- Note - call the Label Encoder from sklearn library and use the fit() function on \"business_code\" column\n",
        "- Note - Please fill in the blanks (two) to complete this code"
      ]
    },
    {
      "cell_type": "code",
      "execution_count": 64,
      "id": "7c223545",
      "metadata": {
        "colab": {
          "base_uri": "https://localhost:8080/"
        },
        "id": "7c223545",
        "outputId": "6f9746e9-1110-42f5-8acb-d432394bf9eb"
      },
      "outputs": [
        {
          "data": {
            "text/plain": [
              "array([1, 1, 1, ..., 1, 1, 1])"
            ]
          },
          "execution_count": 64,
          "metadata": {},
          "output_type": "execute_result"
        }
      ],
      "source": [
        "from sklearn.preprocessing import LabelEncoder\n",
        "business_coder = LabelEncoder()\n",
        "business_coder.fit_transform(X_train['business_code'])"
      ]
    },
    {
      "cell_type": "markdown",
      "id": "f86f7d9c",
      "metadata": {
        "id": "f86f7d9c"
      },
      "source": [
        "#### You are expected to store the value into a new column i.e. \"business_code_enc\"\n",
        "\n",
        "- Note - For Training set you are expected to use fit_trainsform()\n",
        "- Note - For Test set you are expected to use the trainsform()\n",
        "- Note - For Validation set you are expected to use the trainsform()\n",
        "\n",
        "\n",
        "- Partial code is provided, please fill in the blanks "
      ]
    },
    {
      "cell_type": "code",
      "execution_count": 65,
      "id": "4269c307",
      "metadata": {
        "id": "4269c307"
      },
      "outputs": [],
      "source": [
        "X_train['business_code_enc'] = business_coder.fit_transform(X_train['business_code'])"
      ]
    },
    {
      "cell_type": "code",
      "execution_count": 66,
      "id": "70a53712",
      "metadata": {
        "id": "70a53712"
      },
      "outputs": [],
      "source": [
        "X_val['business_code_enc'] = business_coder.transform(X_val['business_code'])\n",
        "X_test['business_code_enc'] = business_coder.transform(X_test['business_code'])"
      ]
    },
    {
      "cell_type": "markdown",
      "id": "gdNYxTkqNfmz",
      "metadata": {
        "id": "gdNYxTkqNfmz"
      },
      "source": [
        "### Display \"business_code\" and \"business_code_enc\" together from X_train dataframe "
      ]
    },
    {
      "cell_type": "code",
      "execution_count": 67,
      "id": "1196a002",
      "metadata": {
        "colab": {
          "base_uri": "https://localhost:8080/",
          "height": 423
        },
        "id": "1196a002",
        "outputId": "ad8f75b3-da9e-4c76-efa1-60fabf61213f"
      },
      "outputs": [
        {
          "data": {
            "text/html": [
              "<div>\n",
              "<style scoped>\n",
              "    .dataframe tbody tr th:only-of-type {\n",
              "        vertical-align: middle;\n",
              "    }\n",
              "\n",
              "    .dataframe tbody tr th {\n",
              "        vertical-align: top;\n",
              "    }\n",
              "\n",
              "    .dataframe thead th {\n",
              "        text-align: right;\n",
              "    }\n",
              "</style>\n",
              "<table border=\"1\" class=\"dataframe\">\n",
              "  <thead>\n",
              "    <tr style=\"text-align: right;\">\n",
              "      <th></th>\n",
              "      <th>business_code</th>\n",
              "      <th>business_code_enc</th>\n",
              "    </tr>\n",
              "  </thead>\n",
              "  <tbody>\n",
              "    <tr>\n",
              "      <th>0</th>\n",
              "      <td>U001</td>\n",
              "      <td>1</td>\n",
              "    </tr>\n",
              "    <tr>\n",
              "      <th>1</th>\n",
              "      <td>U001</td>\n",
              "      <td>1</td>\n",
              "    </tr>\n",
              "    <tr>\n",
              "      <th>2</th>\n",
              "      <td>U001</td>\n",
              "      <td>1</td>\n",
              "    </tr>\n",
              "    <tr>\n",
              "      <th>4</th>\n",
              "      <td>U001</td>\n",
              "      <td>1</td>\n",
              "    </tr>\n",
              "    <tr>\n",
              "      <th>5</th>\n",
              "      <td>CA02</td>\n",
              "      <td>0</td>\n",
              "    </tr>\n",
              "    <tr>\n",
              "      <th>...</th>\n",
              "      <td>...</td>\n",
              "      <td>...</td>\n",
              "    </tr>\n",
              "    <tr>\n",
              "      <th>29659</th>\n",
              "      <td>U001</td>\n",
              "      <td>1</td>\n",
              "    </tr>\n",
              "    <tr>\n",
              "      <th>29662</th>\n",
              "      <td>U001</td>\n",
              "      <td>1</td>\n",
              "    </tr>\n",
              "    <tr>\n",
              "      <th>29663</th>\n",
              "      <td>U001</td>\n",
              "      <td>1</td>\n",
              "    </tr>\n",
              "    <tr>\n",
              "      <th>29664</th>\n",
              "      <td>U001</td>\n",
              "      <td>1</td>\n",
              "    </tr>\n",
              "    <tr>\n",
              "      <th>29665</th>\n",
              "      <td>U001</td>\n",
              "      <td>1</td>\n",
              "    </tr>\n",
              "  </tbody>\n",
              "</table>\n",
              "<p>23494 rows × 2 columns</p>\n",
              "</div>"
            ],
            "text/plain": [
              "      business_code  business_code_enc\n",
              "0              U001                  1\n",
              "1              U001                  1\n",
              "2              U001                  1\n",
              "4              U001                  1\n",
              "5              CA02                  0\n",
              "...             ...                ...\n",
              "29659          U001                  1\n",
              "29662          U001                  1\n",
              "29663          U001                  1\n",
              "29664          U001                  1\n",
              "29665          U001                  1\n",
              "\n",
              "[23494 rows x 2 columns]"
            ]
          },
          "execution_count": 67,
          "metadata": {},
          "output_type": "execute_result"
        }
      ],
      "source": [
        "X_train[['business_code','business_code_enc']]"
      ]
    },
    {
      "cell_type": "markdown",
      "id": "11477224",
      "metadata": {
        "id": "11477224"
      },
      "source": [
        "#### Create a function called \"custom\" for dropping the columns 'business_code' from train, test and validation dataframe\n",
        "\n",
        "- Note - Fill in the blank to complete the code"
      ]
    },
    {
      "cell_type": "code",
      "execution_count": 68,
      "id": "1052868a",
      "metadata": {
        "id": "1052868a"
      },
      "outputs": [],
      "source": [
        "def custom(col ,traindf = X_train,valdf = X_val,testdf = X_test):\n",
        "    traindf.drop(col, axis =1,inplace=True)\n",
        "    valdf.drop(col,axis=1 , inplace=True)\n",
        "    testdf.drop(col,axis=1 , inplace=True)\n",
        "\n",
        "    return traindf,valdf ,testdf"
      ]
    },
    {
      "cell_type": "markdown",
      "id": "rI--ZuMbNLne",
      "metadata": {
        "id": "rI--ZuMbNLne"
      },
      "source": [
        "### Call the function by passing the column name which needed to be dropped from train, test and validation dataframes. Return updated dataframes to be stored in X_train ,X_val, X_test  \n",
        "\n",
        "- Note = Fill in the blank to complete the code "
      ]
    },
    {
      "cell_type": "code",
      "execution_count": 69,
      "id": "1a0f955c",
      "metadata": {
        "id": "1a0f955c"
      },
      "outputs": [],
      "source": [
        "X_train ,X_val, X_test = custom(['business_code'])"
      ]
    },
    {
      "cell_type": "markdown",
      "id": "28b5b27e",
      "metadata": {
        "id": "28b5b27e"
      },
      "source": [
        "### Manually replacing str values with numbers, Here we are trying manually replace the customer numbers with some specific values like, 'CCCA' as 1, 'CCU' as 2 and so on. Also we are converting the datatype \"cust_number\" field to int type.\n",
        "\n",
        "- We are doing it for all the three dataframes as shown below. This is fully completed code. No need to modify anything here \n",
        "\n"
      ]
    },
    {
      "cell_type": "code",
      "execution_count": 70,
      "id": "85dd129e",
      "metadata": {
        "id": "85dd129e"
      },
      "outputs": [],
      "source": [
        "X_train['cust_number'] = X_train['cust_number'].str.replace('CCCA',\"1\").str.replace('CCU',\"2\").str.replace('CC',\"3\").astype(int)\n",
        "X_test['cust_number'] = X_test['cust_number'].str.replace('CCCA',\"1\").str.replace('CCU',\"2\").str.replace('CC',\"3\").astype(int)\n",
        "X_val['cust_number'] = X_val['cust_number'].str.replace('CCCA',\"1\").str.replace('CCU',\"2\").str.replace('CC',\"3\").astype(int)\n"
      ]
    },
    {
      "cell_type": "markdown",
      "id": "U8vA-zmdPnJ8",
      "metadata": {
        "id": "U8vA-zmdPnJ8"
      },
      "source": [
        "#### It differs from LabelEncoder by handling new classes and providing a value for it [Unknown]. Unknown will be added in fit and transform will take care of new item. It gives unknown class id.\n",
        "\n",
        "#### This will fit the encoder for all the unique values and introduce unknown value\n",
        "\n",
        "- Note - Keep this code as it is, we will be using this later on.  "
      ]
    },
    {
      "cell_type": "code",
      "execution_count": 71,
      "id": "151f48ba",
      "metadata": {
        "id": "151f48ba"
      },
      "outputs": [],
      "source": [
        "#For encoding unseen labels\n",
        "class EncoderExt(object):\n",
        "    def __init__(self):\n",
        "        self.label_encoder = LabelEncoder()\n",
        "    def fit(self, data_list):\n",
        "        self.label_encoder = self.label_encoder.fit(list(data_list) + ['Unknown'])\n",
        "        self.classes_ = self.label_encoder.classes_\n",
        "        return self\n",
        "    def transform(self, data_list):\n",
        "        new_data_list = list(data_list)\n",
        "        for unique_item in np.unique(data_list):\n",
        "            if unique_item not in self.label_encoder.classes_:\n",
        "                new_data_list = ['Unknown' if x==unique_item else x for x in new_data_list]\n",
        "        return self.label_encoder.transform(new_data_list)"
      ]
    },
    {
      "cell_type": "markdown",
      "id": "254c64e6",
      "metadata": {
        "id": "254c64e6"
      },
      "source": [
        "### Use the user define Label Encoder function called \"EncoderExt\" for the \"name_customer\" column\n",
        "\n",
        "- Note - Keep the code as it is, no need to change"
      ]
    },
    {
      "cell_type": "code",
      "execution_count": 72,
      "id": "62b17eff",
      "metadata": {
        "id": "62b17eff"
      },
      "outputs": [],
      "source": [
        "label_encoder = EncoderExt()\n",
        "label_encoder.fit(X_train['name_customer'])\n",
        "X_train['name_customer_enc']=label_encoder.transform(X_train['name_customer'])\n",
        "X_val['name_customer_enc']=label_encoder.transform(X_val['name_customer'])\n",
        "X_test['name_customer_enc']=label_encoder.transform(X_test['name_customer'])"
      ]
    },
    {
      "cell_type": "markdown",
      "id": "mK7LMoy2QZhy",
      "metadata": {
        "id": "mK7LMoy2QZhy"
      },
      "source": [
        "### As we have created the a new column \"name_customer_enc\", so now drop \"name_customer\" column from all three dataframes\n",
        "\n",
        "- Note - Keep the code as it is, no need to change"
      ]
    },
    {
      "cell_type": "code",
      "execution_count": 73,
      "id": "ef85f1c0",
      "metadata": {
        "id": "ef85f1c0"
      },
      "outputs": [],
      "source": [
        "X_train ,X_val, X_test = custom(['name_customer'])"
      ]
    },
    {
      "cell_type": "markdown",
      "id": "3aa09d22",
      "metadata": {
        "id": "3aa09d22"
      },
      "source": [
        "### Using Label Encoder for the \"cust_payment_terms\" column\n",
        "\n",
        "- Note - Keep the code as it is, no need to change"
      ]
    },
    {
      "cell_type": "code",
      "execution_count": 74,
      "id": "6f9ab642",
      "metadata": {
        "id": "6f9ab642"
      },
      "outputs": [],
      "source": [
        "label_encoder1 = EncoderExt()\n",
        "label_encoder1.fit(X_train['cust_payment_terms'])\n",
        "X_train['cust_payment_terms_enc']=label_encoder1.transform(X_train['cust_payment_terms'])\n",
        "X_val['cust_payment_terms_enc']=label_encoder1.transform(X_val['cust_payment_terms'])\n",
        "X_test['cust_payment_terms_enc']=label_encoder1.transform(X_test['cust_payment_terms'])"
      ]
    },
    {
      "cell_type": "code",
      "execution_count": 75,
      "id": "55f9a7c2",
      "metadata": {
        "id": "55f9a7c2"
      },
      "outputs": [],
      "source": [
        "X_train ,X_val, X_test = custom(['cust_payment_terms'])"
      ]
    },
    {
      "cell_type": "markdown",
      "id": "0788f42b",
      "metadata": {
        "id": "0788f42b"
      },
      "source": [
        "## Check the datatype of all the columns of Train, Test and Validation dataframes realted to X\n",
        "\n",
        "- Note - You are expected yo use dtype"
      ]
    },
    {
      "cell_type": "code",
      "execution_count": 76,
      "id": "bc79a316",
      "metadata": {
        "colab": {
          "base_uri": "https://localhost:8080/"
        },
        "id": "bc79a316",
        "outputId": "908812ff-b490-49ff-a30f-a1ee39462e33"
      },
      "outputs": [
        {
          "data": {
            "text/plain": [
              "cust_number                        int32\n",
              "buisness_year                      int64\n",
              "doc_id                             int64\n",
              "posting_date              datetime64[ns]\n",
              "due_in_date               datetime64[ns]\n",
              "baseline_create_date      datetime64[ns]\n",
              "converted_usd                    float64\n",
              "business_code_enc                  int32\n",
              "name_customer_enc                  int32\n",
              "cust_payment_terms_enc             int32\n",
              "dtype: object"
            ]
          },
          "execution_count": 76,
          "metadata": {},
          "output_type": "execute_result"
        }
      ],
      "source": [
        "X_train.dtypes"
      ]
    },
    {
      "cell_type": "code",
      "execution_count": 77,
      "id": "b33242d8",
      "metadata": {
        "colab": {
          "base_uri": "https://localhost:8080/"
        },
        "id": "b33242d8",
        "outputId": "ff716015-3f1c-4877-875f-cbb12deb6c14"
      },
      "outputs": [
        {
          "data": {
            "text/plain": [
              "cust_number                        int32\n",
              "buisness_year                      int64\n",
              "doc_id                             int64\n",
              "posting_date              datetime64[ns]\n",
              "due_in_date               datetime64[ns]\n",
              "baseline_create_date      datetime64[ns]\n",
              "converted_usd                    float64\n",
              "business_code_enc                  int32\n",
              "name_customer_enc                  int32\n",
              "cust_payment_terms_enc             int32\n",
              "dtype: object"
            ]
          },
          "execution_count": 77,
          "metadata": {},
          "output_type": "execute_result"
        }
      ],
      "source": [
        "X_test.dtypes"
      ]
    },
    {
      "cell_type": "code",
      "execution_count": 78,
      "id": "6bd4da71",
      "metadata": {
        "colab": {
          "base_uri": "https://localhost:8080/"
        },
        "id": "6bd4da71",
        "outputId": "4a139e81-7aec-48ed-ac47-71cc558a1d3f"
      },
      "outputs": [
        {
          "data": {
            "text/plain": [
              "cust_number                        int32\n",
              "buisness_year                      int64\n",
              "doc_id                             int64\n",
              "posting_date              datetime64[ns]\n",
              "due_in_date               datetime64[ns]\n",
              "baseline_create_date      datetime64[ns]\n",
              "converted_usd                    float64\n",
              "business_code_enc                  int32\n",
              "name_customer_enc                  int32\n",
              "cust_payment_terms_enc             int32\n",
              "dtype: object"
            ]
          },
          "execution_count": 78,
          "metadata": {},
          "output_type": "execute_result"
        }
      ],
      "source": [
        "X_val.dtypes"
      ]
    },
    {
      "cell_type": "markdown",
      "id": "LVfvuPiWPeMB",
      "metadata": {
        "id": "LVfvuPiWPeMB"
      },
      "source": [
        "### From the above output you can notice their are multiple date columns with datetime format\n",
        "\n",
        "### In order to pass it into our model, we need to convert it into float format"
      ]
    },
    {
      "cell_type": "markdown",
      "id": "9d344db9",
      "metadata": {
        "id": "9d344db9"
      },
      "source": [
        "### You need to extract day, month and year from the \"posting_date\" column \n",
        "\n",
        "1.   Extract days from \"posting_date\" column and store it into a new column \"day_of_postingdate\" for train, test and validation dataset \n",
        "2.   Extract months from \"posting_date\" column and store it into a new column \"month_of_postingdate\" for train, test and validation dataset\n",
        "3.   Extract year from \"posting_date\" column and store it into a new column \"year_of_postingdate\" for train, test and validation dataset \n",
        "\n",
        "\n",
        "\n",
        "- Note - You are supposed yo use \n",
        "\n",
        "*   dt.day\n",
        "*   dt.month\n",
        "*   dt.year\n",
        "\n",
        "\n",
        "\n",
        "\n"
      ]
    },
    {
      "cell_type": "code",
      "execution_count": 79,
      "id": "6e3cdfd6",
      "metadata": {
        "id": "6e3cdfd6"
      },
      "outputs": [],
      "source": [
        "X_train['day_of_postingdate'] = X_train['posting_date'].dt.day\n",
        "X_train['month_of_postingdate'] = X_train['posting_date'].dt.month\n",
        "X_train['year_of_postingdate'] = X_train['posting_date'].dt.year\n",
        "\n",
        "X_val['day_of_postingdate'] = X_val['posting_date'].dt.day\n",
        "X_val['month_of_postingdate'] = X_val['posting_date'].dt.month\n",
        "X_val['year_of_postingdate'] = X_val['posting_date'].dt.year\n",
        "\n",
        "\n",
        "X_test['day_of_postingdate'] = X_test['posting_date'].dt.day\n",
        "X_test['month_of_postingdate'] = X_test['posting_date'].dt.month\n",
        "X_test['year_of_postingdate'] = X_test['posting_date'].dt.year\n",
        "\n"
      ]
    },
    {
      "cell_type": "markdown",
      "id": "GyI-F853Rxa7",
      "metadata": {
        "id": "GyI-F853Rxa7"
      },
      "source": [
        "### pass the \"posting_date\" column into the Custom function for train, test and validation dataset"
      ]
    },
    {
      "cell_type": "code",
      "execution_count": 80,
      "id": "FQHtQkrnRx_V",
      "metadata": {
        "id": "FQHtQkrnRx_V"
      },
      "outputs": [],
      "source": [
        "X_train ,X_val, X_test = custom(['posting_date'])"
      ]
    },
    {
      "cell_type": "markdown",
      "id": "GMnCaEcKReSw",
      "metadata": {
        "id": "GMnCaEcKReSw"
      },
      "source": [
        "### You need to extract day, month and year from the \"baseline_create_date\" column \n",
        "\n",
        "1.   Extract days from \"baseline_create_date\" column and store it into a new column \"day_of_createdate\" for train, test and validation dataset \n",
        "2.   Extract months from \"baseline_create_date\" column and store it into a new column \"month_of_createdate\" for train, test and validation dataset\n",
        "3.   Extract year from \"baseline_create_date\" column and store it into a new column \"year_of_createdate\" for train, test and validation dataset \n",
        "\n",
        "\n",
        "\n",
        "- Note - You are supposed yo use \n",
        "\n",
        "*   dt.day\n",
        "*   dt.month\n",
        "*   dt.year\n",
        "\n",
        "\n",
        "- Note - Do as it is been shown in the previous two code boxes"
      ]
    },
    {
      "cell_type": "markdown",
      "id": "ee4d83d0",
      "metadata": {
        "id": "ee4d83d0"
      },
      "source": [
        "### Extracting Day, Month, Year for 'baseline_create_date' column"
      ]
    },
    {
      "cell_type": "code",
      "execution_count": 81,
      "id": "32b240e1",
      "metadata": {
        "id": "32b240e1"
      },
      "outputs": [],
      "source": [
        "X_train['day_of_baselinedate'] = X_train['baseline_create_date'].dt.day\n",
        "X_train['month_of_baselinedate'] = X_train['baseline_create_date'].dt.month\n",
        "X_train['year_of_baselinedate'] = X_train['baseline_create_date'].dt.year\n",
        "\n",
        "X_val['day_of_baselinedate'] = X_val['baseline_create_date'].dt.day\n",
        "X_val['month_of_baselinedate'] = X_val['baseline_create_date'].dt.month\n",
        "X_val['year_of_baselinedate'] = X_val['baseline_create_date'].dt.year\n",
        "\n",
        "X_test['day_of_baselinedate'] = X_test['baseline_create_date'].dt.day\n",
        "X_test['month_of_baselinedate'] = X_test['baseline_create_date'].dt.month\n",
        "X_test['year_of_baselinedate'] = X_test['baseline_create_date'].dt.year\n",
        "\n"
      ]
    },
    {
      "cell_type": "markdown",
      "id": "cFgwkS5rSDDs",
      "metadata": {
        "id": "cFgwkS5rSDDs"
      },
      "source": [
        "\n",
        "\n",
        "### pass the \"baseline_create_date\" column into the Custom function for train, test and validation dataset"
      ]
    },
    {
      "cell_type": "code",
      "execution_count": 82,
      "id": "RGYa2BEQSDg3",
      "metadata": {
        "id": "RGYa2BEQSDg3"
      },
      "outputs": [],
      "source": [
        "X_train ,X_val, X_test = custom(['baseline_create_date'])"
      ]
    },
    {
      "cell_type": "markdown",
      "id": "77c7a0df",
      "metadata": {
        "id": "77c7a0df"
      },
      "source": [
        "### You need to extract day, month and year from the \"due_in_date\" column \n",
        "\n",
        "1.   Extract days from \"due_in_date\" column and store it into a new column \"day_of_due\" for train, test and validation dataset \n",
        "2.   Extract months from \"due_in_date\" column and store it into a new column \"month_of_due\" for train, test and validation dataset\n",
        "3.   Extract year from \"due_in_date\" column and store it into a new column \"year_of_due\" for train, test and validation dataset \n",
        "\n",
        "\n",
        "\n",
        "- Note - You are supposed yo use \n",
        "\n",
        "*   dt.day\n",
        "*   dt.month\n",
        "*   dt.year\n",
        "\n",
        "- Note - Do as it is been shown in the previous code"
      ]
    },
    {
      "cell_type": "code",
      "execution_count": 83,
      "id": "5c745547",
      "metadata": {
        "id": "5c745547"
      },
      "outputs": [],
      "source": [
        "X_train['day_of_dueindate'] = X_train['due_in_date'].dt.day\n",
        "X_train['month_of_dueindate'] = X_train['due_in_date'].dt.month\n",
        "X_train['year_of_dueindate'] = X_train['due_in_date'].dt.year\n",
        "\n",
        "X_val['day_of_dueindate'] = X_val['due_in_date'].dt.day\n",
        "X_val['month_of_dueindate'] = X_val['due_in_date'].dt.month\n",
        "X_val['year_of_dueindate'] = X_val['due_in_date'].dt.year\n",
        "\n",
        "X_test['day_of_dueindate'] = X_test['due_in_date'].dt.day\n",
        "X_test['month_of_dueindate'] = X_test['due_in_date'].dt.month\n",
        "X_test['year_of_dueindate'] = X_test['due_in_date'].dt.year\n"
      ]
    },
    {
      "cell_type": "markdown",
      "id": "FYLLzulGSvRd",
      "metadata": {
        "id": "FYLLzulGSvRd"
      },
      "source": [
        "pass the \"due_in_date\" column into the Custom function for train, test and validation dataset"
      ]
    },
    {
      "cell_type": "code",
      "execution_count": 84,
      "id": "1-s6QuY9Svrh",
      "metadata": {
        "id": "1-s6QuY9Svrh"
      },
      "outputs": [],
      "source": [
        "X_train ,X_val, X_test = custom(['due_in_date'])"
      ]
    },
    {
      "cell_type": "markdown",
      "id": "1ae5d052",
      "metadata": {
        "id": "1ae5d052"
      },
      "source": [
        "### Check for the datatypes for train, test and validation set again\n",
        "\n",
        "- Note - all the data type should be in either int64 or float64 format \n"
      ]
    },
    {
      "cell_type": "code",
      "execution_count": 85,
      "id": "aee9d828",
      "metadata": {
        "colab": {
          "base_uri": "https://localhost:8080/"
        },
        "id": "aee9d828",
        "outputId": "b1df724b-c42b-4c75-f183-c2ecb055c5f5"
      },
      "outputs": [
        {
          "name": "stdout",
          "output_type": "stream",
          "text": [
            "cust_number                 int32\n",
            "buisness_year               int64\n",
            "doc_id                      int64\n",
            "converted_usd             float64\n",
            "business_code_enc           int32\n",
            "name_customer_enc           int32\n",
            "cust_payment_terms_enc      int32\n",
            "day_of_postingdate          int64\n",
            "month_of_postingdate        int64\n",
            "year_of_postingdate         int64\n",
            "day_of_baselinedate         int64\n",
            "month_of_baselinedate       int64\n",
            "year_of_baselinedate        int64\n",
            "day_of_dueindate            int64\n",
            "month_of_dueindate          int64\n",
            "year_of_dueindate           int64\n",
            "dtype: object\n",
            "True True\n"
          ]
        }
      ],
      "source": [
        "print(X_train.dtypes)\n",
        "print(X_train.dtypes.equals(X_test.dtypes)\n",
        ",X_train.dtypes.equals(X_val.dtypes))"
      ]
    },
    {
      "cell_type": "markdown",
      "id": "65810f55",
      "metadata": {
        "id": "65810f55"
      },
      "source": [
        "# Feature Selection"
      ]
    },
    {
      "cell_type": "markdown",
      "id": "4bb1ad9f",
      "metadata": {
        "id": "4bb1ad9f"
      },
      "source": [
        "### Filter Method\n",
        "\n",
        "- Calling the VarianceThreshold Function \n",
        "- Note - Keep the code as it is, no need to change "
      ]
    },
    {
      "cell_type": "code",
      "execution_count": 86,
      "id": "e882509f",
      "metadata": {
        "colab": {
          "base_uri": "https://localhost:8080/"
        },
        "id": "e882509f",
        "outputId": "1423aa4c-0959-4da0-b0b9-035005f3069e"
      },
      "outputs": [
        {
          "data": {
            "text/plain": [
              "16"
            ]
          },
          "execution_count": 86,
          "metadata": {},
          "output_type": "execute_result"
        }
      ],
      "source": [
        "from sklearn.feature_selection import VarianceThreshold\n",
        "constant_filter = VarianceThreshold(threshold=0)\n",
        "constant_filter.fit(X_train)\n",
        "len(X_train.columns[constant_filter.get_support()])"
      ]
    },
    {
      "cell_type": "markdown",
      "id": "V9531H3jR-W2",
      "metadata": {
        "id": "V9531H3jR-W2"
      },
      "source": [
        "- Note - Keep the code as it is, no need to change \n"
      ]
    },
    {
      "cell_type": "code",
      "execution_count": 87,
      "id": "c77c12e1",
      "metadata": {
        "colab": {
          "base_uri": "https://localhost:8080/"
        },
        "id": "c77c12e1",
        "outputId": "0314c3cf-0d11-4278-8d09-a5195e445eab"
      },
      "outputs": [
        {
          "name": "stdout",
          "output_type": "stream",
          "text": [
            "0\n"
          ]
        }
      ],
      "source": [
        "constant_columns = [column for column in X_train.columns\n",
        "                    if column not in X_train.columns[constant_filter.get_support()]]\n",
        "print(len(constant_columns))"
      ]
    },
    {
      "cell_type": "markdown",
      "id": "6d9b8610",
      "metadata": {
        "id": "6d9b8610"
      },
      "source": [
        "- transpose the feature matrice\n",
        "- print the number of duplicated features\n",
        "- select the duplicated features columns names\n",
        "\n",
        "- Note - Keep the code as it is, no need to change \n"
      ]
    },
    {
      "cell_type": "code",
      "execution_count": 88,
      "id": "0fb7db95",
      "metadata": {
        "colab": {
          "base_uri": "https://localhost:8080/"
        },
        "id": "0fb7db95",
        "outputId": "d6bcf7a9-e5f3-488e-f528-ea12ac511670"
      },
      "outputs": [
        {
          "name": "stdout",
          "output_type": "stream",
          "text": [
            "0\n"
          ]
        }
      ],
      "source": [
        "x_train_T = X_train.T\n",
        "print(x_train_T.duplicated().sum())\n",
        "duplicated_columns = x_train_T[x_train_T.duplicated()].index.values"
      ]
    },
    {
      "cell_type": "markdown",
      "id": "510fa831",
      "metadata": {
        "id": "510fa831"
      },
      "source": [
        "### Filtering depending upon correlation matrix value\n",
        "- We have created a function called handling correlation which is going to return fields based on the correlation matrix value with a threshold of 0.8\n",
        "\n",
        "- Note - Keep the code as it is, no need to change "
      ]
    },
    {
      "cell_type": "code",
      "execution_count": 89,
      "id": "67731abc",
      "metadata": {
        "id": "67731abc"
      },
      "outputs": [],
      "source": [
        "def handling_correlation(X_train,threshold=0.8):\n",
        "    corr_features = set()\n",
        "    corr_matrix = X_train.corr()\n",
        "    for i in range(len(corr_matrix .columns)):\n",
        "        for j in range(i):\n",
        "            if abs(corr_matrix.iloc[i, j]) >threshold:\n",
        "                colname = corr_matrix.columns[i]\n",
        "                corr_features.add(colname)\n",
        "    return list(corr_features)"
      ]
    },
    {
      "cell_type": "markdown",
      "id": "JaE_6qVgSXl3",
      "metadata": {
        "id": "JaE_6qVgSXl3"
      },
      "source": [
        "- Note : Here we are trying to find out the relevant fields, from X_train\n",
        "- Please fill in the blanks to call handling_correlation() function with a threshold value of 0.85"
      ]
    },
    {
      "cell_type": "code",
      "execution_count": 90,
      "id": "dd91d1a2",
      "metadata": {
        "colab": {
          "base_uri": "https://localhost:8080/"
        },
        "id": "dd91d1a2",
        "outputId": "2133eb3c-b406-41e8-c052-6dd6d6be665b"
      },
      "outputs": [
        {
          "data": {
            "text/plain": [
              "['month_of_dueindate',\n",
              " 'day_of_baselinedate',\n",
              " 'year_of_postingdate',\n",
              " 'year_of_baselinedate',\n",
              " 'year_of_dueindate']"
            ]
          },
          "execution_count": 90,
          "metadata": {},
          "output_type": "execute_result"
        }
      ],
      "source": [
        "train=X_train.copy()\n",
        "handling_correlation(train.copy(),0.85)"
      ]
    },
    {
      "cell_type": "markdown",
      "id": "154da511",
      "metadata": {
        "id": "154da511"
      },
      "source": [
        "### Heatmap for X_train\n",
        "\n",
        "- Note - Keep the code as it is, no need to change"
      ]
    },
    {
      "cell_type": "code",
      "execution_count": 91,
      "id": "2e8f2fe4",
      "metadata": {
        "colab": {
          "base_uri": "https://localhost:8080/",
          "height": 860
        },
        "id": "2e8f2fe4",
        "outputId": "2780981e-55a8-4f0d-8755-e29122dd1637"
      },
      "outputs": [
        {
          "data": {
            "text/plain": [
              "<AxesSubplot:title={'center':'Pearson Correlation of Features'}>"
            ]
          },
          "execution_count": 91,
          "metadata": {},
          "output_type": "execute_result"
        },
        {
          "data": {
            "image/png": "[encoded data removed]",
            "text/plain": [
              "<Figure size 1008x864 with 2 Axes>"
            ]
          },
          "metadata": {
            "needs_background": "light"
          },
          "output_type": "display_data"
        }
      ],
      "source": [
        "colormap = plt.cm.RdBu\n",
        "plt.figure(figsize=(14,12))\n",
        "plt.title('Pearson Correlation of Features', y=1.05, size=20)\n",
        "sns.heatmap(X_train.merge(y_train , on = X_train.index ).corr(),linewidths=0.1,vmax=1.0, \n",
        "            square=True, cmap='gist_rainbow_r', linecolor='white', annot=True)"
      ]
    },
    {
      "cell_type": "markdown",
      "id": "e3b0d745",
      "metadata": {
        "id": "e3b0d745"
      },
      "source": [
        "#### Calling variance threshold for threshold value = 0.8\n",
        "\n",
        "- Note -  Fill in the blanks to call the appropriate method"
      ]
    },
    {
      "cell_type": "code",
      "execution_count": 92,
      "id": "a9b2080f",
      "metadata": {
        "colab": {
          "base_uri": "https://localhost:8080/"
        },
        "id": "a9b2080f",
        "outputId": "e34f045d-ae5a-444b-ead7-a5e10d14823e"
      },
      "outputs": [
        {
          "data": {
            "text/plain": [
              "VarianceThreshold(threshold=0.8)"
            ]
          },
          "execution_count": 92,
          "metadata": {},
          "output_type": "execute_result"
        }
      ],
      "source": [
        "from sklearn.feature_selection import VarianceThreshold\n",
        "sel = VarianceThreshold(0.8)\n",
        "sel.fit(X_train)"
      ]
    },
    {
      "cell_type": "code",
      "execution_count": 93,
      "id": "6cb8c3dc",
      "metadata": {
        "colab": {
          "base_uri": "https://localhost:8080/"
        },
        "id": "6cb8c3dc",
        "outputId": "41b626b9-1d87-4373-bad6-a0f6bfa0e81d"
      },
      "outputs": [
        {
          "data": {
            "text/plain": [
              "array([1.79867713e+15, 1.15195317e-01, 8.14358365e+16, 1.33915922e+09,\n",
              "       2.89199371e-01, 1.06851239e+06, 1.17330626e+02, 8.15549689e+01,\n",
              "       1.18936898e+01, 1.15661120e-01, 7.71513423e+01, 1.22576245e+01,\n",
              "       1.15788866e-01, 7.61732267e+01, 1.20393869e+01, 1.18619907e-01])"
            ]
          },
          "execution_count": 93,
          "metadata": {},
          "output_type": "execute_result"
        }
      ],
      "source": [
        "sel.variances_"
      ]
    },
    {
      "cell_type": "markdown",
      "id": "62633a84",
      "metadata": {
        "id": "62633a84"
      },
      "source": [
        "### Features columns are \n",
        "- 'year_of_createdate' \n",
        "- 'year_of_due'\n",
        "- 'day_of_createdate'\n",
        "- 'year_of_postingdate'\n",
        "- 'month_of_due'\n",
        "- 'month_of_createdate'"
      ]
    },
    {
      "cell_type": "markdown",
      "id": "651f1ad0",
      "metadata": {
        "id": "651f1ad0"
      },
      "source": [
        "# Modelling \n",
        "\n",
        "#### Now you need to compare with different machine learning models, and needs to find out the best predicted model\n",
        "\n",
        "- Linear Regression\n",
        "- Decision Tree Regression\n",
        "- Random Forest Regression\n",
        "- Support Vector Regression\n",
        "- Extreme Gradient Boost Regression "
      ]
    },
    {
      "cell_type": "markdown",
      "id": "PicEhSuUUOkt",
      "metadata": {
        "id": "PicEhSuUUOkt"
      },
      "source": [
        "### You need to make different blank list for different evaluation matrix \n",
        "\n",
        "- MSE\n",
        "- R2\n",
        "- Algorithm"
      ]
    },
    {
      "cell_type": "code",
      "execution_count": 94,
      "id": "701e12b0",
      "metadata": {
        "id": "701e12b0"
      },
      "outputs": [],
      "source": [
        "MSE_Score = []\n",
        "R2_Score = []\n",
        "Algorithm = []\n",
        "from sklearn.metrics import mean_squared_error\n",
        "from sklearn.metrics import r2_score"
      ]
    },
    {
      "cell_type": "markdown",
      "id": "29310119",
      "metadata": {
        "id": "29310119"
      },
      "source": [
        "### You need to start with the baseline model Linear Regression\n",
        "\n",
        "- Step 1 : Call the Linear Regression from sklearn library\n",
        "- Step 2 : make an object of Linear Regression \n",
        "- Step 3 : fit the X_train and y_train dataframe into the object \n",
        "- Step 4 : Predict the output by passing the X_test Dataset into predict function\n",
        "\n",
        "\n",
        "\n",
        "\n",
        "- Note - Append the Algorithm name into the algorithm list for tracking purpose"
      ]
    },
    {
      "cell_type": "code",
      "execution_count": 95,
      "id": "6bdea395",
      "metadata": {
        "id": "6bdea395"
      },
      "outputs": [],
      "source": [
        "from sklearn.linear_model import LinearRegression\n",
        "Algorithm.append('LinearRegression')\n",
        "regressor = LinearRegression()\n",
        "regressor.fit(X_train, y_train)\n",
        "predicted= regressor.predict(X_test)"
      ]
    },
    {
      "cell_type": "markdown",
      "id": "G02cpnBhXJ14",
      "metadata": {
        "id": "G02cpnBhXJ14"
      },
      "source": [
        "### Check for the \n",
        "\n",
        "- Mean Square Error\n",
        "- R Square Error \n",
        "\n",
        "for y_test and predicted dataset and store those data inside respective list for comparison "
      ]
    },
    {
      "cell_type": "code",
      "execution_count": 96,
      "id": "0f69ca19",
      "metadata": {
        "id": "0f69ca19"
      },
      "outputs": [],
      "source": [
        "MSE_Score.append(mean_squared_error(y_test, predicted))\n",
        "R2_Score.append(r2_score(y_test, predicted))"
      ]
    },
    {
      "cell_type": "markdown",
      "id": "CsmScbHjYMv1",
      "metadata": {
        "id": "CsmScbHjYMv1"
      },
      "source": [
        "### Check the same for the Validation set also "
      ]
    },
    {
      "cell_type": "code",
      "execution_count": 97,
      "id": "fe653295",
      "metadata": {
        "colab": {
          "base_uri": "https://localhost:8080/"
        },
        "id": "fe653295",
        "outputId": "c974a85b-74c5-4b73-90a7-019858e60ece"
      },
      "outputs": [
        {
          "data": {
            "text/plain": [
              "25340.165185553644"
            ]
          },
          "execution_count": 97,
          "metadata": {},
          "output_type": "execute_result"
        }
      ],
      "source": [
        "predict_test= regressor.predict(X_val)\n",
        "mean_squared_error(y_val, predict_test, squared=False)"
      ]
    },
    {
      "cell_type": "markdown",
      "id": "LokxV2LGYUVh",
      "metadata": {
        "id": "LokxV2LGYUVh"
      },
      "source": [
        "### Display The Comparison Lists"
      ]
    },
    {
      "cell_type": "code",
      "execution_count": 98,
      "id": "9c405bd3",
      "metadata": {
        "colab": {
          "base_uri": "https://localhost:8080/"
        },
        "id": "9c405bd3",
        "outputId": "c8cab926-f69a-434d-e823-7fab430cdc88"
      },
      "outputs": [
        {
          "name": "stdout",
          "output_type": "stream",
          "text": [
            "['LinearRegression'],[636862123.9452031],[0.023522173125746115],"
          ]
        }
      ],
      "source": [
        "for i in Algorithm, MSE_Score, R2_Score:\n",
        "    print(i,end=',')"
      ]
    },
    {
      "cell_type": "markdown",
      "id": "b0e65c86",
      "metadata": {
        "id": "b0e65c86"
      },
      "source": [
        "### You need to start with the baseline model Support Vector Regression\n",
        "\n",
        "- Step 1 : Call the Support Vector Regressor from sklearn library\n",
        "- Step 2 : make an object of SVR\n",
        "- Step 3 : fit the X_train and y_train dataframe into the object \n",
        "- Step 4 : Predict the output by passing the X_test Dataset into predict function\n",
        "\n",
        "\n",
        "\n",
        "\n",
        "- Note - Append the Algorithm name into the algorithm list for tracking purpose"
      ]
    },
    {
      "cell_type": "code",
      "execution_count": 99,
      "id": "ccb5de08",
      "metadata": {
        "id": "ccb5de08"
      },
      "outputs": [],
      "source": [
        "from sklearn.svm import SVR\n",
        "Algorithm.append('SVM')\n",
        "regressor = SVR()\n",
        "regressor.fit(X_train, y_train)\n",
        "predicted= regressor.predict(X_test)"
      ]
    },
    {
      "cell_type": "markdown",
      "id": "zz9kcrViYt7e",
      "metadata": {
        "id": "zz9kcrViYt7e"
      },
      "source": [
        "### Check for the \n",
        "\n",
        "- Mean Square Error\n",
        "- R Square Error \n",
        "\n",
        "for \"y_test\" and \"predicted\" dataset and store those data inside respective list for comparison "
      ]
    },
    {
      "cell_type": "code",
      "execution_count": 100,
      "id": "5bb9db76",
      "metadata": {
        "id": "5bb9db76"
      },
      "outputs": [],
      "source": [
        "MSE_Score.append(mean_squared_error(y_test, predicted))\n",
        "R2_Score.append(r2_score(y_test, predicted))"
      ]
    },
    {
      "cell_type": "markdown",
      "id": "0YAxd8N9Y0hJ",
      "metadata": {
        "id": "0YAxd8N9Y0hJ"
      },
      "source": [
        "\n",
        "\n",
        "\n",
        "\n",
        "\n",
        "\n",
        "\n",
        "\n",
        "\n",
        "\n",
        "\n",
        "\n",
        "\n",
        "\n",
        "\n",
        "\n",
        "\n",
        "\n",
        "\n",
        "\n",
        "\n",
        "\n",
        "\n",
        "\n",
        "\n",
        "\n",
        "\n",
        "\n",
        "\n",
        "\n",
        "\n",
        "\n",
        "\n",
        "\n",
        "\n",
        "\n",
        "\n",
        "\n",
        "\n",
        "\n",
        "\n",
        "### Check the same for the Validation set also "
      ]
    },
    {
      "cell_type": "code",
      "execution_count": 101,
      "id": "d6ee71b1",
      "metadata": {
        "colab": {
          "base_uri": "https://localhost:8080/"
        },
        "id": "d6ee71b1",
        "outputId": "10ed65e4-58fd-4dbd-c551-208600d9cf91"
      },
      "outputs": [
        {
          "data": {
            "text/plain": [
              "25637.38510855224"
            ]
          },
          "execution_count": 101,
          "metadata": {},
          "output_type": "execute_result"
        }
      ],
      "source": [
        "predict_test= regressor.predict(X_val)\n",
        "mean_squared_error(y_val, predict_test, squared=False)"
      ]
    },
    {
      "cell_type": "markdown",
      "id": "eGcqS5EcY4BI",
      "metadata": {
        "id": "eGcqS5EcY4BI"
      },
      "source": [
        "### Display The Comparison Lists"
      ]
    },
    {
      "cell_type": "code",
      "execution_count": 102,
      "id": "aa72c1ec",
      "metadata": {
        "colab": {
          "base_uri": "https://localhost:8080/"
        },
        "id": "aa72c1ec",
        "outputId": "b119d51a-f980-46b5-eeb0-9453f47434fc"
      },
      "outputs": [
        {
          "name": "stdout",
          "output_type": "stream",
          "text": [
            "['LinearRegression', 'SVM'],[636862123.9452031, 652004678.2478646],[0.023522173125746115, 0.0003046383362842464],"
          ]
        }
      ],
      "source": [
        "for i in Algorithm, MSE_Score, R2_Score:\n",
        "    print(i,end=',')"
      ]
    },
    {
      "cell_type": "markdown",
      "id": "dad18bb3",
      "metadata": {
        "id": "dad18bb3"
      },
      "source": [
        "### Your next model would be Decision Tree Regression\n",
        "\n",
        "- Step 1 : Call the Decision Tree Regressor from sklearn library\n",
        "- Step 2 : make an object of Decision Tree\n",
        "- Step 3 : fit the X_train and y_train dataframe into the object \n",
        "- Step 4 : Predict the output by passing the X_test Dataset into predict function\n",
        "\n",
        "\n",
        "\n",
        "\n",
        "- Note - Append the Algorithm name into the algorithm list for tracking purpose"
      ]
    },
    {
      "cell_type": "code",
      "execution_count": 103,
      "id": "1b6a51eb",
      "metadata": {
        "id": "1b6a51eb"
      },
      "outputs": [],
      "source": [
        "from sklearn.tree import DecisionTreeRegressor \n",
        "Algorithm.append('DecisionTreeRegressor')\n",
        "regressor = DecisionTreeRegressor(random_state=42)\n",
        "regressor.fit(X_train, y_train)\n",
        "predicted= regressor.predict(X_test)"
      ]
    },
    {
      "cell_type": "markdown",
      "id": "AOzfgfeOZo3F",
      "metadata": {
        "id": "AOzfgfeOZo3F"
      },
      "source": [
        "### Check for the \n",
        "\n",
        "- Mean Square Error\n",
        "- R Square Error \n",
        "\n",
        "for y_test and predicted dataset and store those data inside respective list for comparison "
      ]
    },
    {
      "cell_type": "code",
      "execution_count": 104,
      "id": "776e6983",
      "metadata": {
        "id": "776e6983"
      },
      "outputs": [],
      "source": [
        "MSE_Score.append(mean_squared_error(y_test, predicted))\n",
        "R2_Score.append(r2_score(y_test, predicted))"
      ]
    },
    {
      "cell_type": "markdown",
      "id": "eI6d49DQZrhW",
      "metadata": {
        "id": "eI6d49DQZrhW"
      },
      "source": [
        "\n",
        "\n",
        "\n",
        "\n",
        "\n",
        "\n",
        "\n",
        "\n",
        "\n",
        "\n",
        "\n",
        "\n",
        "\n",
        "\n",
        "\n",
        "\n",
        "\n",
        "\n",
        "\n",
        "\n",
        "\n",
        "\n",
        "\n",
        "\n",
        "\n",
        "\n",
        "\n",
        "\n",
        "\n",
        "\n",
        "\n",
        "\n",
        "\n",
        "\n",
        "\n",
        "\n",
        "\n",
        "\n",
        "\n",
        "\n",
        "\n",
        "\n",
        "\n",
        "\n",
        "\n",
        "\n",
        "\n",
        "\n",
        "\n",
        "\n",
        "\n",
        "\n",
        "\n",
        "\n",
        "\n",
        "\n",
        "\n",
        "\n",
        "\n",
        "\n",
        "\n",
        "\n",
        "\n",
        "\n",
        "### Check the same for the Validation set also "
      ]
    },
    {
      "cell_type": "code",
      "execution_count": 105,
      "id": "155fb55c",
      "metadata": {
        "colab": {
          "base_uri": "https://localhost:8080/"
        },
        "id": "155fb55c",
        "outputId": "0fe2a62a-8707-4fb9-ba97-c89b16a5f0d8"
      },
      "outputs": [
        {
          "data": {
            "text/plain": [
              "13040.841529851152"
            ]
          },
          "execution_count": 105,
          "metadata": {},
          "output_type": "execute_result"
        }
      ],
      "source": [
        "predict_test = regressor.predict(X_val)\n",
        "mean_squared_error(y_val, predict_test, squared=False)"
      ]
    },
    {
      "cell_type": "markdown",
      "id": "sbGXvBLQZw5E",
      "metadata": {
        "id": "sbGXvBLQZw5E"
      },
      "source": [
        "### Display The Comparison Lists"
      ]
    },
    {
      "cell_type": "code",
      "execution_count": 106,
      "id": "1d74d515",
      "metadata": {
        "colab": {
          "base_uri": "https://localhost:8080/"
        },
        "id": "1d74d515",
        "outputId": "1e4de7f3-7fde-48d1-d937-9dd25f995de8"
      },
      "outputs": [
        {
          "name": "stdout",
          "output_type": "stream",
          "text": [
            "['LinearRegression', 'SVM', 'DecisionTreeRegressor'],[636862123.9452031, 652004678.2478646, 170973206.4433095],[0.023522173125746115, 0.0003046383362842464, 0.737852921685368],"
          ]
        }
      ],
      "source": [
        "for i in Algorithm, MSE_Score, R2_Score:\n",
        "    print(i,end=',')"
      ]
    },
    {
      "cell_type": "markdown",
      "id": "4ae9979b",
      "metadata": {
        "id": "4ae9979b"
      },
      "source": [
        "### Your next model would be Random Forest Regression\n",
        "\n",
        "- Step 1 : Call the Random Forest Regressor from sklearn library\n",
        "- Step 2 : make an object of Random Forest\n",
        "- Step 3 : fit the X_train and y_train dataframe into the object \n",
        "- Step 4 : Predict the output by passing the X_test Dataset into predict function\n",
        "\n",
        "\n",
        "\n",
        "\n",
        "- Note - Append the Algorithm name into the algorithm list for tracking purpose"
      ]
    },
    {
      "cell_type": "code",
      "execution_count": 107,
      "id": "a69e476a",
      "metadata": {
        "id": "a69e476a"
      },
      "outputs": [],
      "source": [
        "from sklearn.ensemble import RandomForestRegressor \n",
        "Algorithm.append('RandomForestRegressor')\n",
        "regressor = RandomForestRegressor(random_state=42 )\n",
        "regressor.fit(X_train, y_train)\n",
        "predicted= regressor.predict(X_test)"
      ]
    },
    {
      "cell_type": "markdown",
      "id": "XNcEJF-6anof",
      "metadata": {
        "id": "XNcEJF-6anof"
      },
      "source": [
        "### Check for the \n",
        "\n",
        "- Mean Square Error\n",
        "- R Square Error \n",
        "\n",
        "for y_test and predicted dataset and store those data inside respective list for comparison "
      ]
    },
    {
      "cell_type": "code",
      "execution_count": 108,
      "id": "826f63f4",
      "metadata": {
        "id": "826f63f4"
      },
      "outputs": [],
      "source": [
        "MSE_Score.append(mean_squared_error(y_test, predicted))\n",
        "R2_Score.append(r2_score(y_test, predicted))"
      ]
    },
    {
      "cell_type": "markdown",
      "id": "yMbyr9V4ati1",
      "metadata": {
        "id": "yMbyr9V4ati1"
      },
      "source": [
        "### Check the same for the Validation set also "
      ]
    },
    {
      "cell_type": "code",
      "execution_count": 109,
      "id": "55b9fb54",
      "metadata": {
        "colab": {
          "base_uri": "https://localhost:8080/"
        },
        "id": "55b9fb54",
        "outputId": "82322564-866e-4468-b598-4d47afe8e6d9"
      },
      "outputs": [
        {
          "data": {
            "text/plain": [
              "10986.993410936766"
            ]
          },
          "execution_count": 109,
          "metadata": {},
          "output_type": "execute_result"
        }
      ],
      "source": [
        "predict_test = regressor.predict(X_val)\n",
        "mean_squared_error(y_val, predict_test, squared=False)"
      ]
    },
    {
      "cell_type": "markdown",
      "id": "tiBawcCsaw_Z",
      "metadata": {
        "id": "tiBawcCsaw_Z"
      },
      "source": [
        "### Display The Comparison Lists\n"
      ]
    },
    {
      "cell_type": "code",
      "execution_count": 110,
      "id": "8277c13e",
      "metadata": {
        "colab": {
          "base_uri": "https://localhost:8080/"
        },
        "id": "8277c13e",
        "outputId": "b13025d5-7a83-4eab-9185-4e4471b4a6a0"
      },
      "outputs": [
        {
          "name": "stdout",
          "output_type": "stream",
          "text": [
            "['LinearRegression', 'SVM', 'DecisionTreeRegressor', 'RandomForestRegressor'],[636862123.9452031, 652004678.2478646, 170973206.4433095, 118087155.84609777],[0.023522173125746115, 0.0003046383362842464, 0.737852921685368, 0.8189412040897562],"
          ]
        }
      ],
      "source": [
        "for i in Algorithm, MSE_Score, R2_Score:\n",
        "    print(i,end=',')"
      ]
    },
    {
      "cell_type": "markdown",
      "id": "e6b21881",
      "metadata": {
        "id": "e6b21881"
      },
      "source": [
        "### The last but not the least model would be XGBoost or Extreme Gradient Boost Regression\n",
        "\n",
        "- Step 1 : Call the XGBoost Regressor from xgb library\n",
        "- Step 2 : make an object of Xgboost\n",
        "- Step 3 : fit the X_train and y_train dataframe into the object \n",
        "- Step 4 : Predict the output by passing the X_test Dataset into predict function\n",
        "\n",
        "\n",
        "\n",
        "\n",
        "- Note - Append the Algorithm name into the algorithm list for tracking purpose### Extreme Gradient Boost Regression\n",
        "- Note -  No need to change the code "
      ]
    },
    {
      "cell_type": "code",
      "execution_count": 112,
      "id": "705a38ec",
      "metadata": {
        "colab": {
          "base_uri": "https://localhost:8080/"
        },
        "id": "705a38ec",
        "outputId": "8e223504-b9bb-4711-b3c0-32e16139b52f"
      },
      "outputs": [],
      "source": [
        "import xgboost as xgb\n",
        "Algorithm.append('XGB Regressor')\n",
        "regressor = xgb.XGBRegressor()\n",
        "regressor.fit(X_train, y_train)\n",
        "predicted = regressor.predict(X_test)"
      ]
    },
    {
      "cell_type": "markdown",
      "id": "ierNZkb9bQDD",
      "metadata": {
        "id": "ierNZkb9bQDD"
      },
      "source": [
        "### Check for the \n",
        "\n",
        "- Mean Square Error\n",
        "- R Square Error \n",
        "\n",
        "for y_test and predicted dataset and store those data inside respective list for comparison "
      ]
    },
    {
      "cell_type": "code",
      "execution_count": 113,
      "id": "507a9d2f",
      "metadata": {
        "id": "507a9d2f"
      },
      "outputs": [],
      "source": [
        "MSE_Score.append(mean_squared_error(y_test, predicted))\n",
        "R2_Score.append(r2_score(y_test, predicted))"
      ]
    },
    {
      "cell_type": "markdown",
      "id": "84UZ2ojsbWaH",
      "metadata": {
        "id": "84UZ2ojsbWaH"
      },
      "source": [
        "### Check the same for the Validation set also "
      ]
    },
    {
      "cell_type": "code",
      "execution_count": 114,
      "id": "e78ac250",
      "metadata": {
        "colab": {
          "base_uri": "https://localhost:8080/"
        },
        "id": "e78ac250",
        "outputId": "ad997c97-1344-4500-a81f-e366609faa4f"
      },
      "outputs": [
        {
          "data": {
            "text/plain": [
              "12674.225049310031"
            ]
          },
          "execution_count": 114,
          "metadata": {},
          "output_type": "execute_result"
        }
      ],
      "source": [
        "predict_test = regressor.predict(X_val)\n",
        "mean_squared_error(y_val, predict_test, squared=False)"
      ]
    },
    {
      "cell_type": "markdown",
      "id": "9FJFyaVbbbAH",
      "metadata": {
        "id": "9FJFyaVbbbAH"
      },
      "source": [
        "### Display The Comparison Lists\n"
      ]
    },
    {
      "cell_type": "code",
      "execution_count": 115,
      "id": "f765ba35",
      "metadata": {
        "colab": {
          "base_uri": "https://localhost:8080/"
        },
        "id": "f765ba35",
        "outputId": "059a4670-8f4d-45ec-9335-598c5c8792e3"
      },
      "outputs": [
        {
          "name": "stdout",
          "output_type": "stream",
          "text": [
            "['LinearRegression', 'SVM', 'DecisionTreeRegressor', 'RandomForestRegressor', 'XGB Regressor'],[636862123.9452031, 652004678.2478646, 170973206.4433095, 118087155.84609777, 167215706.9011332],[0.023522173125746115, 0.0003046383362842464, 0.737852921685368, 0.8189412040897562, 0.7436141608130712],"
          ]
        }
      ],
      "source": [
        "for i in Algorithm, MSE_Score, R2_Score:\n",
        "    print(i,end=',')"
      ]
    },
    {
      "cell_type": "markdown",
      "id": "a71bc90f",
      "metadata": {
        "id": "a71bc90f"
      },
      "source": [
        "## You need to make the comparison list into a comparison dataframe "
      ]
    },
    {
      "cell_type": "code",
      "execution_count": 116,
      "id": "ff5159a7",
      "metadata": {
        "id": "ff5159a7"
      },
      "outputs": [],
      "source": [
        "comparison = pd.DataFrame(list(zip(Algorithm,MSE_Score,R2_Score)),columns = ['Algorithm','MSE_Score','R2_Score'])"
      ]
    },
    {
      "cell_type": "markdown",
      "id": "62e61c60",
      "metadata": {
        "id": "62e61c60"
      },
      "source": [
        "## Now from the Comparison table, you need to choose the best fit model\n",
        "\n",
        "- Step 1 - Fit X_train and y_train inside the model \n",
        "- Step 2 - Predict the X_test dataset\n",
        "- Step 3 - Predict the X_val dataset\n",
        "\n",
        "\n",
        "- Note - No need to change the code"
      ]
    },
    {
      "cell_type": "code",
      "execution_count": 117,
      "id": "3e07c258",
      "metadata": {
        "id": "3e07c258"
      },
      "outputs": [],
      "source": [
        "regressorfinal = RandomForestRegressor(random_state=42 )\n",
        "regressorfinal.fit(X_train, y_train)\n",
        "predictedfinal = regressorfinal.predict(X_test)\n",
        "predict_testfinal = regressorfinal.predict(X_val)"
      ]
    },
    {
      "cell_type": "markdown",
      "id": "8e4df6c4",
      "metadata": {
        "id": "8e4df6c4"
      },
      "source": [
        "### Calculate the Mean Square Error for test dataset\n",
        "\n",
        "- Note - No need to change the code"
      ]
    },
    {
      "cell_type": "code",
      "execution_count": 118,
      "id": "5fb466d0",
      "metadata": {
        "colab": {
          "base_uri": "https://localhost:8080/"
        },
        "id": "5fb466d0",
        "outputId": "9d8ccb88-f16f-4ce6-932e-5fca35d595d7"
      },
      "outputs": [
        {
          "data": {
            "text/plain": [
              "10866.791423695302"
            ]
          },
          "execution_count": 118,
          "metadata": {},
          "output_type": "execute_result"
        }
      ],
      "source": [
        "mean_squared_error(y_test,predictedfinal,squared=False)"
      ]
    },
    {
      "cell_type": "markdown",
      "id": "ce27f87f",
      "metadata": {
        "id": "ce27f87f"
      },
      "source": [
        "### Calculate the mean Square Error for validation dataset"
      ]
    },
    {
      "cell_type": "code",
      "execution_count": 119,
      "id": "b47978ea",
      "metadata": {
        "colab": {
          "base_uri": "https://localhost:8080/"
        },
        "id": "b47978ea",
        "outputId": "50832700-f7de-475c-d346-110ef2ee213a"
      },
      "outputs": [
        {
          "data": {
            "text/plain": [
              "10986.993410936766"
            ]
          },
          "execution_count": 119,
          "metadata": {},
          "output_type": "execute_result"
        }
      ],
      "source": [
        "mean_squared_error(y_val,predict_testfinal,squared=False)"
      ]
    },
    {
      "cell_type": "markdown",
      "id": "30014dbd",
      "metadata": {
        "id": "30014dbd"
      },
      "source": [
        "### Calculate the R2 score for test"
      ]
    },
    {
      "cell_type": "code",
      "execution_count": 120,
      "id": "8a162737",
      "metadata": {
        "colab": {
          "base_uri": "https://localhost:8080/"
        },
        "id": "8a162737",
        "outputId": "0969e00b-8e1d-45ed-8213-e672ccfafa0c"
      },
      "outputs": [
        {
          "data": {
            "text/plain": [
              "0.8189412040897562"
            ]
          },
          "execution_count": 120,
          "metadata": {},
          "output_type": "execute_result"
        }
      ],
      "source": [
        "r2_score(y_test, predictedfinal)"
      ]
    },
    {
      "cell_type": "markdown",
      "id": "1c9853b0",
      "metadata": {
        "id": "1c9853b0"
      },
      "source": [
        "### Calculate the R2 score for Validation"
      ]
    },
    {
      "cell_type": "code",
      "execution_count": 121,
      "id": "1a6dc77c",
      "metadata": {
        "colab": {
          "base_uri": "https://localhost:8080/"
        },
        "id": "1a6dc77c",
        "outputId": "a02bd83c-8a0d-468c-bccb-3fb27d23336a"
      },
      "outputs": [
        {
          "data": {
            "text/plain": [
              "0.8162539784561363"
            ]
          },
          "execution_count": 121,
          "metadata": {},
          "output_type": "execute_result"
        }
      ],
      "source": [
        "r2_score(y_val,predict_testfinal)"
      ]
    },
    {
      "cell_type": "markdown",
      "id": "499522d9",
      "metadata": {
        "id": "499522d9"
      },
      "source": [
        "### Calculate the Accuracy for train Dataset "
      ]
    },
    {
      "cell_type": "code",
      "execution_count": 122,
      "id": "7a4f1ce8",
      "metadata": {
        "colab": {
          "base_uri": "https://localhost:8080/"
        },
        "id": "7a4f1ce8",
        "outputId": "79151c3d-b29e-4dba-c941-c9867e8f14de"
      },
      "outputs": [
        {
          "name": "stdout",
          "output_type": "stream",
          "text": [
            "97.44 %\n"
          ]
        }
      ],
      "source": [
        "accuracy = round(regressorfinal.score(X_train, y_train)*100,2)\n",
        "print(round(accuracy,2),'%')"
      ]
    },
    {
      "cell_type": "markdown",
      "id": "12a1c921",
      "metadata": {
        "id": "12a1c921"
      },
      "source": [
        "### Calculate the accuracy for validation"
      ]
    },
    {
      "cell_type": "code",
      "execution_count": 123,
      "id": "d2579b4f",
      "metadata": {
        "colab": {
          "base_uri": "https://localhost:8080/"
        },
        "id": "d2579b4f",
        "outputId": "85bb89b7-6423-4601-b005-91b46ba71564"
      },
      "outputs": [
        {
          "name": "stdout",
          "output_type": "stream",
          "text": [
            "81.63 %\n"
          ]
        }
      ],
      "source": [
        "accuracy = round(regressorfinal.score(X_val, y_val)*100,2)\n",
        "print(round(accuracy,2),'%')"
      ]
    },
    {
      "cell_type": "markdown",
      "id": "79b82e84",
      "metadata": {
        "id": "79b82e84"
      },
      "source": [
        "### Calculate the accuracy for test"
      ]
    },
    {
      "cell_type": "code",
      "execution_count": 124,
      "id": "f09e6431",
      "metadata": {
        "colab": {
          "base_uri": "https://localhost:8080/"
        },
        "id": "f09e6431",
        "outputId": "02454d62-9279-4895-a30c-2b9433a0271d"
      },
      "outputs": [
        {
          "name": "stdout",
          "output_type": "stream",
          "text": [
            "81.89 %\n"
          ]
        }
      ],
      "source": [
        "accuracy = round(regressorfinal.score(X_test, y_test)*100,2)\n",
        "print(round(accuracy,2),'%')"
      ]
    },
    {
      "cell_type": "markdown",
      "id": "9488a5d9",
      "metadata": {
        "id": "9488a5d9"
      },
      "source": [
        "## Specify the reason behind choosing your machine learning model \n",
        "\n",
        "1. Random subsets are created from the dataset and are inserted into different decision trees.\n",
        "2. Features are also inserted randomly into the Nodes.\n",
        "3. Faster than other algorithms, excluding decision tree.\n",
        "4. Lists out best decision trees which have lesser variance.\n",
        "5. Here, the final output is the mean of all the outputs from all the decision trees.\n",
        "6. Randon forest follows the concept of Bagging which makes it more efficient.\n"
      ]
    },
    {
      "cell_type": "markdown",
      "id": "387a6519",
      "metadata": {
        "id": "387a6519"
      },
      "source": [
        "## Now you need to pass the Nulldata dataframe into this machine learning model\n",
        "\n",
        "#### In order to pass this Nulldata dataframe into the ML model, we need to perform the following\n",
        "\n",
        "- Step 1 : Label Encoding \n",
        "- Step 2 : Day, Month and Year extraction \n",
        "- Step 3 : Change all the column data type into int64 or float64\n",
        "- Step 4 : Need to drop the useless columns "
      ]
    },
    {
      "cell_type": "markdown",
      "id": "I7JuxAkdiAdI",
      "metadata": {
        "id": "I7JuxAkdiAdI"
      },
      "source": [
        "### Display the Nulldata "
      ]
    },
    {
      "cell_type": "code",
      "execution_count": 125,
      "id": "6d6a51d2",
      "metadata": {
        "colab": {
          "base_uri": "https://localhost:8080/",
          "height": 522
        },
        "id": "6d6a51d2",
        "outputId": "d3e9c69a-17f7-4fac-d902-b93a46b82db1"
      },
      "outputs": [
        {
          "data": {
            "text/html": [
              "<div>\n",
              "<style scoped>\n",
              "    .dataframe tbody tr th:only-of-type {\n",
              "        vertical-align: middle;\n",
              "    }\n",
              "\n",
              "    .dataframe tbody tr th {\n",
              "        vertical-align: top;\n",
              "    }\n",
              "\n",
              "    .dataframe thead th {\n",
              "        text-align: right;\n",
              "    }\n",
              "</style>\n",
              "<table border=\"1\" class=\"dataframe\">\n",
              "  <thead>\n",
              "    <tr style=\"text-align: right;\">\n",
              "      <th></th>\n",
              "      <th>business_code</th>\n",
              "      <th>cust_number</th>\n",
              "      <th>name_customer</th>\n",
              "      <th>clear_date</th>\n",
              "      <th>buisness_year</th>\n",
              "      <th>doc_id</th>\n",
              "      <th>posting_date</th>\n",
              "      <th>due_in_date</th>\n",
              "      <th>baseline_create_date</th>\n",
              "      <th>cust_payment_terms</th>\n",
              "      <th>converted_usd</th>\n",
              "    </tr>\n",
              "  </thead>\n",
              "  <tbody>\n",
              "    <tr>\n",
              "      <th>3</th>\n",
              "      <td>CA02</td>\n",
              "      <td>140105686</td>\n",
              "      <td>SYSC llc</td>\n",
              "      <td>NaT</td>\n",
              "      <td>2020</td>\n",
              "      <td>2960623488</td>\n",
              "      <td>2020-03-30</td>\n",
              "      <td>2020-04-10</td>\n",
              "      <td>2020-03-31</td>\n",
              "      <td>CA10</td>\n",
              "      <td>2309.790</td>\n",
              "    </tr>\n",
              "    <tr>\n",
              "      <th>7</th>\n",
              "      <td>U001</td>\n",
              "      <td>200744019</td>\n",
              "      <td>TARG us</td>\n",
              "      <td>NaT</td>\n",
              "      <td>2020</td>\n",
              "      <td>1930659387</td>\n",
              "      <td>2020-03-19</td>\n",
              "      <td>2020-04-03</td>\n",
              "      <td>2020-03-19</td>\n",
              "      <td>NAA8</td>\n",
              "      <td>11173.020</td>\n",
              "    </tr>\n",
              "    <tr>\n",
              "      <th>10</th>\n",
              "      <td>U001</td>\n",
              "      <td>200418007</td>\n",
              "      <td>AM</td>\n",
              "      <td>NaT</td>\n",
              "      <td>2020</td>\n",
              "      <td>1930610806</td>\n",
              "      <td>2020-11-03</td>\n",
              "      <td>2020-03-26</td>\n",
              "      <td>2020-03-11</td>\n",
              "      <td>NAA8</td>\n",
              "      <td>3525.590</td>\n",
              "    </tr>\n",
              "    <tr>\n",
              "      <th>14</th>\n",
              "      <td>U001</td>\n",
              "      <td>200739534</td>\n",
              "      <td>OK systems</td>\n",
              "      <td>NaT</td>\n",
              "      <td>2020</td>\n",
              "      <td>1930788296</td>\n",
              "      <td>2020-04-15</td>\n",
              "      <td>2020-04-30</td>\n",
              "      <td>2020-04-15</td>\n",
              "      <td>NAA8</td>\n",
              "      <td>121105.650</td>\n",
              "    </tr>\n",
              "    <tr>\n",
              "      <th>15</th>\n",
              "      <td>U001</td>\n",
              "      <td>200353024</td>\n",
              "      <td>DECA corporation</td>\n",
              "      <td>NaT</td>\n",
              "      <td>2020</td>\n",
              "      <td>1930817482</td>\n",
              "      <td>2020-04-23</td>\n",
              "      <td>2020-04-26</td>\n",
              "      <td>2020-04-16</td>\n",
              "      <td>NAM2</td>\n",
              "      <td>3726.060</td>\n",
              "    </tr>\n",
              "    <tr>\n",
              "      <th>...</th>\n",
              "      <td>...</td>\n",
              "      <td>...</td>\n",
              "      <td>...</td>\n",
              "      <td>...</td>\n",
              "      <td>...</td>\n",
              "      <td>...</td>\n",
              "      <td>...</td>\n",
              "      <td>...</td>\n",
              "      <td>...</td>\n",
              "      <td>...</td>\n",
              "      <td>...</td>\n",
              "    </tr>\n",
              "    <tr>\n",
              "      <th>50094</th>\n",
              "      <td>CA02</td>\n",
              "      <td>140106408</td>\n",
              "      <td>WAL-M corp</td>\n",
              "      <td>NaT</td>\n",
              "      <td>2020</td>\n",
              "      <td>2960618884</td>\n",
              "      <td>2020-06-03</td>\n",
              "      <td>2020-03-16</td>\n",
              "      <td>2020-03-06</td>\n",
              "      <td>CA10</td>\n",
              "      <td>64982.589</td>\n",
              "    </tr>\n",
              "    <tr>\n",
              "      <th>50095</th>\n",
              "      <td>CA02</td>\n",
              "      <td>140106408</td>\n",
              "      <td>WAL-M corp</td>\n",
              "      <td>NaT</td>\n",
              "      <td>2020</td>\n",
              "      <td>2960618885</td>\n",
              "      <td>2020-06-03</td>\n",
              "      <td>2020-03-16</td>\n",
              "      <td>2020-03-06</td>\n",
              "      <td>CA10</td>\n",
              "      <td>64982.589</td>\n",
              "    </tr>\n",
              "    <tr>\n",
              "      <th>50096</th>\n",
              "      <td>CA02</td>\n",
              "      <td>140106408</td>\n",
              "      <td>WAL-M corp</td>\n",
              "      <td>NaT</td>\n",
              "      <td>2020</td>\n",
              "      <td>2960618886</td>\n",
              "      <td>2020-06-03</td>\n",
              "      <td>2020-03-16</td>\n",
              "      <td>2020-03-06</td>\n",
              "      <td>CA10</td>\n",
              "      <td>64982.589</td>\n",
              "    </tr>\n",
              "    <tr>\n",
              "      <th>50097</th>\n",
              "      <td>CA02</td>\n",
              "      <td>140106408</td>\n",
              "      <td>WAL-M corp</td>\n",
              "      <td>NaT</td>\n",
              "      <td>2020</td>\n",
              "      <td>2960618887</td>\n",
              "      <td>2020-06-03</td>\n",
              "      <td>2020-03-16</td>\n",
              "      <td>2020-03-06</td>\n",
              "      <td>CA10</td>\n",
              "      <td>64982.589</td>\n",
              "    </tr>\n",
              "    <tr>\n",
              "      <th>50098</th>\n",
              "      <td>CA02</td>\n",
              "      <td>140106408</td>\n",
              "      <td>WAL-M corp</td>\n",
              "      <td>NaT</td>\n",
              "      <td>2020</td>\n",
              "      <td>2960618888</td>\n",
              "      <td>2020-06-03</td>\n",
              "      <td>2020-03-16</td>\n",
              "      <td>2020-03-06</td>\n",
              "      <td>CA10</td>\n",
              "      <td>64982.589</td>\n",
              "    </tr>\n",
              "  </tbody>\n",
              "</table>\n",
              "<p>9779 rows × 11 columns</p>\n",
              "</div>"
            ],
            "text/plain": [
              "      business_code cust_number     name_customer clear_date  buisness_year  \\\n",
              "3              CA02   140105686          SYSC llc        NaT           2020   \n",
              "7              U001   200744019           TARG us        NaT           2020   \n",
              "10             U001   200418007               AM         NaT           2020   \n",
              "14             U001   200739534        OK systems        NaT           2020   \n",
              "15             U001   200353024  DECA corporation        NaT           2020   \n",
              "...             ...         ...               ...        ...            ...   \n",
              "50094          CA02   140106408        WAL-M corp        NaT           2020   \n",
              "50095          CA02   140106408        WAL-M corp        NaT           2020   \n",
              "50096          CA02   140106408        WAL-M corp        NaT           2020   \n",
              "50097          CA02   140106408        WAL-M corp        NaT           2020   \n",
              "50098          CA02   140106408        WAL-M corp        NaT           2020   \n",
              "\n",
              "           doc_id posting_date due_in_date baseline_create_date  \\\n",
              "3      2960623488   2020-03-30  2020-04-10           2020-03-31   \n",
              "7      1930659387   2020-03-19  2020-04-03           2020-03-19   \n",
              "10     1930610806   2020-11-03  2020-03-26           2020-03-11   \n",
              "14     1930788296   2020-04-15  2020-04-30           2020-04-15   \n",
              "15     1930817482   2020-04-23  2020-04-26           2020-04-16   \n",
              "...           ...          ...         ...                  ...   \n",
              "50094  2960618884   2020-06-03  2020-03-16           2020-03-06   \n",
              "50095  2960618885   2020-06-03  2020-03-16           2020-03-06   \n",
              "50096  2960618886   2020-06-03  2020-03-16           2020-03-06   \n",
              "50097  2960618887   2020-06-03  2020-03-16           2020-03-06   \n",
              "50098  2960618888   2020-06-03  2020-03-16           2020-03-06   \n",
              "\n",
              "      cust_payment_terms  converted_usd  \n",
              "3                   CA10       2309.790  \n",
              "7                   NAA8      11173.020  \n",
              "10                  NAA8       3525.590  \n",
              "14                  NAA8     121105.650  \n",
              "15                  NAM2       3726.060  \n",
              "...                  ...            ...  \n",
              "50094               CA10      64982.589  \n",
              "50095               CA10      64982.589  \n",
              "50096               CA10      64982.589  \n",
              "50097               CA10      64982.589  \n",
              "50098               CA10      64982.589  \n",
              "\n",
              "[9779 rows x 11 columns]"
            ]
          },
          "execution_count": 125,
          "metadata": {},
          "output_type": "execute_result"
        }
      ],
      "source": [
        "nulldata"
      ]
    },
    {
      "cell_type": "markdown",
      "id": "Vamx5xqtiHCH",
      "metadata": {
        "id": "Vamx5xqtiHCH"
      },
      "source": [
        "### Check for the number of rows and columns in the nulldata"
      ]
    },
    {
      "cell_type": "code",
      "execution_count": 126,
      "id": "59de1092",
      "metadata": {
        "colab": {
          "base_uri": "https://localhost:8080/"
        },
        "id": "59de1092",
        "outputId": "1dc71e8d-3953-4287-f110-74e75a8e1b0c"
      },
      "outputs": [
        {
          "data": {
            "text/plain": [
              "(9779, 11)"
            ]
          },
          "execution_count": 126,
          "metadata": {},
          "output_type": "execute_result"
        }
      ],
      "source": [
        "nulldata.shape"
      ]
    },
    {
      "cell_type": "markdown",
      "id": "BxzHNbBjpqXL",
      "metadata": {
        "id": "BxzHNbBjpqXL"
      },
      "source": [
        "### Check the Description and Information of the nulldata "
      ]
    },
    {
      "cell_type": "code",
      "execution_count": 127,
      "id": "a6294d29",
      "metadata": {
        "colab": {
          "base_uri": "https://localhost:8080/"
        },
        "id": "a6294d29",
        "outputId": "1170a6d5-c249-4711-a847-c800f06c7ae7"
      },
      "outputs": [
        {
          "name": "stdout",
          "output_type": "stream",
          "text": [
            "       buisness_year        doc_id  converted_usd\n",
            "count         9779.0  9.779000e+03    9779.000000\n",
            "mean          2020.0  2.015730e+09   32395.557081\n",
            "std              0.0  2.824983e+08   35393.870859\n",
            "min           2020.0  1.930535e+09       0.720000\n",
            "25%           2020.0  1.930660e+09    5731.950000\n",
            "50%           2020.0  1.930732e+09   19403.930000\n",
            "75%           2020.0  1.930821e+09   48806.640000\n",
            "max           2020.0  2.960636e+09  653644.800000\n",
            "<class 'pandas.core.frame.DataFrame'>\n",
            "Int64Index: 9779 entries, 3 to 50098\n",
            "Data columns (total 11 columns):\n",
            " #   Column                Non-Null Count  Dtype         \n",
            "---  ------                --------------  -----         \n",
            " 0   business_code         9779 non-null   object        \n",
            " 1   cust_number           9779 non-null   object        \n",
            " 2   name_customer         9779 non-null   object        \n",
            " 3   clear_date            0 non-null      datetime64[ns]\n",
            " 4   buisness_year         9779 non-null   int64         \n",
            " 5   doc_id                9779 non-null   int64         \n",
            " 6   posting_date          9779 non-null   datetime64[ns]\n",
            " 7   due_in_date           9779 non-null   datetime64[ns]\n",
            " 8   baseline_create_date  9779 non-null   datetime64[ns]\n",
            " 9   cust_payment_terms    9779 non-null   object        \n",
            " 10  converted_usd         9779 non-null   float64       \n",
            "dtypes: datetime64[ns](4), float64(1), int64(2), object(4)\n",
            "memory usage: 916.8+ KB\n",
            "None\n"
          ]
        }
      ],
      "source": [
        "print(nulldata.describe())\n",
        "print(nulldata.info())"
      ]
    },
    {
      "cell_type": "markdown",
      "id": "fe860d94",
      "metadata": {
        "id": "fe860d94"
      },
      "source": [
        "### Storing the Nulldata into a different dataset \n",
        "# for BACKUP"
      ]
    },
    {
      "cell_type": "code",
      "execution_count": 128,
      "id": "16352034",
      "metadata": {
        "id": "16352034"
      },
      "outputs": [],
      "source": [
        "nulldata1 = nulldata.copy()"
      ]
    },
    {
      "cell_type": "markdown",
      "id": "00f35b8c",
      "metadata": {
        "id": "00f35b8c"
      },
      "source": [
        "### Call the Label Encoder for Nulldata\n",
        "\n",
        "- Note - you are expected to fit \"business_code\" as it is a categorical variable\n",
        "- Note - No need to change the code"
      ]
    },
    {
      "cell_type": "code",
      "execution_count": 129,
      "id": "baf04b17",
      "metadata": {
        "id": "baf04b17"
      },
      "outputs": [],
      "source": [
        "from sklearn.preprocessing import LabelEncoder\n",
        "business_codern = LabelEncoder()\n",
        "business_codern.fit(nulldata['business_code'])\n",
        "nulldata['business_code_enc'] = business_codern.transform(nulldata['business_code'])"
      ]
    },
    {
      "cell_type": "markdown",
      "id": "ZCPBK9karIR-",
      "metadata": {
        "id": "ZCPBK9karIR-"
      },
      "source": [
        "### Now you need to manually replacing str values with numbers\n",
        "- Note - No need to change the code"
      ]
    },
    {
      "cell_type": "code",
      "execution_count": 130,
      "id": "c64924be",
      "metadata": {
        "id": "c64924be"
      },
      "outputs": [],
      "source": [
        "nulldata['cust_number'] = nulldata['cust_number'].str.replace('CCCA',\"1\").str.replace('CCU',\"2\").str.replace('CC',\"3\").astype(int)"
      ]
    },
    {
      "cell_type": "markdown",
      "id": "9a55f5f6",
      "metadata": {
        "id": "9a55f5f6"
      },
      "source": [
        "## You need to extract day, month and year from the \"clear_date\", \"posting_date\", \"due_in_date\", \"baseline_create_date\" columns\n",
        "\n",
        "\n",
        "##### 1.   Extract day from \"clear_date\" column and store it into 'day_of_cleardate'\n",
        "##### 2.   Extract month from \"clear_date\" column and store it into 'month_of_cleardate'\n",
        "##### 3.   Extract year from \"clear_date\" column and store it into 'year_of_cleardate'\n",
        "\n",
        "\n",
        "\n",
        "##### 4.   Extract day from \"posting_date\" column and store it into 'day_of_postingdate'\n",
        "##### 5.   Extract month from \"posting_date\" column and store it into 'month_of_postingdate'\n",
        "##### 6.   Extract year from \"posting_date\" column and store it into 'year_of_postingdate'\n",
        "\n",
        "\n",
        "\n",
        "\n",
        "##### 7.   Extract day from \"due_in_date\" column and store it into 'day_of_due'\n",
        "##### 8.   Extract month from \"due_in_date\" column and store it into 'month_of_due'\n",
        "##### 9.   Extract year from \"due_in_date\" column and store it into 'year_of_due'\n",
        "\n",
        "\n",
        "\n",
        "\n",
        "##### 10.   Extract day from \"baseline_create_date\" column and store it into 'day_of_createdate'\n",
        "##### 11.   Extract month from \"baseline_create_date\" column and store it into 'month_of_createdate'\n",
        "##### 12.   Extract year from \"baseline_create_date\" column and store it into 'year_of_createdate'\n",
        "\n",
        "\n",
        "\n",
        "\n",
        "- Note - You are supposed To use - \n",
        "\n",
        "*   dt.day\n",
        "*   dt.month\n",
        "*   dt.year"
      ]
    },
    {
      "cell_type": "code",
      "execution_count": 131,
      "id": "4166fbe4",
      "metadata": {
        "id": "4166fbe4"
      },
      "outputs": [],
      "source": [
        "nulldata['day_of_cleardate'] = nulldata['clear_date'].dt.day\n",
        "nulldata['month_of_cleardate'] = nulldata['clear_date'].dt.month\n",
        "nulldata['year_of_cleardate'] = nulldata['clear_date'].dt.year\n",
        "\n",
        "nulldata['day_of_postingdate'] = nulldata['posting_date'].dt.day\n",
        "nulldata['month_of_postingdate'] = nulldata['posting_date'].dt.month\n",
        "nulldata['year_of_postingdate'] = nulldata['posting_date'].dt.year\n",
        "\n",
        "nulldata['day_of_dueindate'] = nulldata['due_in_date'].dt.day\n",
        "nulldata['month_of_dueindate'] = nulldata['due_in_date'].dt.month\n",
        "nulldata['year_of_dueindate'] = nulldata['due_in_date'].dt.year\n",
        "\n",
        "nulldata['day_of_baselinedate'] = nulldata['baseline_create_date'].dt.day\n",
        "nulldata['month_of_baselinedate'] = nulldata['baseline_create_date'].dt.month\n",
        "nulldata['year_of_baselinedate'] = nulldata['baseline_create_date'].dt.year"
      ]
    },
    {
      "cell_type": "markdown",
      "id": "QeHWJYrAvOC6",
      "metadata": {
        "id": "QeHWJYrAvOC6"
      },
      "source": [
        "### Use Label Encoder1 of all the following columns - \n",
        "- 'cust_payment_terms' and store into 'cust_payment_terms_enc'\n",
        "- 'business_code' and store into 'business_code_enc'\n",
        "- 'name_customer' and store into 'name_customer_enc'\n",
        "\n",
        "Note - No need to change the code"
      ]
    },
    {
      "cell_type": "code",
      "execution_count": 132,
      "id": "bac330e2",
      "metadata": {
        "id": "bac330e2"
      },
      "outputs": [],
      "source": [
        "nulldata['cust_payment_terms_enc']=label_encoder1.transform(nulldata['cust_payment_terms'])\n",
        "nulldata['business_code_enc']=label_encoder1.transform(nulldata['business_code'])\n",
        "nulldata['name_customer_enc']=label_encoder.transform(nulldata['name_customer'])\n"
      ]
    },
    {
      "cell_type": "markdown",
      "id": "zD9I-XqQwC28",
      "metadata": {
        "id": "zD9I-XqQwC28"
      },
      "source": [
        "### Check for the datatypes of all the columns of Nulldata"
      ]
    },
    {
      "cell_type": "code",
      "execution_count": 133,
      "id": "d4f72517",
      "metadata": {
        "colab": {
          "base_uri": "https://localhost:8080/"
        },
        "id": "d4f72517",
        "outputId": "6587346b-eed8-487a-ef0a-23a574490d4e"
      },
      "outputs": [
        {
          "data": {
            "text/plain": [
              "business_code                     object\n",
              "cust_number                        int32\n",
              "name_customer                     object\n",
              "clear_date                datetime64[ns]\n",
              "buisness_year                      int64\n",
              "doc_id                             int64\n",
              "posting_date              datetime64[ns]\n",
              "due_in_date               datetime64[ns]\n",
              "baseline_create_date      datetime64[ns]\n",
              "cust_payment_terms                object\n",
              "converted_usd                    float64\n",
              "business_code_enc                  int32\n",
              "day_of_cleardate                 float64\n",
              "month_of_cleardate               float64\n",
              "year_of_cleardate                float64\n",
              "day_of_postingdate                 int64\n",
              "month_of_postingdate               int64\n",
              "year_of_postingdate                int64\n",
              "day_of_dueindate                   int64\n",
              "month_of_dueindate                 int64\n",
              "year_of_dueindate                  int64\n",
              "day_of_baselinedate                int64\n",
              "month_of_baselinedate              int64\n",
              "year_of_baselinedate               int64\n",
              "cust_payment_terms_enc             int32\n",
              "name_customer_enc                  int32\n",
              "dtype: object"
            ]
          },
          "execution_count": 133,
          "metadata": {},
          "output_type": "execute_result"
        }
      ],
      "source": [
        "nulldata.dtypes"
      ]
    },
    {
      "cell_type": "markdown",
      "id": "17cd5452",
      "metadata": {
        "id": "17cd5452"
      },
      "source": [
        "### Now you need to drop all the unnecessary columns - \n",
        "\n",
        "- 'business_code'\n",
        "- \"baseline_create_date\"\n",
        "- \"due_in_date\"\n",
        "- \"posting_date\"\n",
        "- \"name_customer\"\n",
        "- \"clear_date\"\n",
        "- \"cust_payment_terms\"\n",
        "- 'day_of_cleardate'\n",
        "- \"month_of_cleardate\"\n",
        "- \"year_of_cleardate\""
      ]
    },
    {
      "cell_type": "code",
      "execution_count": 134,
      "id": "d7c82076",
      "metadata": {
        "id": "d7c82076"
      },
      "outputs": [],
      "source": [
        "nulldata.drop(['business_code',\"baseline_create_date\",\"due_in_date\",\"posting_date\",\"name_customer\",\"clear_date\",\"cust_payment_terms\",'day_of_cleardate',\n",
        "               \"month_of_cleardate\",\"year_of_cleardate\"],axis=1,inplace=True)"
      ]
    },
    {
      "cell_type": "markdown",
      "id": "Q_NCr9IPweVq",
      "metadata": {
        "id": "Q_NCr9IPweVq"
      },
      "source": [
        "### Check the information of the \"nulldata\" dataframe"
      ]
    },
    {
      "cell_type": "code",
      "execution_count": 135,
      "id": "4e7ffee0",
      "metadata": {
        "colab": {
          "base_uri": "https://localhost:8080/"
        },
        "id": "4e7ffee0",
        "outputId": "98273f06-3846-4553-a1f0-4a342969b9d0"
      },
      "outputs": [
        {
          "name": "stdout",
          "output_type": "stream",
          "text": [
            "<class 'pandas.core.frame.DataFrame'>\n",
            "Int64Index: 9779 entries, 3 to 50098\n",
            "Data columns (total 16 columns):\n",
            " #   Column                  Non-Null Count  Dtype  \n",
            "---  ------                  --------------  -----  \n",
            " 0   cust_number             9779 non-null   int32  \n",
            " 1   buisness_year           9779 non-null   int64  \n",
            " 2   doc_id                  9779 non-null   int64  \n",
            " 3   converted_usd           9779 non-null   float64\n",
            " 4   business_code_enc       9779 non-null   int32  \n",
            " 5   day_of_postingdate      9779 non-null   int64  \n",
            " 6   month_of_postingdate    9779 non-null   int64  \n",
            " 7   year_of_postingdate     9779 non-null   int64  \n",
            " 8   day_of_dueindate        9779 non-null   int64  \n",
            " 9   month_of_dueindate      9779 non-null   int64  \n",
            " 10  year_of_dueindate       9779 non-null   int64  \n",
            " 11  day_of_baselinedate     9779 non-null   int64  \n",
            " 12  month_of_baselinedate   9779 non-null   int64  \n",
            " 13  year_of_baselinedate    9779 non-null   int64  \n",
            " 14  cust_payment_terms_enc  9779 non-null   int32  \n",
            " 15  name_customer_enc       9779 non-null   int32  \n",
            "dtypes: float64(1), int32(4), int64(11)\n",
            "memory usage: 1.1 MB\n"
          ]
        }
      ],
      "source": [
        "nulldata.info()"
      ]
    },
    {
      "cell_type": "markdown",
      "id": "-XvjhWqmwi-C",
      "metadata": {
        "id": "-XvjhWqmwi-C"
      },
      "source": [
        "### Compare \"nulldata\" with the \"X_test\" dataframe \n",
        "\n",
        "- use info() method"
      ]
    },
    {
      "cell_type": "code",
      "execution_count": 136,
      "id": "02f4b62d",
      "metadata": {
        "colab": {
          "base_uri": "https://localhost:8080/"
        },
        "id": "02f4b62d",
        "outputId": "95021e0b-6c83-4451-b48b-2d80c70785aa"
      },
      "outputs": [
        {
          "name": "stdout",
          "output_type": "stream",
          "text": [
            "<class 'pandas.core.frame.DataFrame'>\n",
            "Int64Index: 9779 entries, 3 to 50098\n",
            "Data columns (total 16 columns):\n",
            " #   Column                  Non-Null Count  Dtype  \n",
            "---  ------                  --------------  -----  \n",
            " 0   cust_number             9779 non-null   int32  \n",
            " 1   buisness_year           9779 non-null   int64  \n",
            " 2   doc_id                  9779 non-null   int64  \n",
            " 3   converted_usd           9779 non-null   float64\n",
            " 4   business_code_enc       9779 non-null   int32  \n",
            " 5   day_of_postingdate      9779 non-null   int64  \n",
            " 6   month_of_postingdate    9779 non-null   int64  \n",
            " 7   year_of_postingdate     9779 non-null   int64  \n",
            " 8   day_of_dueindate        9779 non-null   int64  \n",
            " 9   month_of_dueindate      9779 non-null   int64  \n",
            " 10  year_of_dueindate       9779 non-null   int64  \n",
            " 11  day_of_baselinedate     9779 non-null   int64  \n",
            " 12  month_of_baselinedate   9779 non-null   int64  \n",
            " 13  year_of_baselinedate    9779 non-null   int64  \n",
            " 14  cust_payment_terms_enc  9779 non-null   int32  \n",
            " 15  name_customer_enc       9779 non-null   int32  \n",
            "dtypes: float64(1), int32(4), int64(11)\n",
            "memory usage: 1.1 MB\n",
            "<class 'pandas.core.frame.DataFrame'>\n",
            "Int64Index: 7832 entries, 39759 to 49999\n",
            "Data columns (total 16 columns):\n",
            " #   Column                  Non-Null Count  Dtype  \n",
            "---  ------                  --------------  -----  \n",
            " 0   cust_number             7832 non-null   int32  \n",
            " 1   buisness_year           7832 non-null   int64  \n",
            " 2   doc_id                  7832 non-null   int64  \n",
            " 3   converted_usd           7832 non-null   float64\n",
            " 4   business_code_enc       7832 non-null   int32  \n",
            " 5   name_customer_enc       7832 non-null   int32  \n",
            " 6   cust_payment_terms_enc  7832 non-null   int32  \n",
            " 7   day_of_postingdate      7832 non-null   int64  \n",
            " 8   month_of_postingdate    7832 non-null   int64  \n",
            " 9   year_of_postingdate     7832 non-null   int64  \n",
            " 10  day_of_baselinedate     7832 non-null   int64  \n",
            " 11  month_of_baselinedate   7832 non-null   int64  \n",
            " 12  year_of_baselinedate    7832 non-null   int64  \n",
            " 13  day_of_dueindate        7832 non-null   int64  \n",
            " 14  month_of_dueindate      7832 non-null   int64  \n",
            " 15  year_of_dueindate       7832 non-null   int64  \n",
            "dtypes: float64(1), int32(4), int64(11)\n",
            "memory usage: 917.8 KB\n",
            "True\n"
          ]
        }
      ],
      "source": [
        "if nulldata.info() == X_test.info():\n",
        "  print(True)\n",
        "else:\n",
        "  print(False)"
      ]
    },
    {
      "cell_type": "markdown",
      "id": "Us3ey-9zwqjq",
      "metadata": {
        "id": "Us3ey-9zwqjq"
      },
      "source": [
        "### You must have noticed that there is a mismatch in the column sequence while compairing the dataframes\n",
        "\n",
        "- Note - In order to fed into the machine learning model, you need to edit the sequence of \"nulldata\", similar to the \"X_test\" dataframe"
      ]
    },
    {
      "cell_type": "markdown",
      "id": "vduVNt1kxPW-",
      "metadata": {
        "id": "vduVNt1kxPW-"
      },
      "source": [
        "- Display all the columns of the X_test dataframe \n",
        "- Display all the columns of the Nulldata dataframe \n",
        "- Store the Nulldata with new sequence into a new dataframe \n",
        "\n",
        "\n",
        "- Note - The code is given below, no need to change "
      ]
    },
    {
      "cell_type": "code",
      "execution_count": 137,
      "id": "6729353e",
      "metadata": {
        "colab": {
          "base_uri": "https://localhost:8080/"
        },
        "id": "6729353e",
        "outputId": "10bdf8ef-b490-43e0-95e7-e74f77b05fb4"
      },
      "outputs": [
        {
          "data": {
            "text/plain": [
              "Index(['cust_number', 'buisness_year', 'doc_id', 'converted_usd',\n",
              "       'business_code_enc', 'name_customer_enc', 'cust_payment_terms_enc',\n",
              "       'day_of_postingdate', 'month_of_postingdate', 'year_of_postingdate',\n",
              "       'day_of_baselinedate', 'month_of_baselinedate', 'year_of_baselinedate',\n",
              "       'day_of_dueindate', 'month_of_dueindate', 'year_of_dueindate'],\n",
              "      dtype='object')"
            ]
          },
          "execution_count": 137,
          "metadata": {},
          "output_type": "execute_result"
        }
      ],
      "source": [
        "X_test.columns"
      ]
    },
    {
      "cell_type": "code",
      "execution_count": 138,
      "id": "47bd9c5e",
      "metadata": {
        "colab": {
          "base_uri": "https://localhost:8080/"
        },
        "id": "47bd9c5e",
        "outputId": "b006b5ac-1436-43a2-a0ac-5e093e41dc4a"
      },
      "outputs": [
        {
          "data": {
            "text/plain": [
              "Index(['cust_number', 'buisness_year', 'doc_id', 'converted_usd',\n",
              "       'business_code_enc', 'day_of_postingdate', 'month_of_postingdate',\n",
              "       'year_of_postingdate', 'day_of_dueindate', 'month_of_dueindate',\n",
              "       'year_of_dueindate', 'day_of_baselinedate', 'month_of_baselinedate',\n",
              "       'year_of_baselinedate', 'cust_payment_terms_enc', 'name_customer_enc'],\n",
              "      dtype='object')"
            ]
          },
          "execution_count": 138,
          "metadata": {},
          "output_type": "execute_result"
        }
      ],
      "source": [
        "nulldata.columns"
      ]
    },
    {
      "cell_type": "code",
      "execution_count": 139,
      "id": "aa5a2103",
      "metadata": {
        "id": "aa5a2103"
      },
      "outputs": [],
      "source": [
        "nulldata2=nulldata[['cust_number', 'buisness_year', 'doc_id', 'converted_usd',\n",
        "       'business_code_enc', 'name_customer_enc', 'cust_payment_terms_enc',\n",
        "       'day_of_postingdate', 'month_of_postingdate', 'year_of_postingdate',\n",
        "       'day_of_baselinedate', 'month_of_baselinedate', 'year_of_baselinedate',\n",
        "       'day_of_dueindate', 'month_of_dueindate', 'year_of_dueindate']]"
      ]
    },
    {
      "cell_type": "markdown",
      "id": "1dc8b021",
      "metadata": {
        "id": "1dc8b021"
      },
      "source": [
        "### Display the Final Dataset"
      ]
    },
    {
      "cell_type": "code",
      "execution_count": 140,
      "id": "2f39785a",
      "metadata": {
        "colab": {
          "base_uri": "https://localhost:8080/",
          "height": 488
        },
        "id": "2f39785a",
        "outputId": "a9ba78e8-e3fc-43cf-b230-e54ed8482f99"
      },
      "outputs": [
        {
          "data": {
            "text/html": [
              "<div>\n",
              "<style scoped>\n",
              "    .dataframe tbody tr th:only-of-type {\n",
              "        vertical-align: middle;\n",
              "    }\n",
              "\n",
              "    .dataframe tbody tr th {\n",
              "        vertical-align: top;\n",
              "    }\n",
              "\n",
              "    .dataframe thead th {\n",
              "        text-align: right;\n",
              "    }\n",
              "</style>\n",
              "<table border=\"1\" class=\"dataframe\">\n",
              "  <thead>\n",
              "    <tr style=\"text-align: right;\">\n",
              "      <th></th>\n",
              "      <th>cust_number</th>\n",
              "      <th>buisness_year</th>\n",
              "      <th>doc_id</th>\n",
              "      <th>converted_usd</th>\n",
              "      <th>business_code_enc</th>\n",
              "      <th>name_customer_enc</th>\n",
              "      <th>cust_payment_terms_enc</th>\n",
              "      <th>day_of_postingdate</th>\n",
              "      <th>month_of_postingdate</th>\n",
              "      <th>year_of_postingdate</th>\n",
              "      <th>day_of_baselinedate</th>\n",
              "      <th>month_of_baselinedate</th>\n",
              "      <th>year_of_baselinedate</th>\n",
              "      <th>day_of_dueindate</th>\n",
              "      <th>month_of_dueindate</th>\n",
              "      <th>year_of_dueindate</th>\n",
              "    </tr>\n",
              "  </thead>\n",
              "  <tbody>\n",
              "    <tr>\n",
              "      <th>3</th>\n",
              "      <td>140105686</td>\n",
              "      <td>2020</td>\n",
              "      <td>2960623488</td>\n",
              "      <td>2309.790</td>\n",
              "      <td>64</td>\n",
              "      <td>2712</td>\n",
              "      <td>5</td>\n",
              "      <td>30</td>\n",
              "      <td>3</td>\n",
              "      <td>2020</td>\n",
              "      <td>31</td>\n",
              "      <td>3</td>\n",
              "      <td>2020</td>\n",
              "      <td>10</td>\n",
              "      <td>4</td>\n",
              "      <td>2020</td>\n",
              "    </tr>\n",
              "    <tr>\n",
              "      <th>7</th>\n",
              "      <td>200744019</td>\n",
              "      <td>2020</td>\n",
              "      <td>1930659387</td>\n",
              "      <td>11173.020</td>\n",
              "      <td>64</td>\n",
              "      <td>2795</td>\n",
              "      <td>20</td>\n",
              "      <td>19</td>\n",
              "      <td>3</td>\n",
              "      <td>2020</td>\n",
              "      <td>19</td>\n",
              "      <td>3</td>\n",
              "      <td>2020</td>\n",
              "      <td>3</td>\n",
              "      <td>4</td>\n",
              "      <td>2020</td>\n",
              "    </tr>\n",
              "    <tr>\n",
              "      <th>10</th>\n",
              "      <td>200418007</td>\n",
              "      <td>2020</td>\n",
              "      <td>1930610806</td>\n",
              "      <td>3525.590</td>\n",
              "      <td>64</td>\n",
              "      <td>93</td>\n",
              "      <td>20</td>\n",
              "      <td>3</td>\n",
              "      <td>11</td>\n",
              "      <td>2020</td>\n",
              "      <td>11</td>\n",
              "      <td>3</td>\n",
              "      <td>2020</td>\n",
              "      <td>26</td>\n",
              "      <td>3</td>\n",
              "      <td>2020</td>\n",
              "    </tr>\n",
              "    <tr>\n",
              "      <th>14</th>\n",
              "      <td>200739534</td>\n",
              "      <td>2020</td>\n",
              "      <td>1930788296</td>\n",
              "      <td>121105.650</td>\n",
              "      <td>64</td>\n",
              "      <td>2021</td>\n",
              "      <td>20</td>\n",
              "      <td>15</td>\n",
              "      <td>4</td>\n",
              "      <td>2020</td>\n",
              "      <td>15</td>\n",
              "      <td>4</td>\n",
              "      <td>2020</td>\n",
              "      <td>30</td>\n",
              "      <td>4</td>\n",
              "      <td>2020</td>\n",
              "    </tr>\n",
              "    <tr>\n",
              "      <th>15</th>\n",
              "      <td>200353024</td>\n",
              "      <td>2020</td>\n",
              "      <td>1930817482</td>\n",
              "      <td>3726.060</td>\n",
              "      <td>64</td>\n",
              "      <td>722</td>\n",
              "      <td>34</td>\n",
              "      <td>23</td>\n",
              "      <td>4</td>\n",
              "      <td>2020</td>\n",
              "      <td>16</td>\n",
              "      <td>4</td>\n",
              "      <td>2020</td>\n",
              "      <td>26</td>\n",
              "      <td>4</td>\n",
              "      <td>2020</td>\n",
              "    </tr>\n",
              "    <tr>\n",
              "      <th>...</th>\n",
              "      <td>...</td>\n",
              "      <td>...</td>\n",
              "      <td>...</td>\n",
              "      <td>...</td>\n",
              "      <td>...</td>\n",
              "      <td>...</td>\n",
              "      <td>...</td>\n",
              "      <td>...</td>\n",
              "      <td>...</td>\n",
              "      <td>...</td>\n",
              "      <td>...</td>\n",
              "      <td>...</td>\n",
              "      <td>...</td>\n",
              "      <td>...</td>\n",
              "      <td>...</td>\n",
              "      <td>...</td>\n",
              "    </tr>\n",
              "    <tr>\n",
              "      <th>50094</th>\n",
              "      <td>140106408</td>\n",
              "      <td>2020</td>\n",
              "      <td>2960618884</td>\n",
              "      <td>64982.589</td>\n",
              "      <td>64</td>\n",
              "      <td>2973</td>\n",
              "      <td>5</td>\n",
              "      <td>3</td>\n",
              "      <td>6</td>\n",
              "      <td>2020</td>\n",
              "      <td>6</td>\n",
              "      <td>3</td>\n",
              "      <td>2020</td>\n",
              "      <td>16</td>\n",
              "      <td>3</td>\n",
              "      <td>2020</td>\n",
              "    </tr>\n",
              "    <tr>\n",
              "      <th>50095</th>\n",
              "      <td>140106408</td>\n",
              "      <td>2020</td>\n",
              "      <td>2960618885</td>\n",
              "      <td>64982.589</td>\n",
              "      <td>64</td>\n",
              "      <td>2973</td>\n",
              "      <td>5</td>\n",
              "      <td>3</td>\n",
              "      <td>6</td>\n",
              "      <td>2020</td>\n",
              "      <td>6</td>\n",
              "      <td>3</td>\n",
              "      <td>2020</td>\n",
              "      <td>16</td>\n",
              "      <td>3</td>\n",
              "      <td>2020</td>\n",
              "    </tr>\n",
              "    <tr>\n",
              "      <th>50096</th>\n",
              "      <td>140106408</td>\n",
              "      <td>2020</td>\n",
              "      <td>2960618886</td>\n",
              "      <td>64982.589</td>\n",
              "      <td>64</td>\n",
              "      <td>2973</td>\n",
              "      <td>5</td>\n",
              "      <td>3</td>\n",
              "      <td>6</td>\n",
              "      <td>2020</td>\n",
              "      <td>6</td>\n",
              "      <td>3</td>\n",
              "      <td>2020</td>\n",
              "      <td>16</td>\n",
              "      <td>3</td>\n",
              "      <td>2020</td>\n",
              "    </tr>\n",
              "    <tr>\n",
              "      <th>50097</th>\n",
              "      <td>140106408</td>\n",
              "      <td>2020</td>\n",
              "      <td>2960618887</td>\n",
              "      <td>64982.589</td>\n",
              "      <td>64</td>\n",
              "      <td>2973</td>\n",
              "      <td>5</td>\n",
              "      <td>3</td>\n",
              "      <td>6</td>\n",
              "      <td>2020</td>\n",
              "      <td>6</td>\n",
              "      <td>3</td>\n",
              "      <td>2020</td>\n",
              "      <td>16</td>\n",
              "      <td>3</td>\n",
              "      <td>2020</td>\n",
              "    </tr>\n",
              "    <tr>\n",
              "      <th>50098</th>\n",
              "      <td>140106408</td>\n",
              "      <td>2020</td>\n",
              "      <td>2960618888</td>\n",
              "      <td>64982.589</td>\n",
              "      <td>64</td>\n",
              "      <td>2973</td>\n",
              "      <td>5</td>\n",
              "      <td>3</td>\n",
              "      <td>6</td>\n",
              "      <td>2020</td>\n",
              "      <td>6</td>\n",
              "      <td>3</td>\n",
              "      <td>2020</td>\n",
              "      <td>16</td>\n",
              "      <td>3</td>\n",
              "      <td>2020</td>\n",
              "    </tr>\n",
              "  </tbody>\n",
              "</table>\n",
              "<p>9779 rows × 16 columns</p>\n",
              "</div>"
            ],
            "text/plain": [
              "       cust_number  buisness_year      doc_id  converted_usd  \\\n",
              "3        140105686           2020  2960623488       2309.790   \n",
              "7        200744019           2020  1930659387      11173.020   \n",
              "10       200418007           2020  1930610806       3525.590   \n",
              "14       200739534           2020  1930788296     121105.650   \n",
              "15       200353024           2020  1930817482       3726.060   \n",
              "...            ...            ...         ...            ...   \n",
              "50094    140106408           2020  2960618884      64982.589   \n",
              "50095    140106408           2020  2960618885      64982.589   \n",
              "50096    140106408           2020  2960618886      64982.589   \n",
              "50097    140106408           2020  2960618887      64982.589   \n",
              "50098    140106408           2020  2960618888      64982.589   \n",
              "\n",
              "       business_code_enc  name_customer_enc  cust_payment_terms_enc  \\\n",
              "3                     64               2712                       5   \n",
              "7                     64               2795                      20   \n",
              "10                    64                 93                      20   \n",
              "14                    64               2021                      20   \n",
              "15                    64                722                      34   \n",
              "...                  ...                ...                     ...   \n",
              "50094                 64               2973                       5   \n",
              "50095                 64               2973                       5   \n",
              "50096                 64               2973                       5   \n",
              "50097                 64               2973                       5   \n",
              "50098                 64               2973                       5   \n",
              "\n",
              "       day_of_postingdate  month_of_postingdate  year_of_postingdate  \\\n",
              "3                      30                     3                 2020   \n",
              "7                      19                     3                 2020   \n",
              "10                      3                    11                 2020   \n",
              "14                     15                     4                 2020   \n",
              "15                     23                     4                 2020   \n",
              "...                   ...                   ...                  ...   \n",
              "50094                   3                     6                 2020   \n",
              "50095                   3                     6                 2020   \n",
              "50096                   3                     6                 2020   \n",
              "50097                   3                     6                 2020   \n",
              "50098                   3                     6                 2020   \n",
              "\n",
              "       day_of_baselinedate  month_of_baselinedate  year_of_baselinedate  \\\n",
              "3                       31                      3                  2020   \n",
              "7                       19                      3                  2020   \n",
              "10                      11                      3                  2020   \n",
              "14                      15                      4                  2020   \n",
              "15                      16                      4                  2020   \n",
              "...                    ...                    ...                   ...   \n",
              "50094                    6                      3                  2020   \n",
              "50095                    6                      3                  2020   \n",
              "50096                    6                      3                  2020   \n",
              "50097                    6                      3                  2020   \n",
              "50098                    6                      3                  2020   \n",
              "\n",
              "       day_of_dueindate  month_of_dueindate  year_of_dueindate  \n",
              "3                    10                   4               2020  \n",
              "7                     3                   4               2020  \n",
              "10                   26                   3               2020  \n",
              "14                   30                   4               2020  \n",
              "15                   26                   4               2020  \n",
              "...                 ...                 ...                ...  \n",
              "50094                16                   3               2020  \n",
              "50095                16                   3               2020  \n",
              "50096                16                   3               2020  \n",
              "50097                16                   3               2020  \n",
              "50098                16                   3               2020  \n",
              "\n",
              "[9779 rows x 16 columns]"
            ]
          },
          "execution_count": 140,
          "metadata": {},
          "output_type": "execute_result"
        }
      ],
      "source": [
        "nulldata2"
      ]
    },
    {
      "cell_type": "markdown",
      "id": "27b88c5a",
      "metadata": {
        "id": "27b88c5a"
      },
      "source": [
        "### Now you can pass this dataset into you final model and store it into \"final_result\""
      ]
    },
    {
      "cell_type": "code",
      "execution_count": 141,
      "id": "9e0b6388",
      "metadata": {
        "id": "9e0b6388"
      },
      "outputs": [],
      "source": [
        "final_result = regressorfinal.predict(nulldata2)"
      ]
    },
    {
      "cell_type": "markdown",
      "id": "9653d3c6",
      "metadata": {
        "id": "9653d3c6"
      },
      "source": [
        "### you need to make the final_result as dataframe, with a column name \"avg_delay\"\n",
        "\n",
        "- Note - No need to change the code"
      ]
    },
    {
      "cell_type": "code",
      "execution_count": 142,
      "id": "25ef814d",
      "metadata": {
        "id": "25ef814d"
      },
      "outputs": [],
      "source": [
        "final_result = pd.Series(final_result,name='avg_delay')"
      ]
    },
    {
      "cell_type": "markdown",
      "id": "C86staIhyf2C",
      "metadata": {
        "id": "C86staIhyf2C"
      },
      "source": [
        "### Display the \"avg_delay\" column"
      ]
    },
    {
      "cell_type": "code",
      "execution_count": 143,
      "id": "4fd46406",
      "metadata": {
        "colab": {
          "base_uri": "https://localhost:8080/"
        },
        "id": "4fd46406",
        "outputId": "d2310ad5-899a-4117-fd82-054a13f345ff"
      },
      "outputs": [
        {
          "data": {
            "text/plain": [
              "0       25140.88\n",
              "1        4114.68\n",
              "2       56564.84\n",
              "3       23214.39\n",
              "4        2583.95\n",
              "          ...   \n",
              "9774    43107.57\n",
              "9775    43107.57\n",
              "9776    43107.57\n",
              "9777    43107.57\n",
              "9778    43107.57\n",
              "Name: avg_delay, Length: 9779, dtype: float64"
            ]
          },
          "execution_count": 143,
          "metadata": {},
          "output_type": "execute_result"
        }
      ],
      "source": [
        "final_result"
      ]
    },
    {
      "cell_type": "code",
      "execution_count": 144,
      "id": "J2ywf-gDweuL",
      "metadata": {
        "colab": {
          "base_uri": "https://localhost:8080/",
          "height": 522
        },
        "id": "J2ywf-gDweuL",
        "outputId": "1e284477-0ab5-4773-aee7-0927c03f6557"
      },
      "outputs": [
        {
          "data": {
            "text/html": [
              "<div>\n",
              "<style scoped>\n",
              "    .dataframe tbody tr th:only-of-type {\n",
              "        vertical-align: middle;\n",
              "    }\n",
              "\n",
              "    .dataframe tbody tr th {\n",
              "        vertical-align: top;\n",
              "    }\n",
              "\n",
              "    .dataframe thead th {\n",
              "        text-align: right;\n",
              "    }\n",
              "</style>\n",
              "<table border=\"1\" class=\"dataframe\">\n",
              "  <thead>\n",
              "    <tr style=\"text-align: right;\">\n",
              "      <th></th>\n",
              "      <th>business_code</th>\n",
              "      <th>cust_number</th>\n",
              "      <th>name_customer</th>\n",
              "      <th>clear_date</th>\n",
              "      <th>buisness_year</th>\n",
              "      <th>doc_id</th>\n",
              "      <th>posting_date</th>\n",
              "      <th>due_in_date</th>\n",
              "      <th>baseline_create_date</th>\n",
              "      <th>cust_payment_terms</th>\n",
              "      <th>converted_usd</th>\n",
              "    </tr>\n",
              "  </thead>\n",
              "  <tbody>\n",
              "    <tr>\n",
              "      <th>3</th>\n",
              "      <td>CA02</td>\n",
              "      <td>140105686</td>\n",
              "      <td>SYSC llc</td>\n",
              "      <td>NaT</td>\n",
              "      <td>2020</td>\n",
              "      <td>2960623488</td>\n",
              "      <td>2020-03-30</td>\n",
              "      <td>2020-04-10</td>\n",
              "      <td>2020-03-31</td>\n",
              "      <td>CA10</td>\n",
              "      <td>2309.790</td>\n",
              "    </tr>\n",
              "    <tr>\n",
              "      <th>7</th>\n",
              "      <td>U001</td>\n",
              "      <td>200744019</td>\n",
              "      <td>TARG us</td>\n",
              "      <td>NaT</td>\n",
              "      <td>2020</td>\n",
              "      <td>1930659387</td>\n",
              "      <td>2020-03-19</td>\n",
              "      <td>2020-04-03</td>\n",
              "      <td>2020-03-19</td>\n",
              "      <td>NAA8</td>\n",
              "      <td>11173.020</td>\n",
              "    </tr>\n",
              "    <tr>\n",
              "      <th>10</th>\n",
              "      <td>U001</td>\n",
              "      <td>200418007</td>\n",
              "      <td>AM</td>\n",
              "      <td>NaT</td>\n",
              "      <td>2020</td>\n",
              "      <td>1930610806</td>\n",
              "      <td>2020-11-03</td>\n",
              "      <td>2020-03-26</td>\n",
              "      <td>2020-03-11</td>\n",
              "      <td>NAA8</td>\n",
              "      <td>3525.590</td>\n",
              "    </tr>\n",
              "    <tr>\n",
              "      <th>14</th>\n",
              "      <td>U001</td>\n",
              "      <td>200739534</td>\n",
              "      <td>OK systems</td>\n",
              "      <td>NaT</td>\n",
              "      <td>2020</td>\n",
              "      <td>1930788296</td>\n",
              "      <td>2020-04-15</td>\n",
              "      <td>2020-04-30</td>\n",
              "      <td>2020-04-15</td>\n",
              "      <td>NAA8</td>\n",
              "      <td>121105.650</td>\n",
              "    </tr>\n",
              "    <tr>\n",
              "      <th>15</th>\n",
              "      <td>U001</td>\n",
              "      <td>200353024</td>\n",
              "      <td>DECA corporation</td>\n",
              "      <td>NaT</td>\n",
              "      <td>2020</td>\n",
              "      <td>1930817482</td>\n",
              "      <td>2020-04-23</td>\n",
              "      <td>2020-04-26</td>\n",
              "      <td>2020-04-16</td>\n",
              "      <td>NAM2</td>\n",
              "      <td>3726.060</td>\n",
              "    </tr>\n",
              "    <tr>\n",
              "      <th>...</th>\n",
              "      <td>...</td>\n",
              "      <td>...</td>\n",
              "      <td>...</td>\n",
              "      <td>...</td>\n",
              "      <td>...</td>\n",
              "      <td>...</td>\n",
              "      <td>...</td>\n",
              "      <td>...</td>\n",
              "      <td>...</td>\n",
              "      <td>...</td>\n",
              "      <td>...</td>\n",
              "    </tr>\n",
              "    <tr>\n",
              "      <th>50094</th>\n",
              "      <td>CA02</td>\n",
              "      <td>140106408</td>\n",
              "      <td>WAL-M corp</td>\n",
              "      <td>NaT</td>\n",
              "      <td>2020</td>\n",
              "      <td>2960618884</td>\n",
              "      <td>2020-06-03</td>\n",
              "      <td>2020-03-16</td>\n",
              "      <td>2020-03-06</td>\n",
              "      <td>CA10</td>\n",
              "      <td>64982.589</td>\n",
              "    </tr>\n",
              "    <tr>\n",
              "      <th>50095</th>\n",
              "      <td>CA02</td>\n",
              "      <td>140106408</td>\n",
              "      <td>WAL-M corp</td>\n",
              "      <td>NaT</td>\n",
              "      <td>2020</td>\n",
              "      <td>2960618885</td>\n",
              "      <td>2020-06-03</td>\n",
              "      <td>2020-03-16</td>\n",
              "      <td>2020-03-06</td>\n",
              "      <td>CA10</td>\n",
              "      <td>64982.589</td>\n",
              "    </tr>\n",
              "    <tr>\n",
              "      <th>50096</th>\n",
              "      <td>CA02</td>\n",
              "      <td>140106408</td>\n",
              "      <td>WAL-M corp</td>\n",
              "      <td>NaT</td>\n",
              "      <td>2020</td>\n",
              "      <td>2960618886</td>\n",
              "      <td>2020-06-03</td>\n",
              "      <td>2020-03-16</td>\n",
              "      <td>2020-03-06</td>\n",
              "      <td>CA10</td>\n",
              "      <td>64982.589</td>\n",
              "    </tr>\n",
              "    <tr>\n",
              "      <th>50097</th>\n",
              "      <td>CA02</td>\n",
              "      <td>140106408</td>\n",
              "      <td>WAL-M corp</td>\n",
              "      <td>NaT</td>\n",
              "      <td>2020</td>\n",
              "      <td>2960618887</td>\n",
              "      <td>2020-06-03</td>\n",
              "      <td>2020-03-16</td>\n",
              "      <td>2020-03-06</td>\n",
              "      <td>CA10</td>\n",
              "      <td>64982.589</td>\n",
              "    </tr>\n",
              "    <tr>\n",
              "      <th>50098</th>\n",
              "      <td>CA02</td>\n",
              "      <td>140106408</td>\n",
              "      <td>WAL-M corp</td>\n",
              "      <td>NaT</td>\n",
              "      <td>2020</td>\n",
              "      <td>2960618888</td>\n",
              "      <td>2020-06-03</td>\n",
              "      <td>2020-03-16</td>\n",
              "      <td>2020-03-06</td>\n",
              "      <td>CA10</td>\n",
              "      <td>64982.589</td>\n",
              "    </tr>\n",
              "  </tbody>\n",
              "</table>\n",
              "<p>9779 rows × 11 columns</p>\n",
              "</div>"
            ],
            "text/plain": [
              "      business_code cust_number     name_customer clear_date  buisness_year  \\\n",
              "3              CA02   140105686          SYSC llc        NaT           2020   \n",
              "7              U001   200744019           TARG us        NaT           2020   \n",
              "10             U001   200418007               AM         NaT           2020   \n",
              "14             U001   200739534        OK systems        NaT           2020   \n",
              "15             U001   200353024  DECA corporation        NaT           2020   \n",
              "...             ...         ...               ...        ...            ...   \n",
              "50094          CA02   140106408        WAL-M corp        NaT           2020   \n",
              "50095          CA02   140106408        WAL-M corp        NaT           2020   \n",
              "50096          CA02   140106408        WAL-M corp        NaT           2020   \n",
              "50097          CA02   140106408        WAL-M corp        NaT           2020   \n",
              "50098          CA02   140106408        WAL-M corp        NaT           2020   \n",
              "\n",
              "           doc_id posting_date due_in_date baseline_create_date  \\\n",
              "3      2960623488   2020-03-30  2020-04-10           2020-03-31   \n",
              "7      1930659387   2020-03-19  2020-04-03           2020-03-19   \n",
              "10     1930610806   2020-11-03  2020-03-26           2020-03-11   \n",
              "14     1930788296   2020-04-15  2020-04-30           2020-04-15   \n",
              "15     1930817482   2020-04-23  2020-04-26           2020-04-16   \n",
              "...           ...          ...         ...                  ...   \n",
              "50094  2960618884   2020-06-03  2020-03-16           2020-03-06   \n",
              "50095  2960618885   2020-06-03  2020-03-16           2020-03-06   \n",
              "50096  2960618886   2020-06-03  2020-03-16           2020-03-06   \n",
              "50097  2960618887   2020-06-03  2020-03-16           2020-03-06   \n",
              "50098  2960618888   2020-06-03  2020-03-16           2020-03-06   \n",
              "\n",
              "      cust_payment_terms  converted_usd  \n",
              "3                   CA10       2309.790  \n",
              "7                   NAA8      11173.020  \n",
              "10                  NAA8       3525.590  \n",
              "14                  NAA8     121105.650  \n",
              "15                  NAM2       3726.060  \n",
              "...                  ...            ...  \n",
              "50094               CA10      64982.589  \n",
              "50095               CA10      64982.589  \n",
              "50096               CA10      64982.589  \n",
              "50097               CA10      64982.589  \n",
              "50098               CA10      64982.589  \n",
              "\n",
              "[9779 rows x 11 columns]"
            ]
          },
          "execution_count": 144,
          "metadata": {},
          "output_type": "execute_result"
        }
      ],
      "source": [
        "nulldata1"
      ]
    },
    {
      "cell_type": "markdown",
      "id": "44f71a7e",
      "metadata": {
        "id": "44f71a7e"
      },
      "source": [
        "### Now you need to merge this final_result dataframe with the BACKUP of \"nulldata\" Dataframe which we have created in earlier steps"
      ]
    },
    {
      "cell_type": "code",
      "execution_count": 145,
      "id": "e8f0969d",
      "metadata": {
        "id": "e8f0969d"
      },
      "outputs": [],
      "source": [
        "nulldata1.reset_index(drop=True,inplace=True)\n",
        "Final = nulldata1.merge(final_result , on = nulldata.index )"
      ]
    },
    {
      "cell_type": "markdown",
      "id": "G-hLtxXgy4GZ",
      "metadata": {
        "id": "G-hLtxXgy4GZ"
      },
      "source": [
        "### Display the \"Final\" dataframe "
      ]
    },
    {
      "cell_type": "code",
      "execution_count": 146,
      "id": "71fb4dc0",
      "metadata": {
        "colab": {
          "base_uri": "https://localhost:8080/",
          "height": 522
        },
        "id": "71fb4dc0",
        "outputId": "40f7c65c-d7e4-42cf-bade-5676a09624e4"
      },
      "outputs": [
        {
          "data": {
            "text/html": [
              "<div>\n",
              "<style scoped>\n",
              "    .dataframe tbody tr th:only-of-type {\n",
              "        vertical-align: middle;\n",
              "    }\n",
              "\n",
              "    .dataframe tbody tr th {\n",
              "        vertical-align: top;\n",
              "    }\n",
              "\n",
              "    .dataframe thead th {\n",
              "        text-align: right;\n",
              "    }\n",
              "</style>\n",
              "<table border=\"1\" class=\"dataframe\">\n",
              "  <thead>\n",
              "    <tr style=\"text-align: right;\">\n",
              "      <th></th>\n",
              "      <th>key_0</th>\n",
              "      <th>business_code</th>\n",
              "      <th>cust_number</th>\n",
              "      <th>name_customer</th>\n",
              "      <th>clear_date</th>\n",
              "      <th>buisness_year</th>\n",
              "      <th>doc_id</th>\n",
              "      <th>posting_date</th>\n",
              "      <th>due_in_date</th>\n",
              "      <th>baseline_create_date</th>\n",
              "      <th>cust_payment_terms</th>\n",
              "      <th>converted_usd</th>\n",
              "      <th>avg_delay</th>\n",
              "    </tr>\n",
              "  </thead>\n",
              "  <tbody>\n",
              "    <tr>\n",
              "      <th>0</th>\n",
              "      <td>3</td>\n",
              "      <td>CA02</td>\n",
              "      <td>140105686</td>\n",
              "      <td>SYSC llc</td>\n",
              "      <td>NaT</td>\n",
              "      <td>2020</td>\n",
              "      <td>2960623488</td>\n",
              "      <td>2020-03-30</td>\n",
              "      <td>2020-04-10</td>\n",
              "      <td>2020-03-31</td>\n",
              "      <td>CA10</td>\n",
              "      <td>2309.790</td>\n",
              "      <td>25140.88</td>\n",
              "    </tr>\n",
              "    <tr>\n",
              "      <th>1</th>\n",
              "      <td>7</td>\n",
              "      <td>U001</td>\n",
              "      <td>200744019</td>\n",
              "      <td>TARG us</td>\n",
              "      <td>NaT</td>\n",
              "      <td>2020</td>\n",
              "      <td>1930659387</td>\n",
              "      <td>2020-03-19</td>\n",
              "      <td>2020-04-03</td>\n",
              "      <td>2020-03-19</td>\n",
              "      <td>NAA8</td>\n",
              "      <td>11173.020</td>\n",
              "      <td>4114.68</td>\n",
              "    </tr>\n",
              "    <tr>\n",
              "      <th>2</th>\n",
              "      <td>10</td>\n",
              "      <td>U001</td>\n",
              "      <td>200418007</td>\n",
              "      <td>AM</td>\n",
              "      <td>NaT</td>\n",
              "      <td>2020</td>\n",
              "      <td>1930610806</td>\n",
              "      <td>2020-11-03</td>\n",
              "      <td>2020-03-26</td>\n",
              "      <td>2020-03-11</td>\n",
              "      <td>NAA8</td>\n",
              "      <td>3525.590</td>\n",
              "      <td>56564.84</td>\n",
              "    </tr>\n",
              "    <tr>\n",
              "      <th>3</th>\n",
              "      <td>14</td>\n",
              "      <td>U001</td>\n",
              "      <td>200739534</td>\n",
              "      <td>OK systems</td>\n",
              "      <td>NaT</td>\n",
              "      <td>2020</td>\n",
              "      <td>1930788296</td>\n",
              "      <td>2020-04-15</td>\n",
              "      <td>2020-04-30</td>\n",
              "      <td>2020-04-15</td>\n",
              "      <td>NAA8</td>\n",
              "      <td>121105.650</td>\n",
              "      <td>23214.39</td>\n",
              "    </tr>\n",
              "    <tr>\n",
              "      <th>4</th>\n",
              "      <td>15</td>\n",
              "      <td>U001</td>\n",
              "      <td>200353024</td>\n",
              "      <td>DECA corporation</td>\n",
              "      <td>NaT</td>\n",
              "      <td>2020</td>\n",
              "      <td>1930817482</td>\n",
              "      <td>2020-04-23</td>\n",
              "      <td>2020-04-26</td>\n",
              "      <td>2020-04-16</td>\n",
              "      <td>NAM2</td>\n",
              "      <td>3726.060</td>\n",
              "      <td>2583.95</td>\n",
              "    </tr>\n",
              "    <tr>\n",
              "      <th>...</th>\n",
              "      <td>...</td>\n",
              "      <td>...</td>\n",
              "      <td>...</td>\n",
              "      <td>...</td>\n",
              "      <td>...</td>\n",
              "      <td>...</td>\n",
              "      <td>...</td>\n",
              "      <td>...</td>\n",
              "      <td>...</td>\n",
              "      <td>...</td>\n",
              "      <td>...</td>\n",
              "      <td>...</td>\n",
              "      <td>...</td>\n",
              "    </tr>\n",
              "    <tr>\n",
              "      <th>9774</th>\n",
              "      <td>50094</td>\n",
              "      <td>CA02</td>\n",
              "      <td>140106408</td>\n",
              "      <td>WAL-M corp</td>\n",
              "      <td>NaT</td>\n",
              "      <td>2020</td>\n",
              "      <td>2960618884</td>\n",
              "      <td>2020-06-03</td>\n",
              "      <td>2020-03-16</td>\n",
              "      <td>2020-03-06</td>\n",
              "      <td>CA10</td>\n",
              "      <td>64982.589</td>\n",
              "      <td>43107.57</td>\n",
              "    </tr>\n",
              "    <tr>\n",
              "      <th>9775</th>\n",
              "      <td>50095</td>\n",
              "      <td>CA02</td>\n",
              "      <td>140106408</td>\n",
              "      <td>WAL-M corp</td>\n",
              "      <td>NaT</td>\n",
              "      <td>2020</td>\n",
              "      <td>2960618885</td>\n",
              "      <td>2020-06-03</td>\n",
              "      <td>2020-03-16</td>\n",
              "      <td>2020-03-06</td>\n",
              "      <td>CA10</td>\n",
              "      <td>64982.589</td>\n",
              "      <td>43107.57</td>\n",
              "    </tr>\n",
              "    <tr>\n",
              "      <th>9776</th>\n",
              "      <td>50096</td>\n",
              "      <td>CA02</td>\n",
              "      <td>140106408</td>\n",
              "      <td>WAL-M corp</td>\n",
              "      <td>NaT</td>\n",
              "      <td>2020</td>\n",
              "      <td>2960618886</td>\n",
              "      <td>2020-06-03</td>\n",
              "      <td>2020-03-16</td>\n",
              "      <td>2020-03-06</td>\n",
              "      <td>CA10</td>\n",
              "      <td>64982.589</td>\n",
              "      <td>43107.57</td>\n",
              "    </tr>\n",
              "    <tr>\n",
              "      <th>9777</th>\n",
              "      <td>50097</td>\n",
              "      <td>CA02</td>\n",
              "      <td>140106408</td>\n",
              "      <td>WAL-M corp</td>\n",
              "      <td>NaT</td>\n",
              "      <td>2020</td>\n",
              "      <td>2960618887</td>\n",
              "      <td>2020-06-03</td>\n",
              "      <td>2020-03-16</td>\n",
              "      <td>2020-03-06</td>\n",
              "      <td>CA10</td>\n",
              "      <td>64982.589</td>\n",
              "      <td>43107.57</td>\n",
              "    </tr>\n",
              "    <tr>\n",
              "      <th>9778</th>\n",
              "      <td>50098</td>\n",
              "      <td>CA02</td>\n",
              "      <td>140106408</td>\n",
              "      <td>WAL-M corp</td>\n",
              "      <td>NaT</td>\n",
              "      <td>2020</td>\n",
              "      <td>2960618888</td>\n",
              "      <td>2020-06-03</td>\n",
              "      <td>2020-03-16</td>\n",
              "      <td>2020-03-06</td>\n",
              "      <td>CA10</td>\n",
              "      <td>64982.589</td>\n",
              "      <td>43107.57</td>\n",
              "    </tr>\n",
              "  </tbody>\n",
              "</table>\n",
              "<p>9779 rows × 13 columns</p>\n",
              "</div>"
            ],
            "text/plain": [
              "      key_0 business_code cust_number     name_customer clear_date  \\\n",
              "0         3          CA02   140105686          SYSC llc        NaT   \n",
              "1         7          U001   200744019           TARG us        NaT   \n",
              "2        10          U001   200418007               AM         NaT   \n",
              "3        14          U001   200739534        OK systems        NaT   \n",
              "4        15          U001   200353024  DECA corporation        NaT   \n",
              "...     ...           ...         ...               ...        ...   \n",
              "9774  50094          CA02   140106408        WAL-M corp        NaT   \n",
              "9775  50095          CA02   140106408        WAL-M corp        NaT   \n",
              "9776  50096          CA02   140106408        WAL-M corp        NaT   \n",
              "9777  50097          CA02   140106408        WAL-M corp        NaT   \n",
              "9778  50098          CA02   140106408        WAL-M corp        NaT   \n",
              "\n",
              "      buisness_year      doc_id posting_date due_in_date baseline_create_date  \\\n",
              "0              2020  2960623488   2020-03-30  2020-04-10           2020-03-31   \n",
              "1              2020  1930659387   2020-03-19  2020-04-03           2020-03-19   \n",
              "2              2020  1930610806   2020-11-03  2020-03-26           2020-03-11   \n",
              "3              2020  1930788296   2020-04-15  2020-04-30           2020-04-15   \n",
              "4              2020  1930817482   2020-04-23  2020-04-26           2020-04-16   \n",
              "...             ...         ...          ...         ...                  ...   \n",
              "9774           2020  2960618884   2020-06-03  2020-03-16           2020-03-06   \n",
              "9775           2020  2960618885   2020-06-03  2020-03-16           2020-03-06   \n",
              "9776           2020  2960618886   2020-06-03  2020-03-16           2020-03-06   \n",
              "9777           2020  2960618887   2020-06-03  2020-03-16           2020-03-06   \n",
              "9778           2020  2960618888   2020-06-03  2020-03-16           2020-03-06   \n",
              "\n",
              "     cust_payment_terms  converted_usd  avg_delay  \n",
              "0                  CA10       2309.790   25140.88  \n",
              "1                  NAA8      11173.020    4114.68  \n",
              "2                  NAA8       3525.590   56564.84  \n",
              "3                  NAA8     121105.650   23214.39  \n",
              "4                  NAM2       3726.060    2583.95  \n",
              "...                 ...            ...        ...  \n",
              "9774               CA10      64982.589   43107.57  \n",
              "9775               CA10      64982.589   43107.57  \n",
              "9776               CA10      64982.589   43107.57  \n",
              "9777               CA10      64982.589   43107.57  \n",
              "9778               CA10      64982.589   43107.57  \n",
              "\n",
              "[9779 rows x 13 columns]"
            ]
          },
          "execution_count": 146,
          "metadata": {},
          "output_type": "execute_result"
        }
      ],
      "source": [
        "Final"
      ]
    },
    {
      "cell_type": "markdown",
      "id": "4sc27Uz-y-0O",
      "metadata": {
        "id": "4sc27Uz-y-0O"
      },
      "source": [
        "### Check for the Number of Rows and Columns in your \"Final\" dataframe "
      ]
    },
    {
      "cell_type": "code",
      "execution_count": 147,
      "id": "5iUXOIhzy_HR",
      "metadata": {
        "colab": {
          "base_uri": "https://localhost:8080/"
        },
        "id": "5iUXOIhzy_HR",
        "outputId": "5dff4b1f-65bf-4be5-e3aa-f3e424e0311e"
      },
      "outputs": [
        {
          "data": {
            "text/plain": [
              "(9779, 13)"
            ]
          },
          "execution_count": 147,
          "metadata": {},
          "output_type": "execute_result"
        }
      ],
      "source": [
        "Final.shape"
      ]
    },
    {
      "cell_type": "markdown",
      "id": "48886d2c",
      "metadata": {
        "id": "48886d2c"
      },
      "source": [
        "### Now, you need to do convert the below fields back into date and time format \n",
        "\n",
        "- Convert \"due_in_date\" into datetime format\n",
        "- Convert \"avg_delay\" into datetime format\n",
        "- Create a new column \"clear_date\" and store the sum of \"due_in_date\" and \"avg_delay\"\n",
        "- display the new \"clear_date\" column\n",
        "- Note - Code is given below, no need to change "
      ]
    },
    {
      "cell_type": "code",
      "execution_count": 148,
      "id": "243abc2d",
      "metadata": {
        "id": "243abc2d"
      },
      "outputs": [],
      "source": [
        "Final['clear_date'] = pd.to_datetime(Final['due_in_date']) + pd.to_timedelta(Final['avg_delay'], unit='s')"
      ]
    },
    {
      "cell_type": "markdown",
      "id": "9QcX_fAjIkYR",
      "metadata": {
        "id": "9QcX_fAjIkYR"
      },
      "source": [
        "### Display the \"clear_date\" column"
      ]
    },
    {
      "cell_type": "code",
      "execution_count": 149,
      "id": "740e1486",
      "metadata": {
        "colab": {
          "base_uri": "https://localhost:8080/"
        },
        "id": "740e1486",
        "outputId": "a2df0100-4cd3-44e5-9597-3a62a493e76b"
      },
      "outputs": [
        {
          "data": {
            "text/plain": [
              "0      2020-04-10 06:59:00.880\n",
              "1      2020-04-03 01:08:34.680\n",
              "2      2020-03-26 15:42:44.840\n",
              "3      2020-04-30 06:26:54.390\n",
              "4      2020-04-26 00:43:03.950\n",
              "                 ...          \n",
              "9774   2020-03-16 11:58:27.570\n",
              "9775   2020-03-16 11:58:27.570\n",
              "9776   2020-03-16 11:58:27.570\n",
              "9777   2020-03-16 11:58:27.570\n",
              "9778   2020-03-16 11:58:27.570\n",
              "Name: clear_date, Length: 9779, dtype: datetime64[ns]"
            ]
          },
          "execution_count": 149,
          "metadata": {},
          "output_type": "execute_result"
        }
      ],
      "source": [
        "Final['clear_date']"
      ]
    },
    {
      "cell_type": "markdown",
      "id": "MSkNLq6-z7rZ",
      "metadata": {
        "id": "MSkNLq6-z7rZ"
      },
      "source": [
        "### Convert the average delay into number of days format \n",
        "\n",
        "- Note - Formula = avg_delay//(24 * 3600)\n",
        "- Note - full code is given for this, no need to change "
      ]
    },
    {
      "cell_type": "code",
      "execution_count": 150,
      "id": "ce6b618a",
      "metadata": {
        "id": "ce6b618a"
      },
      "outputs": [],
      "source": [
        "Final['avg_delay'] = Final.apply(lambda row: row.avg_delay//(24 * 3600), axis = 1)"
      ]
    },
    {
      "cell_type": "markdown",
      "id": "wbBBZPjP0W7o",
      "metadata": {
        "id": "wbBBZPjP0W7o"
      },
      "source": [
        "### Display the \"avg_delay\" column "
      ]
    },
    {
      "cell_type": "code",
      "execution_count": 151,
      "id": "a494982f",
      "metadata": {
        "colab": {
          "base_uri": "https://localhost:8080/"
        },
        "id": "a494982f",
        "outputId": "3ed05ffe-dec2-4b32-e934-0cd513b7a8f8",
        "scrolled": true
      },
      "outputs": [
        {
          "data": {
            "text/plain": [
              "0       0.0\n",
              "1       0.0\n",
              "2       0.0\n",
              "3       0.0\n",
              "4       0.0\n",
              "       ... \n",
              "9774    0.0\n",
              "9775    0.0\n",
              "9776    0.0\n",
              "9777    0.0\n",
              "9778    0.0\n",
              "Name: avg_delay, Length: 9779, dtype: float64"
            ]
          },
          "execution_count": 151,
          "metadata": {},
          "output_type": "execute_result"
        }
      ],
      "source": [
        "Final['avg_delay']"
      ]
    },
    {
      "cell_type": "markdown",
      "id": "815d8811",
      "metadata": {
        "id": "815d8811"
      },
      "source": [
        "### Now you need to convert average delay column into bucket\n",
        "\n",
        "- Need to perform binning \n",
        "- create a list of bins i.e. bins= [0,15,30,45,60,100]\n",
        "- create a list of labels i.e. labels = ['0-15','16-30','31-45','46-60','Greatar than 60']\n",
        "- perform binning by using cut() function from \"Final\" dataframe\n",
        "\n",
        "\n",
        "- Please fill up the first two rows of the code"
      ]
    },
    {
      "cell_type": "code",
      "execution_count": 152,
      "id": "c797e4b5",
      "metadata": {
        "id": "c797e4b5"
      },
      "outputs": [],
      "source": [
        "\n",
        "bins= [0,15,30,45,60,100]\n",
        "labels =['0-15','16-30','31-45','46-60','Greatar than 60']\n",
        "Final['Aging Bucket'] = pd.cut(Final['avg_delay'], bins=bins, labels=labels, right=False)"
      ]
    },
    {
      "cell_type": "markdown",
      "id": "1c35725f",
      "metadata": {
        "id": "1c35725f"
      },
      "source": [
        "### Now you need to drop \"key_0\" and \"avg_delay\" columns from the \"Final\" Dataframe"
      ]
    },
    {
      "cell_type": "code",
      "execution_count": 153,
      "id": "b31bc6a3",
      "metadata": {
        "id": "b31bc6a3"
      },
      "outputs": [],
      "source": [
        "Final.drop(['key_0','avg_delay'],axis = 1, inplace=True)"
      ]
    },
    {
      "cell_type": "markdown",
      "id": "Ui-tyIvU0-5u",
      "metadata": {
        "id": "Ui-tyIvU0-5u"
      },
      "source": [
        "### Display the count of each categoty of new \"Aging Bucket\" column "
      ]
    },
    {
      "cell_type": "code",
      "execution_count": 154,
      "id": "a6e16218",
      "metadata": {
        "colab": {
          "base_uri": "https://localhost:8080/"
        },
        "id": "a6e16218",
        "outputId": "4319a723-0292-4ac0-9fe3-d4c7f224690e"
      },
      "outputs": [
        {
          "data": {
            "text/plain": [
              "0-15               9779\n",
              "16-30                 0\n",
              "31-45                 0\n",
              "46-60                 0\n",
              "Greatar than 60       0\n",
              "Name: Aging Bucket, dtype: int64"
            ]
          },
          "execution_count": 154,
          "metadata": {},
          "output_type": "execute_result"
        }
      ],
      "source": [
        "Final['Aging Bucket'].value_counts()"
      ]
    },
    {
      "cell_type": "markdown",
      "id": "kgYegy551GKJ",
      "metadata": {
        "id": "kgYegy551GKJ"
      },
      "source": [
        "### Display your final dataset with aging buckets "
      ]
    },
    {
      "cell_type": "code",
      "execution_count": 155,
      "id": "c4bc87ec",
      "metadata": {
        "colab": {
          "base_uri": "https://localhost:8080/",
          "height": 678
        },
        "id": "c4bc87ec",
        "outputId": "58a86138-e8df-49fc-d26d-df1215523f13"
      },
      "outputs": [
        {
          "data": {
            "text/html": [
              "<div>\n",
              "<style scoped>\n",
              "    .dataframe tbody tr th:only-of-type {\n",
              "        vertical-align: middle;\n",
              "    }\n",
              "\n",
              "    .dataframe tbody tr th {\n",
              "        vertical-align: top;\n",
              "    }\n",
              "\n",
              "    .dataframe thead th {\n",
              "        text-align: right;\n",
              "    }\n",
              "</style>\n",
              "<table border=\"1\" class=\"dataframe\">\n",
              "  <thead>\n",
              "    <tr style=\"text-align: right;\">\n",
              "      <th></th>\n",
              "      <th>business_code</th>\n",
              "      <th>cust_number</th>\n",
              "      <th>name_customer</th>\n",
              "      <th>clear_date</th>\n",
              "      <th>buisness_year</th>\n",
              "      <th>doc_id</th>\n",
              "      <th>posting_date</th>\n",
              "      <th>due_in_date</th>\n",
              "      <th>baseline_create_date</th>\n",
              "      <th>cust_payment_terms</th>\n",
              "      <th>converted_usd</th>\n",
              "      <th>Aging Bucket</th>\n",
              "    </tr>\n",
              "  </thead>\n",
              "  <tbody>\n",
              "    <tr>\n",
              "      <th>0</th>\n",
              "      <td>CA02</td>\n",
              "      <td>140105686</td>\n",
              "      <td>SYSC llc</td>\n",
              "      <td>2020-04-10 06:59:00.880</td>\n",
              "      <td>2020</td>\n",
              "      <td>2960623488</td>\n",
              "      <td>2020-03-30</td>\n",
              "      <td>2020-04-10</td>\n",
              "      <td>2020-03-31</td>\n",
              "      <td>CA10</td>\n",
              "      <td>2309.790</td>\n",
              "      <td>0-15</td>\n",
              "    </tr>\n",
              "    <tr>\n",
              "      <th>1</th>\n",
              "      <td>U001</td>\n",
              "      <td>200744019</td>\n",
              "      <td>TARG us</td>\n",
              "      <td>2020-04-03 01:08:34.680</td>\n",
              "      <td>2020</td>\n",
              "      <td>1930659387</td>\n",
              "      <td>2020-03-19</td>\n",
              "      <td>2020-04-03</td>\n",
              "      <td>2020-03-19</td>\n",
              "      <td>NAA8</td>\n",
              "      <td>11173.020</td>\n",
              "      <td>0-15</td>\n",
              "    </tr>\n",
              "    <tr>\n",
              "      <th>2</th>\n",
              "      <td>U001</td>\n",
              "      <td>200418007</td>\n",
              "      <td>AM</td>\n",
              "      <td>2020-03-26 15:42:44.840</td>\n",
              "      <td>2020</td>\n",
              "      <td>1930610806</td>\n",
              "      <td>2020-11-03</td>\n",
              "      <td>2020-03-26</td>\n",
              "      <td>2020-03-11</td>\n",
              "      <td>NAA8</td>\n",
              "      <td>3525.590</td>\n",
              "      <td>0-15</td>\n",
              "    </tr>\n",
              "    <tr>\n",
              "      <th>3</th>\n",
              "      <td>U001</td>\n",
              "      <td>200739534</td>\n",
              "      <td>OK systems</td>\n",
              "      <td>2020-04-30 06:26:54.390</td>\n",
              "      <td>2020</td>\n",
              "      <td>1930788296</td>\n",
              "      <td>2020-04-15</td>\n",
              "      <td>2020-04-30</td>\n",
              "      <td>2020-04-15</td>\n",
              "      <td>NAA8</td>\n",
              "      <td>121105.650</td>\n",
              "      <td>0-15</td>\n",
              "    </tr>\n",
              "    <tr>\n",
              "      <th>4</th>\n",
              "      <td>U001</td>\n",
              "      <td>200353024</td>\n",
              "      <td>DECA corporation</td>\n",
              "      <td>2020-04-26 00:43:03.950</td>\n",
              "      <td>2020</td>\n",
              "      <td>1930817482</td>\n",
              "      <td>2020-04-23</td>\n",
              "      <td>2020-04-26</td>\n",
              "      <td>2020-04-16</td>\n",
              "      <td>NAM2</td>\n",
              "      <td>3726.060</td>\n",
              "      <td>0-15</td>\n",
              "    </tr>\n",
              "    <tr>\n",
              "      <th>...</th>\n",
              "      <td>...</td>\n",
              "      <td>...</td>\n",
              "      <td>...</td>\n",
              "      <td>...</td>\n",
              "      <td>...</td>\n",
              "      <td>...</td>\n",
              "      <td>...</td>\n",
              "      <td>...</td>\n",
              "      <td>...</td>\n",
              "      <td>...</td>\n",
              "      <td>...</td>\n",
              "      <td>...</td>\n",
              "    </tr>\n",
              "    <tr>\n",
              "      <th>9774</th>\n",
              "      <td>CA02</td>\n",
              "      <td>140106408</td>\n",
              "      <td>WAL-M corp</td>\n",
              "      <td>2020-03-16 11:58:27.570</td>\n",
              "      <td>2020</td>\n",
              "      <td>2960618884</td>\n",
              "      <td>2020-06-03</td>\n",
              "      <td>2020-03-16</td>\n",
              "      <td>2020-03-06</td>\n",
              "      <td>CA10</td>\n",
              "      <td>64982.589</td>\n",
              "      <td>0-15</td>\n",
              "    </tr>\n",
              "    <tr>\n",
              "      <th>9775</th>\n",
              "      <td>CA02</td>\n",
              "      <td>140106408</td>\n",
              "      <td>WAL-M corp</td>\n",
              "      <td>2020-03-16 11:58:27.570</td>\n",
              "      <td>2020</td>\n",
              "      <td>2960618885</td>\n",
              "      <td>2020-06-03</td>\n",
              "      <td>2020-03-16</td>\n",
              "      <td>2020-03-06</td>\n",
              "      <td>CA10</td>\n",
              "      <td>64982.589</td>\n",
              "      <td>0-15</td>\n",
              "    </tr>\n",
              "    <tr>\n",
              "      <th>9776</th>\n",
              "      <td>CA02</td>\n",
              "      <td>140106408</td>\n",
              "      <td>WAL-M corp</td>\n",
              "      <td>2020-03-16 11:58:27.570</td>\n",
              "      <td>2020</td>\n",
              "      <td>2960618886</td>\n",
              "      <td>2020-06-03</td>\n",
              "      <td>2020-03-16</td>\n",
              "      <td>2020-03-06</td>\n",
              "      <td>CA10</td>\n",
              "      <td>64982.589</td>\n",
              "      <td>0-15</td>\n",
              "    </tr>\n",
              "    <tr>\n",
              "      <th>9777</th>\n",
              "      <td>CA02</td>\n",
              "      <td>140106408</td>\n",
              "      <td>WAL-M corp</td>\n",
              "      <td>2020-03-16 11:58:27.570</td>\n",
              "      <td>2020</td>\n",
              "      <td>2960618887</td>\n",
              "      <td>2020-06-03</td>\n",
              "      <td>2020-03-16</td>\n",
              "      <td>2020-03-06</td>\n",
              "      <td>CA10</td>\n",
              "      <td>64982.589</td>\n",
              "      <td>0-15</td>\n",
              "    </tr>\n",
              "    <tr>\n",
              "      <th>9778</th>\n",
              "      <td>CA02</td>\n",
              "      <td>140106408</td>\n",
              "      <td>WAL-M corp</td>\n",
              "      <td>2020-03-16 11:58:27.570</td>\n",
              "      <td>2020</td>\n",
              "      <td>2960618888</td>\n",
              "      <td>2020-06-03</td>\n",
              "      <td>2020-03-16</td>\n",
              "      <td>2020-03-06</td>\n",
              "      <td>CA10</td>\n",
              "      <td>64982.589</td>\n",
              "      <td>0-15</td>\n",
              "    </tr>\n",
              "  </tbody>\n",
              "</table>\n",
              "<p>9779 rows × 12 columns</p>\n",
              "</div>"
            ],
            "text/plain": [
              "     business_code cust_number     name_customer              clear_date  \\\n",
              "0             CA02   140105686          SYSC llc 2020-04-10 06:59:00.880   \n",
              "1             U001   200744019           TARG us 2020-04-03 01:08:34.680   \n",
              "2             U001   200418007               AM  2020-03-26 15:42:44.840   \n",
              "3             U001   200739534        OK systems 2020-04-30 06:26:54.390   \n",
              "4             U001   200353024  DECA corporation 2020-04-26 00:43:03.950   \n",
              "...            ...         ...               ...                     ...   \n",
              "9774          CA02   140106408        WAL-M corp 2020-03-16 11:58:27.570   \n",
              "9775          CA02   140106408        WAL-M corp 2020-03-16 11:58:27.570   \n",
              "9776          CA02   140106408        WAL-M corp 2020-03-16 11:58:27.570   \n",
              "9777          CA02   140106408        WAL-M corp 2020-03-16 11:58:27.570   \n",
              "9778          CA02   140106408        WAL-M corp 2020-03-16 11:58:27.570   \n",
              "\n",
              "      buisness_year      doc_id posting_date due_in_date baseline_create_date  \\\n",
              "0              2020  2960623488   2020-03-30  2020-04-10           2020-03-31   \n",
              "1              2020  1930659387   2020-03-19  2020-04-03           2020-03-19   \n",
              "2              2020  1930610806   2020-11-03  2020-03-26           2020-03-11   \n",
              "3              2020  1930788296   2020-04-15  2020-04-30           2020-04-15   \n",
              "4              2020  1930817482   2020-04-23  2020-04-26           2020-04-16   \n",
              "...             ...         ...          ...         ...                  ...   \n",
              "9774           2020  2960618884   2020-06-03  2020-03-16           2020-03-06   \n",
              "9775           2020  2960618885   2020-06-03  2020-03-16           2020-03-06   \n",
              "9776           2020  2960618886   2020-06-03  2020-03-16           2020-03-06   \n",
              "9777           2020  2960618887   2020-06-03  2020-03-16           2020-03-06   \n",
              "9778           2020  2960618888   2020-06-03  2020-03-16           2020-03-06   \n",
              "\n",
              "     cust_payment_terms  converted_usd Aging Bucket  \n",
              "0                  CA10       2309.790         0-15  \n",
              "1                  NAA8      11173.020         0-15  \n",
              "2                  NAA8       3525.590         0-15  \n",
              "3                  NAA8     121105.650         0-15  \n",
              "4                  NAM2       3726.060         0-15  \n",
              "...                 ...            ...          ...  \n",
              "9774               CA10      64982.589         0-15  \n",
              "9775               CA10      64982.589         0-15  \n",
              "9776               CA10      64982.589         0-15  \n",
              "9777               CA10      64982.589         0-15  \n",
              "9778               CA10      64982.589         0-15  \n",
              "\n",
              "[9779 rows x 12 columns]"
            ]
          },
          "execution_count": 155,
          "metadata": {},
          "output_type": "execute_result"
        }
      ],
      "source": [
        "Final"
      ]
    },
    {
      "cell_type": "markdown",
      "id": "Ji7AoDCB1L_x",
      "metadata": {
        "id": "Ji7AoDCB1L_x"
      },
      "source": [
        "### Store this dataframe into the .csv format"
      ]
    },
    {
      "cell_type": "code",
      "execution_count": 156,
      "id": "727d0b8d",
      "metadata": {
        "id": "727d0b8d"
      },
      "outputs": [],
      "source": [
        "Final.to_csv('Output.csv', index=False)"
      ]
    },
    {
      "cell_type": "code",
      "execution_count": 159,
      "id": "14daf361",
      "metadata": {},
      "outputs": [],
      "source": [
        "pickle.dump(regressorfinal, open('model.sav', 'wb'))"
      ]
    },
    {
      "cell_type": "markdown",
      "id": "FK0fabl61SkC",
      "metadata": {
        "id": "FK0fabl61SkC"
      },
      "source": [
        "# END OF THE PROJECT"
      ]
    }
  ],
  "metadata": {
    "colab": {
      "collapsed_sections": [
        "62633a84"
      ],
      "name": "HRC81148W_Sumit_Kulhari_prediction.ipynb",
      "provenance": []
    },
    "kernelspec": {
      "display_name": "Python 3",
      "language": "python",
      "name": "python3"
    },
    "language_info": {
      "codemirror_mode": {
        "name": "ipython",
        "version": 3
      },
      "file_extension": ".py",
      "mimetype": "text/x-python",
      "name": "python",
      "nbconvert_exporter": "python",
      "pygments_lexer": "ipython3",
      "version": "3.8.10"
    }
  },
  "nbformat": 4,
  "nbformat_minor": 5
}
